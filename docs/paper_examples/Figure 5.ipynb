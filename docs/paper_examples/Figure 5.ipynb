{
 "cells": [
  {
   "cell_type": "markdown",
   "metadata": {},
   "source": [
    "## Below is the code to re-create Figure 5\n",
    "\n",
    "### Topic: Making clusters with different IMFs"
   ]
  },
  {
   "cell_type": "code",
   "execution_count": 2,
   "metadata": {},
   "outputs": [
    {
     "name": "stderr",
     "output_type": "stream",
     "text": [
      "/Users/mwhosek/anaconda3/envs/astroconda/lib/python3.5/site-packages/pysynphot/locations.py:329: UserWarning: Extinction files not found in /Users/mwhosek/models/models_2019_07/cdbs/extinction\n",
      "  warnings.warn('Extinction files not found in %s' % (extdir, ))\n"
     ]
    }
   ],
   "source": [
    "# Import necessary packages. \n",
    "from popstar import synthetic, evolution, atmospheres, reddening, ifmr\n",
    "from popstar.imf import imf, multiplicity\n",
    "import numpy as np\n",
    "import pylab as py\n",
    "import pdb\n",
    "import os\n",
    "import pylab as py"
   ]
  },
  {
   "cell_type": "code",
   "execution_count": 3,
   "metadata": {},
   "outputs": [
    {
     "name": "stdout",
     "output_type": "stream",
     "text": [
      "Isochrone generation took 100.583023 s.\n",
      "Making photometry for isochrone: log(t) = 8.00  AKs = 0.00  dist = 10\n",
      "     Starting at:  2019-11-06 14:53:16.614233   Usually takes ~5 minutes\n",
      "Starting filter: nirc2,Kp   Elapsed time: 0.00 seconds\n",
      "Starting synthetic photometry\n",
      "M =   0.112 Msun  T =  3010 K  m_nirc2_Kp = 8.33\n",
      "M =   1.612 Msun  T =  7715 K  m_nirc2_Kp = 2.10\n",
      "M =   4.773 Msun  T = 13582 K  m_nirc2_Kp = -1.27\n",
      "M =   5.013 Msun  T = 10084 K  m_nirc2_Kp = -2.77\n",
      "M =   5.020 Msun  T =  4310 K  m_nirc2_Kp = -5.19\n",
      "M =   5.271 Msun  T =  4854 K  m_nirc2_Kp = -5.37\n",
      "M =   5.321 Msun  T =  3454 K  m_nirc2_Kp = -8.04\n",
      "M =   5.324 Msun  T = 26655 K  m_nirc2_Kp = -3.09\n",
      "M =   5.324 Msun  T = 192342 K  m_nirc2_Kp = 3.29\n",
      "      Time taken: 19.25 seconds\n"
     ]
    },
    {
     "name": "stderr",
     "output_type": "stream",
     "text": [
      "WARNING: VerifyWarning: Keyword name 'METAL_ACT' is greater than 8 characters or contains characters not allowed by the FITS standard; a HIERARCH card will be created. [astropy.io.fits.card]\n"
     ]
    }
   ],
   "source": [
    "# Build the isochrone for the cluster. We'll adopt an age of 100 Myr, \n",
    "# and a distance of 10 pc  with no extinction (so, we'll get absolute mags).\n",
    "# We'll use the MIST evolution models here.\n",
    "logAge = 8.0 # Age in log(years)\n",
    "AKs = 0 # Ks filter extinction in mags\n",
    "dist = 10 # distance in parsecs\n",
    "metallicity = 0 # metallicity in [M/H]\n",
    "atm_func = atmospheres.get_merged_atmosphere\n",
    "evo = evolution.MISTv1()\n",
    "filt_list = ['nirc2,Kp']\n",
    "\n",
    "iso_dir = 'iso_mist_r1/'\n",
    "\n",
    "if not os.path.exists(iso_dir):\n",
    "    os.mkdir(iso_dir)\n",
    "\n",
    "iso_imf = synthetic.IsochronePhot(logAge, AKs, dist, metallicity=metallicity,\n",
    "                                 evo_model=evo, atm_func=atm_func,\n",
    "                                  filters=filt_list,\n",
    "                                 iso_dir=iso_dir, mass_sampling=1)"
   ]
  },
  {
   "cell_type": "code",
   "execution_count": 4,
   "metadata": {},
   "outputs": [],
   "source": [
    "# Define two different IMFs between 0.1 - 150 M_sun: one ``normal'' from \n",
    "# Kroupa+01 and the other top-heavy from Hosek+19. We will include multiplicity\n",
    "# here.\n",
    "#\n",
    "# (technical note: Hosek+19 analysis only went down to ~2 M_sun, so here we are \n",
    "# assuming that the top-heavy IMF turns over at 0.5 M_sun,\n",
    "# like Kroupa+01, and then is consistent with Kroupa+01 below 0.5 M_sun. This is\n",
    "# not important for this example though)\n",
    "clust_multiplicity = multiplicity.MultiplicityUnresolved()\n",
    "\n",
    "massLimits = np.array([0.1, 0.5, 120])\n",
    "powers_kroupa = np.array([-1.3, -2.3])\n",
    "powers_theavy = np.array([-1.3, -1.7]) # top heavy\n",
    "trunc_kroupa = imf.IMF_broken_powerlaw(massLimits, powers_kroupa, \n",
    "                                       multiplicity=clust_multiplicity)\n",
    "trunc_theavy = imf.IMF_broken_powerlaw(massLimits, powers_theavy,\n",
    "                                      multiplicity=clust_multiplicity)"
   ]
  },
  {
   "cell_type": "code",
   "execution_count": 5,
   "metadata": {},
   "outputs": [
    {
     "name": "stderr",
     "output_type": "stream",
     "text": [
      "/Users/mwhosek/anaconda3/envs/astroconda/lib/python3.5/site-packages/astropy/table/column.py:965: RuntimeWarning: invalid value encountered in greater\n",
      "  return getattr(self.data, op)(other)\n",
      "/Users/mwhosek/anaconda3/envs/astroconda/lib/python3.5/site-packages/astropy/table/column.py:965: RuntimeWarning: invalid value encountered in less\n",
      "  return getattr(self.data, op)(other)\n",
      "/Users/mwhosek/anaconda3/envs/astroconda/lib/python3.5/site-packages/astropy/table/column.py:965: RuntimeWarning: invalid value encountered in greater_equal\n",
      "  return getattr(self.data, op)(other)\n"
     ]
    },
    {
     "name": "stdout",
     "output_type": "stream",
     "text": [
      "Found 75316 stars out of mass range\n",
      "Found 20427 companions out of stellar mass range\n",
      "Found 13990 stars out of mass range\n",
      "Found 19910 companions out of stellar mass range\n"
     ]
    }
   ],
   "source": [
    "# Make the clusters, using our IFMR. We'll adopt a mass of 10^6 M_sun\n",
    "my_ifmr = ifmr.IFMR()\n",
    "clust_mtot = 10**6\n",
    "\n",
    "clust_kroupa = synthetic.ResolvedCluster(iso_imf, trunc_kroupa, clust_mtot, ifmr=my_ifmr)\n",
    "clust_kroupa = clust_kroupa.star_systems\n",
    "\n",
    "clust_theavy = synthetic.ResolvedCluster(iso_imf, trunc_theavy, clust_mtot, ifmr=my_ifmr)\n",
    "clust_theavy = clust_theavy.star_systems"
   ]
  },
  {
   "cell_type": "code",
   "execution_count": 6,
   "metadata": {},
   "outputs": [],
   "source": [
    "# Make 2 panel plot: left panel showing Kp luminosity functions, the \n",
    "# right panel showing compact objects\n",
    "\n",
    "# Extra step to eliminate np.nans from the luminosity function; these are\n",
    "# systems that only contain compact objects\n",
    "good_k = np.where( np.isnan(clust_kroupa['m_nirc2_Kp']) == False)\n",
    "good_th = np.where( np.isnan(clust_theavy['m_nirc2_Kp']) == False)\n",
    "\n",
    "py.figure(figsize=(20,10))\n",
    "py.subplots_adjust(left=0.08)\n",
    "py.subplot(121)\n",
    "hist, bins, patch = py.hist(clust_kroupa['m_nirc2_Kp'][good_k], bins=30, histtype='step',\n",
    "                           linewidth=2, color='black', label='Kroupa+01')\n",
    "py.hist(clust_theavy['m_nirc2_Kp'][good_th], bins=bins, histtype='step',\n",
    "                           linewidth=2, color='red', label='Top-Heavy')\n",
    "py.xlabel('NIRC2 Kp (absolute mag)', fontsize=24)\n",
    "py.ylabel('N$_{stars}$', fontsize=24)\n",
    "py.tick_params(axis='both', labelsize=20)\n",
    "py.legend(loc=2, fontsize=20)\n",
    "py.gca().set_yscale('log')\n",
    "\n",
    "\n",
    "# For compact objects, let's look at the black hole mass function.\n",
    "# Note that we need to pull mass_current to get mass of black hole\n",
    "idx_k_bh = np.where(clust_kroupa['phase'] == 103)\n",
    "idx_th_bh = np.where(clust_theavy['phase'] == 103)\n",
    "\n",
    "py.subplot(122)\n",
    "hist, bins, patch = py.hist(clust_kroupa['mass_current'][idx_k_bh], bins=15, histtype='step',\n",
    "                           linewidth=2, color='black', label='Kroupa+01')\n",
    "py.hist(clust_theavy['mass_current'][idx_th_bh], bins=bins, histtype='step',\n",
    "                           linewidth=2, color='red', label='Top-Heavy')\n",
    "py.xlabel('Mass (M$_{\\odot}$)', fontsize=24)\n",
    "py.ylabel('N$_{stars}$', fontsize=24)\n",
    "py.tick_params(axis='both', labelsize=20)\n",
    "py.legend(loc=1, fontsize=20)\n",
    "py.gca().set_yscale('log')\n",
    "py.savefig('imf_comp.pdf', format='pdf')"
   ]
  },
  {
   "cell_type": "code",
   "execution_count": null,
   "metadata": {},
   "outputs": [],
   "source": []
  }
 ],
 "metadata": {
  "kernelspec": {
   "display_name": "Python 3",
   "language": "python",
   "name": "python3"
  },
  "language_info": {
   "codemirror_mode": {
    "name": "ipython",
    "version": 3
   },
   "file_extension": ".py",
   "mimetype": "text/x-python",
   "name": "python",
   "nbconvert_exporter": "python",
   "pygments_lexer": "ipython3",
   "version": "3.5.5"
  }
 },
 "nbformat": 4,
 "nbformat_minor": 2
}
