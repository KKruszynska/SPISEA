{
 "cells": [
  {
   "cell_type": "markdown",
   "metadata": {},
   "source": [
    "## Below is the code required to re-create Figure 2\n",
    "### Topic: Making HR-diagrams from isochrones of with different evolution models; Creating J - Kp isochrones using different extinction laws"
   ]
  },
  {
   "cell_type": "code",
   "execution_count": 1,
   "metadata": {},
   "outputs": [
    {
     "name": "stderr",
     "output_type": "stream",
     "text": [
      "/Users/mwhosek/anaconda3/envs/astroconda2/lib/python3.6/site-packages/pysynphot/locations.py:346: UserWarning: Extinction files not found in /Users/mwhosek/models/models_2019_07/cdbs/extinction\n",
      "  warnings.warn('Extinction files not found in %s' % (extdir, ))\n"
     ]
    }
   ],
   "source": [
    "# Import necessary packages. \n",
    "from popstar import synthetic, evolution, atmospheres, reddening, ifmr\n",
    "from popstar.imf import imf, multiplicity\n",
    "import numpy as np\n",
    "import pylab as py\n",
    "import pdb\n",
    "import os\n",
    "import pylab as py"
   ]
  },
  {
   "cell_type": "code",
   "execution_count": 2,
   "metadata": {},
   "outputs": [],
   "source": [
    "# Define isochrone parameters\n",
    "logAge = 6.70 # Age in log(years)\n",
    "AKs = 1.0 # Ks filter extinction in mags\n",
    "dist = 4000 # distance in parsecs\n",
    "metallicity = 0 # metallicity in [M/H]\n",
    "atm_func = atmospheres.get_merged_atmosphere\n",
    "\n",
    "# Define evolution models\n",
    "evo_merged = evolution.MergedBaraffePisaEkstromParsec()\n",
    "evo_mist = evolution.MISTv1(version=1.2) # Version 1.2 is the default\n",
    "evo_parsec = evolution.Parsec()\n",
    "\n",
    "# Define 3 extinction laws to explore: Cardelli+89, Nishiyama+09, Hosek+19\n",
    "redlaw = reddening.RedLawCardelli(3.1) # Rv = 3.1\n",
    "redlaw2 = reddening.RedLawNishiyama09()\n",
    "redlaw3 = reddening.RedLawHosek18b()\n",
    "    \n",
    "# Also specify filters for synthetic photometry (optional). Here we use \n",
    "# the HST WFC3-IR F127M, F139M, and F153M filters\n",
    "filt_list = ['nirc2,J', 'nirc2,Kp']\n",
    "\n",
    "# Define iso directories for each evolution model. This is important because\n",
    "# otherwise the isochrones will overwrite each other (evolution model is\n",
    "# not included in part of file name).\n",
    "iso_dir_merged = 'iso_merged_r1/'\n",
    "iso_dir_mist = 'iso_mist_r1/'\n",
    "iso_dir_parsec = 'iso_parsec_r1/'\n",
    "\n",
    "# Make isochrone directories, if they don't already exist\n",
    "arr = [iso_dir_merged, iso_dir_mist, iso_dir_parsec]\n",
    "for ii in arr:\n",
    "    if not os.path.exists(ii):\n",
    "        os.mkdir(ii)"
   ]
  },
  {
   "cell_type": "code",
   "execution_count": 3,
   "metadata": {},
   "outputs": [],
   "source": [
    "# Make Isochrone objects. Note that is calculation will take a few minutes per \n",
    "# isochrone, unless they have been made already.\n",
    "# To speed up isochrone generation, we will set mass sampling = 3,\n",
    "# which says to generate every 3rd point that exists on the original\n",
    "# model isochrone\n",
    "iso_merged = synthetic.IsochronePhot(logAge, AKs, dist, metallicity=metallicity,\n",
    "                                 evo_model=evo_merged, atm_func=atm_func,\n",
    "                                 filters=filt_list, red_law=redlaw,\n",
    "                                 iso_dir=iso_dir_merged, mass_sampling=3)\n",
    "\n",
    "iso_mist = synthetic.IsochronePhot(logAge, AKs, dist, metallicity=metallicity,\n",
    "                                 evo_model=evo_mist, atm_func=atm_func,\n",
    "                                  filters=filt_list, red_law=redlaw,\n",
    "                                 iso_dir=iso_dir_mist, mass_sampling=3)\n",
    "    \n",
    "iso_parsec = synthetic.IsochronePhot(logAge, AKs, dist, metallicity=metallicity,\n",
    "                                 evo_model=evo_parsec, atm_func=atm_func,\n",
    "                                 filters=filt_list, red_law=redlaw,\n",
    "                                 iso_dir=iso_dir_parsec, mass_sampling=3)\n"
   ]
  },
  {
   "cell_type": "code",
   "execution_count": 4,
   "metadata": {},
   "outputs": [],
   "source": [
    "# We'll also explore the effects of using different extinction laws, but \n",
    "# with the same total exitinction. Generate MIST isochrones for the other\n",
    "# extinction laws already defined. Put these in a separate iso_dir\n",
    "iso_dir_mist_r2 = 'iso_mist_r2/'\n",
    "iso_dir_mist_r3 = 'iso_mist_r3/'\n",
    "\n",
    "for ii in [iso_dir_mist_r2, iso_dir_mist_r3]:\n",
    "    if not os.path.exists(ii):\n",
    "        os.mkdir(ii)\n",
    "\n",
    "iso_mist_r2 = synthetic.IsochronePhot(logAge, AKs, dist, metallicity=metallicity,\n",
    "                                 evo_model=evo_mist, atm_func=atm_func,\n",
    "                                  filters=filt_list, red_law=redlaw2,\n",
    "                                 iso_dir=iso_dir_mist_r2, mass_sampling=3)\n",
    "\n",
    "iso_mist_r3 = synthetic.IsochronePhot(logAge, AKs, dist, metallicity=metallicity,\n",
    "                                 evo_model=evo_mist, atm_func=atm_func,\n",
    "                                  filters=filt_list, red_law=redlaw3,\n",
    "                                 iso_dir=iso_dir_mist_r3, mass_sampling=3)"
   ]
  },
  {
   "cell_type": "code",
   "execution_count": 5,
   "metadata": {},
   "outputs": [],
   "source": [
    "# Make 2-panel plot showing the impact of the choice of evolution models on the HR-diagram\n",
    "# and the choice of extinction law on the CMD\n",
    "\n",
    "# HRD model plot\n",
    "py.figure(figsize=(20,10))\n",
    "py.subplots_adjust(left=0.1)\n",
    "py.subplot(121)\n",
    "py.plot(np.log10(iso_merged.points['Teff']), np.log10(iso_merged.points['L']), 'b-',\n",
    "                label='Merged', linewidth=2)\n",
    "py.plot(np.log10(iso_mist.points['Teff']), np.log10(iso_mist.points['L']), 'k-',\n",
    "                label='MIST', linewidth=2)\n",
    "py.plot(np.log10(iso_parsec.points['Teff']), np.log10(iso_parsec.points['L']), 'r-',\n",
    "                label='Parsec', linewidth=2)\n",
    "py.xlabel('log(Teff) [K]', fontsize=24)\n",
    "py.ylabel('log(L) [W]', fontsize=24)\n",
    "py.gca().invert_xaxis()\n",
    "py.tick_params(axis='both', labelsize=20)\n",
    "py.legend(loc=3, fontsize=22)\n",
    "py.title('Changing Evolution Models', fontsize=28)\n",
    "\n",
    "# CMD Extinction plot\n",
    "py.subplot(122)\n",
    "py.plot(iso_mist.points['m_nirc2_J'] - iso_mist.points['m_nirc2_Kp'], \n",
    "        iso_mist.points['m_nirc2_J'], 'b-', label='C89', linewidth=2)\n",
    "py.plot(iso_mist_r2.points['m_nirc2_J'] - iso_mist_r2.points['m_nirc2_Kp'], \n",
    "        iso_mist_r2.points['m_nirc2_J'], 'k-', label='N09', linewidth=2)\n",
    "py.plot(iso_mist_r3.points['m_nirc2_J'] - iso_mist_r3.points['m_nirc2_Kp'], \n",
    "        iso_mist_r3.points['m_nirc2_J'], 'r-', label='H19', linewidth=2)\n",
    "py.xlabel('NIRC2 J - Kp (mag)', fontsize=24)\n",
    "py.ylabel('NIRC2 J (mag)', fontsize=24)\n",
    "py.gca().invert_yaxis()\n",
    "py.tick_params(axis='both', labelsize=20)\n",
    "py.legend(loc=3, fontsize=22)\n",
    "py.title('Changing Exinction Laws', fontsize=28)\n",
    "py.savefig('iso_comp.png')"
   ]
  },
  {
   "cell_type": "code",
   "execution_count": null,
   "metadata": {},
   "outputs": [],
   "source": []
  }
 ],
 "metadata": {
  "kernelspec": {
   "display_name": "Python 3",
   "language": "python",
   "name": "python3"
  },
  "language_info": {
   "codemirror_mode": {
    "name": "ipython",
    "version": 3
   },
   "file_extension": ".py",
   "mimetype": "text/x-python",
   "name": "python",
   "nbconvert_exporter": "python",
   "pygments_lexer": "ipython3",
   "version": "3.6.9"
  }
 },
 "nbformat": 4,
 "nbformat_minor": 2
}
