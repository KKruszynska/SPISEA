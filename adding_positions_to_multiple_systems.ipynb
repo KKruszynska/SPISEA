{
 "cells": [
  {
   "cell_type": "code",
   "execution_count": 85,
   "metadata": {},
   "outputs": [],
   "source": [
    "# Import necessary packages. \n",
    "from popstar import synthetic, evolution, atmospheres, reddening, ifmr\n",
    "from popstar.imf import imf, multiplicity\n",
    "import numpy as np\n",
    "import pylab as py\n",
    "import pdb\n",
    "import os\n",
    "import pylab as py\n",
    "import astropy.modeling\n",
    "from astropy.table import Table, Column, MaskedColumn"
   ]
  },
  {
   "cell_type": "code",
   "execution_count": 46,
   "metadata": {},
   "outputs": [],
   "source": [
    "class MultiplicityResolvedDK(multiplicity.MultiplicityUnresolved):\n",
    "    \"\"\"\n",
    "    Sub-class of MultiplicityUnresolved that adds semimajor axis and eccentricity information for multiple objects\n",
    "    \"\"\"\n",
    "    def __init__(self, a_amp = 379.79953034, a_break = 4.90441533, a_slope1 = -1.80171539, \n",
    "                 a_slope2 = 4.23325571, a_std_slope = 0.83984154, a_std_intercept = 0.30922467, **kwargs):\n",
    "        super(MultiplicityResolvedDK, self).__init__(**kwargs)\n",
    "        self.a_amp = a_amp\n",
    "        self.a_break = a_break\n",
    "        self.a_slope1 = a_slope1\n",
    "        self.a_slope2 = a_slope2\n",
    "        self.a_std_slope = a_std_slope\n",
    "        self.a_std_intercept = a_std_intercept\n",
    "    \n",
    "    def log_semimajoraxis(self, mass):\n",
    "        \"\"\"\n",
    "        Generate the semimajor axis for a given mass. The mean and standard deviation of a given mass are determined \n",
    "        by fitting the data from fitting the semimajor axis data as a function of mass in table 1 of Deushane and Krauss 2013.\n",
    "        Then a random semimajor axis is drawn from a log normal distribution with that mean and standard deviation.\n",
    "        \"\"\"\n",
    "        a_mean_func = astropy.modeling.powerlaws.BrokenPowerLaw1D(amplitude=self.a_amp, x_break=self.a_break, alpha_1=self.a_slope1, alpha_2=self.a_slope2)\n",
    "        a_mean = np.log10(a_mean_func(mass)) #mean log(a)\n",
    "        a_std_func = astropy.modeling.models.Linear1D(slope=self.a_std_slope, intercept=self.a_std_intercept)\n",
    "        a_std = a_std_func(mass) #sigma_log(a)\n",
    "        \n",
    "        #The following are the definitions of mean and std for the lognormal as a function of the mean and std of the normal dist\n",
    "        lognorm_a_mean = np.log(a_mean**2/np.sqrt(a_mean**2 + a_std**2))\n",
    "        lognorm_a_std = np.sqrt(np.log(1+ a_std**2/a_mean**2))\n",
    "        log_semimajoraxis = np.random.lognormal(lognorm_a_mean, lognorm_a_std)\n",
    "        return log_semimajoraxis"
   ]
  },
  {
   "cell_type": "code",
   "execution_count": 90,
   "metadata": {},
   "outputs": [],
   "source": [
    "class ResolvedCluster_ResolvedMult(synthetic.ResolvedCluster):\n",
    "    \"\"\"\n",
    "    Sub-class of ResolvedCluster that adds semimajor axis info to the companions table\n",
    "    \"\"\"\n",
    "    \n",
    "    def __init__(self, iso, imf, cluster_mass,\n",
    "                 ifmr=None, verbose=False, seed=None):\n",
    "\n",
    "        synthetic.ResolvedCluster.__init__(self, iso, imf, cluster_mass, ifmr=ifmr, verbose=verbose,\n",
    "                                     seed=seed)        \n",
    "        if self.imf.make_multiples:\n",
    "            N_comp_tot = self.star_systems['N_companions'].sum()\n",
    "            \n",
    "            self.companions.add_column( Column(np.zeros(N_comp_tot, dtype=float), name='log_a') )\n",
    "        \n",
    "            for ii in range(len(self.companions)):\n",
    "                self.companions['log_a'][ii] = self.imf._multi_props.log_semimajoraxis(self.star_systems['mass'][self.companions['system_idx'][ii]])\n",
    "        return\n",
    "            "
   ]
  },
  {
   "cell_type": "code",
   "execution_count": 61,
   "metadata": {},
   "outputs": [],
   "source": [
    "# Fetch isochrone\n",
    "logAge = 6.70 # Age in log(years)\n",
    "AKs = 1.0 # Ks filter extinction in mags\n",
    "dist = 4000 # distance in parsecs\n",
    "metallicity = 0 # metallicity in [M/H]\n",
    "atm_func = atmospheres.get_merged_atmosphere\n",
    "evo_merged = evolution.MISTv1()\n",
    "redlaw = reddening.RedLawCardelli(3.1) # Rv = 3.1\n",
    "filt_list = ['nirc2,J', 'nirc2,Kp']\n",
    "\n",
    "iso_dir = 'iso_merged_r1/'\n",
    "\n",
    "if not os.path.exists(iso_dir):\n",
    "        os.mkdir(iso_dir)\n",
    "\n",
    "iso_merged = synthetic.IsochronePhot(logAge, AKs, dist, metallicity=metallicity,\n",
    "                                 evo_model=evo_merged, atm_func=atm_func,\n",
    "                                 filters=filt_list, red_law=redlaw,\n",
    "                                 iso_dir=iso_dir, mass_sampling=3)"
   ]
  },
  {
   "cell_type": "code",
   "execution_count": 79,
   "metadata": {},
   "outputs": [],
   "source": [
    "# Now we can make the cluster. \n",
    "clust_mtot = 10**3.\n",
    "clust_multiplicity = MultiplicityResolvedDK()\n",
    "\n",
    "# Multiplicity is defined in the IMF object\n",
    "clust_imf_Mult = imf.Kroupa_2001(multiplicity=clust_multiplicity)"
   ]
  },
  {
   "cell_type": "code",
   "execution_count": 91,
   "metadata": {},
   "outputs": [],
   "source": [
    "# Make clusters\n",
    "clust_Mult = ResolvedCluster_ResolvedMult(iso_merged, clust_imf_Mult, clust_mtot)\n",
    "\n",
    "clust_Mult_ss = clust_Mult.star_systems"
   ]
  },
  {
   "cell_type": "code",
   "execution_count": 93,
   "metadata": {},
   "outputs": [
    {
     "data": {
      "text/html": [
       "<i>Table length=754</i>\n",
       "<table id=\"table140480623851448\" class=\"table-striped table-bordered table-condensed\">\n",
       "<thead><tr><th>mass</th><th>isMultiple</th><th>systemMass</th><th>Teff</th><th>L</th><th>logg</th><th>isWR</th><th>mass_current</th><th>phase</th><th>m_nirc2_J</th><th>m_nirc2_Kp</th><th>N_companions</th></tr></thead>\n",
       "<thead><tr><th>float64</th><th>bool</th><th>float64</th><th>float64</th><th>float64</th><th>float64</th><th>float64</th><th>float64</th><th>float64</th><th>float64</th><th>float64</th><th>int64</th></tr></thead>\n",
       "<tr><td>0.6557696258545461</td><td>True</td><td>0.8893025916472839</td><td>3858.2956392523233</td><td>1.1144237162859726e+26</td><td>4.09100315927723</td><td>0.0</td><td>0.6557687154898467</td><td>-1.0</td><td>19.62067275016491</td><td>17.351697573471366</td><td>1</td></tr>\n",
       "<tr><td>0.7824912742051913</td><td>False</td><td>0.7824912742051913</td><td>4010.7439938519956</td><td>1.4852138447268071e+26</td><td>4.110388521354305</td><td>0.0</td><td>0.7824901467475576</td><td>-1.0</td><td>19.62648496512316</td><td>17.353770949947002</td><td>0</td></tr>\n",
       "<tr><td>0.3739725065076382</td><td>True</td><td>0.3911397667548108</td><td>3507.609546962667</td><td>4.953394821572928e+25</td><td>4.0335379149801955</td><td>0.0</td><td>0.3739720462833696</td><td>-1.0</td><td>20.624504620502123</td><td>18.36653532722497</td><td>1</td></tr>\n",
       "<tr><td>0.20123710189863236</td><td>True</td><td>0.38996933177760196</td><td>3220.927989376646</td><td>2.0331855851891858e+25</td><td>4.003332932241222</td><td>0.0</td><td>0.20123688492937977</td><td>-1.0</td><td>21.451854826177396</td><td>19.28922148526161</td><td>2</td></tr>\n",
       "<tr><td>0.11687188884615318</td><td>False</td><td>0.11687188884615318</td><td>3031.734801077475</td><td>9.713529866059517e+24</td><td>3.9754720919852637</td><td>0.0</td><td>0.1168717776575894</td><td>-1.0</td><td>22.16691002954095</td><td>20.049946037109308</td><td>0</td></tr>\n",
       "<tr><td>0.44164484080622557</td><td>False</td><td>0.44164484080622557</td><td>3602.988520672156</td><td>6.28803780127255e+25</td><td>4.048657980861444</td><td>0.0</td><td>0.4416442772348918</td><td>-1.0</td><td>20.40664949850092</td><td>18.134096732999346</td><td>0</td></tr>\n",
       "<tr><td>0.4960171672266016</td><td>True</td><td>0.9618991479767797</td><td>3672.249508004216</td><td>7.430217677080813e+25</td><td>4.060716118742023</td><td>0.0</td><td>0.49601651755464976</td><td>-1.0</td><td>19.547576134030834</td><td>17.268721744683717</td><td>1</td></tr>\n",
       "<tr><td>0.3883603037621908</td><td>False</td><td>0.3883603037621908</td><td>3528.4401294801787</td><td>5.234941605709963e+25</td><td>4.036835696619693</td><td>0.0</td><td>0.38835982165348887</td><td>-1.0</td><td>20.577178678707238</td><td>18.31565413561602</td><td>0</td></tr>\n",
       "<tr><td>0.4363144981000246</td><td>False</td><td>0.4363144981000246</td><td>3595.531038721608</td><td>6.182690848172327e+25</td><td>4.04747533332288</td><td>0.0</td><td>0.43631394267784196</td><td>-1.0</td><td>20.42370846198888</td><td>18.15225890969227</td><td>0</td></tr>\n",
       "<tr><td>0.11463766034957427</td><td>False</td><td>0.11463766034957427</td><td>3025.5257151731084</td><td>9.484228010803348e+24</td><td>3.9742913913896847</td><td>0.0</td><td>0.11463755172128696</td><td>-1.0</td><td>22.18892352005722</td><td>20.07355390546012</td><td>0</td></tr>\n",
       "<tr><td>...</td><td>...</td><td>...</td><td>...</td><td>...</td><td>...</td><td>...</td><td>...</td><td>...</td><td>...</td><td>...</td><td>...</td></tr>\n",
       "<tr><td>0.1253202893606726</td><td>False</td><td>0.1253202893606726</td><td>3055.4853820122594</td><td>1.0610813762780615e+25</td><td>3.980667298722695</td><td>0.0</td><td>0.12532016826858716</td><td>-1.0</td><td>22.084429094517517</td><td>19.961524109437615</td><td>0</td></tr>\n",
       "<tr><td>0.23034119201746406</td><td>False</td><td>0.23034119201746406</td><td>3269.678395101723</td><td>2.4367140468540195e+25</td><td>4.009805025647994</td><td>0.0</td><td>0.23034093642029452</td><td>-1.0</td><td>21.277662092885546</td><td>19.094409656704812</td><td>0</td></tr>\n",
       "<tr><td>0.2354387905596492</td><td>False</td><td>0.2354387905596492</td><td>3277.546544505922</td><td>2.5171895950028896e+25</td><td>4.009997582281962</td><td>0.0</td><td>0.23543852804165158</td><td>-1.0</td><td>21.249449310703586</td><td>19.06320466960938</td><td>0</td></tr>\n",
       "<tr><td>0.7082726353130522</td><td>True</td><td>1.3670813139706615</td><td>3919.1510377933487</td><td>1.2562739899399056e+26</td><td>4.099627262216516</td><td>0.0</td><td>0.7082716359904526</td><td>-1.0</td><td>19.079537834875104</td><td>16.790744964816067</td><td>1</td></tr>\n",
       "<tr><td>0.6955432401311398</td><td>False</td><td>0.6955432401311398</td><td>3904.377946698872</td><td>1.2217231142178525e+26</td><td>4.097553863341604</td><td>0.0</td><td>0.6955422623898574</td><td>-1.0</td><td>19.80816672577656</td><td>17.520470973108175</td><td>0</td></tr>\n",
       "<tr><td>0.7032860804491878</td><td>False</td><td>0.7032860804491878</td><td>3913.363894869532</td><td>1.242739188410027e+26</td><td>4.098815038454376</td><td>0.0</td><td>0.7032850895807544</td><td>-1.0</td><td>19.791919333195544</td><td>17.505006530453777</td><td>0</td></tr>\n",
       "<tr><td>0.27946314892547225</td><td>False</td><td>0.27946314892547225</td><td>3346.4113868899904</td><td>3.2157319555366054e+25</td><td>4.012769676154725</td><td>0.0</td><td>0.27946282609569656</td><td>-1.0</td><td>21.014003180511086</td><td>18.802165312547423</td><td>0</td></tr>\n",
       "<tr><td>0.34248464948076296</td><td>False</td><td>0.34248464948076296</td><td>3455.8050023914893</td><td>4.362126306706845e+25</td><td>4.025384864833048</td><td>0.0</td><td>0.3424842361581342</td><td>-1.0</td><td>20.739426256992605</td><td>18.494357251870916</td><td>0</td></tr>\n",
       "<tr><td>0.3496808874221614</td><td>True</td><td>0.8263483849734828</td><td>3467.64441810218</td><td>4.497254871238944e+25</td><td>4.027248163715438</td><td>0.0</td><td>0.34968046338062725</td><td>-1.0</td><td>19.81785142966394</td><td>17.586593534157128</td><td>2</td></tr>\n",
       "<tr><td>27.173777904750292</td><td>True</td><td>45.53764862184104</td><td>33328.60408395401</td><td>5.851849324749775e+31</td><td>3.714703819546683</td><td>0.0</td><td>26.025525636870388</td><td>0.0</td><td>10.878837292657602</td><td>9.684061769774</td><td>2</td></tr>\n",
       "</table>"
      ],
      "text/plain": [
       "<Table length=754>\n",
       "        mass        isMultiple ...     m_nirc2_Kp     N_companions\n",
       "      float64          bool    ...      float64          int64    \n",
       "------------------- ---------- ... ------------------ ------------\n",
       " 0.6557696258545461       True ... 17.351697573471366            1\n",
       " 0.7824912742051913      False ... 17.353770949947002            0\n",
       " 0.3739725065076382       True ...  18.36653532722497            1\n",
       "0.20123710189863236       True ...  19.28922148526161            2\n",
       "0.11687188884615318      False ... 20.049946037109308            0\n",
       "0.44164484080622557      False ... 18.134096732999346            0\n",
       " 0.4960171672266016       True ... 17.268721744683717            1\n",
       " 0.3883603037621908      False ...  18.31565413561602            0\n",
       " 0.4363144981000246      False ...  18.15225890969227            0\n",
       "0.11463766034957427      False ...  20.07355390546012            0\n",
       "                ...        ... ...                ...          ...\n",
       " 0.1253202893606726      False ... 19.961524109437615            0\n",
       "0.23034119201746406      False ... 19.094409656704812            0\n",
       " 0.2354387905596492      False ...  19.06320466960938            0\n",
       " 0.7082726353130522       True ... 16.790744964816067            1\n",
       " 0.6955432401311398      False ... 17.520470973108175            0\n",
       " 0.7032860804491878      False ... 17.505006530453777            0\n",
       "0.27946314892547225      False ... 18.802165312547423            0\n",
       "0.34248464948076296      False ... 18.494357251870916            0\n",
       " 0.3496808874221614       True ... 17.586593534157128            2\n",
       " 27.173777904750292       True ...     9.684061769774            2"
      ]
     },
     "execution_count": 93,
     "metadata": {},
     "output_type": "execute_result"
    }
   ],
   "source": [
    "clust_Mult_ss"
   ]
  },
  {
   "cell_type": "code",
   "execution_count": 92,
   "metadata": {},
   "outputs": [
    {
     "data": {
      "text/html": [
       "<i>Table length=248</i>\n",
       "<table id=\"table140480623852736\" class=\"table-striped table-bordered table-condensed\">\n",
       "<thead><tr><th>system_idx</th><th>mass</th><th>Teff</th><th>L</th><th>logg</th><th>isWR</th><th>mass_current</th><th>phase</th><th>m_nirc2_J</th><th>m_nirc2_Kp</th><th>log_a</th></tr></thead>\n",
       "<thead><tr><th>int64</th><th>float64</th><th>float64</th><th>float64</th><th>float64</th><th>float64</th><th>float64</th><th>float64</th><th>float64</th><th>float64</th><th>float64</th></tr></thead>\n",
       "<tr><td>0</td><td>0.23353296579273775</td><td>3274.6049017146765</td><td>2.4871024291494666e+25</td><td>4.009925591677168</td><td>0.0</td><td>0.23353270586221056</td><td>-1.0</td><td>21.2599971438805</td><td>19.074871189984705</td><td>0.9170966658530465</td></tr>\n",
       "<tr><td>2</td><td>0.01716726024717264</td><td>nan</td><td>nan</td><td>nan</td><td>nan</td><td>nan</td><td>nan</td><td>nan</td><td>nan</td><td>0.6505114574146387</td></tr>\n",
       "<tr><td>3</td><td>0.09716110994641776</td><td>nan</td><td>nan</td><td>nan</td><td>nan</td><td>nan</td><td>nan</td><td>nan</td><td>nan</td><td>0.007557930301736444</td></tr>\n",
       "<tr><td>3</td><td>0.09157111993255185</td><td>nan</td><td>nan</td><td>nan</td><td>nan</td><td>nan</td><td>nan</td><td>nan</td><td>nan</td><td>0.003650893146091805</td></tr>\n",
       "<tr><td>6</td><td>0.46588198075017806</td><td>3634.207196863892</td><td>6.793757075152018e+25</td><td>4.054033323811614</td><td>0.0</td><td>0.46588137894903553</td><td>-1.0</td><td>20.340417108238658</td><td>18.06393495816988</td><td>2.310832308210212</td></tr>\n",
       "<tr><td>11</td><td>0.5710574996834952</td><td>3761.9777480249395</td><td>9.107404798374258e+25</td><td>4.075375205888649</td><td>0.0</td><td>0.5710567293240439</td><td>-1.0</td><td>20.07859996642312</td><td>17.787824178735466</td><td>0.40382890650523984</td></tr>\n",
       "<tr><td>12</td><td>0.3374398637643659</td><td>3447.505205226059</td><td>4.267396997061992e+25</td><td>4.024078634596665</td><td>0.0</td><td>0.33743945795602187</td><td>-1.0</td><td>20.757838276260138</td><td>18.514836073886205</td><td>0.4771152111248648</td></tr>\n",
       "<tr><td>13</td><td>0.13486641962831425</td><td>3083.279734177188</td><td>1.1731130715860102e+25</td><td>3.9891114240105416</td><td>0.0</td><td>0.13486628656299568</td><td>-1.0</td><td>21.99390795783919</td><td>19.864599760970382</td><td>0.01187396361673475</td></tr>\n",
       "<tr><td>14</td><td>1.056643057133348</td><td>4396.371480885272</td><td>2.6852552875304078e+26</td><td>4.1439677304628635</td><td>0.0</td><td>1.0566414294075421</td><td>-1.0</td><td>19.08774252510609</td><td>16.93604686018419</td><td>0.44487407994220474</td></tr>\n",
       "<tr><td>16</td><td>0.7877765297916057</td><td>4017.560290544199</td><td>1.502885129774099e+26</td><td>4.111314675661065</td><td>0.0</td><td>0.7877753929350019</td><td>-1.0</td><td>19.616287661995024</td><td>17.34510993524368</td><td>2.0775202336181007</td></tr>\n",
       "<tr><td>...</td><td>...</td><td>...</td><td>...</td><td>...</td><td>...</td><td>...</td><td>...</td><td>...</td><td>...</td><td>...</td></tr>\n",
       "<tr><td>734</td><td>1.314265357877611</td><td>4802.131424159198</td><td>4.793889999037478e+26</td><td>4.141932325838918</td><td>0.0</td><td>1.314263223001919</td><td>-1.0</td><td>18.576518378754898</td><td>16.575731179077316</td><td>3.1653598077539375</td></tr>\n",
       "<tr><td>734</td><td>1.6004971861115533</td><td>5325.488541091075</td><td>1.3213795521233597e+27</td><td>4.024915507218167</td><td>0.0</td><td>1.600494339896131</td><td>-1.0</td><td>17.799203643792907</td><td>15.939840673462596</td><td>1.0137760098622373</td></tr>\n",
       "<tr><td>734</td><td>0.034221468910620466</td><td>nan</td><td>nan</td><td>nan</td><td>nan</td><td>nan</td><td>nan</td><td>nan</td><td>nan</td><td>2.5851084124590025</td></tr>\n",
       "<tr><td>735</td><td>0.6669543094455779</td><td>3871.199082245704</td><td>1.14412535116413e+26</td><td>4.092897219732753</td><td>0.0</td><td>0.6669533801737454</td><td>-1.0</td><td>19.868157060232644</td><td>17.577570417365976</td><td>1.9142614926542638</td></tr>\n",
       "<tr><td>743</td><td>0.9547256460222933</td><td>4242.922107045982</td><td>2.141957777758181e+26</td><td>4.136505024721056</td><td>0.0</td><td>0.9547242078136716</td><td>-1.0</td><td>19.294101671282505</td><td>17.08467521478515</td><td>0.01839187761580969</td></tr>\n",
       "<tr><td>747</td><td>0.6588086786576093</td><td>3861.74567586363</td><td>1.1220159993048416e+26</td><td>4.091570437001141</td><td>0.0</td><td>0.6588077631958156</td><td>-1.0</td><td>19.88524965878768</td><td>17.593839336138693</td><td>2.1980899588900074</td></tr>\n",
       "<tr><td>752</td><td>0.13531993871970882</td><td>3084.6001927280695</td><td>1.1784354913769573e+25</td><td>3.989512588872197</td><td>0.0</td><td>0.13531980508556396</td><td>-1.0</td><td>21.989607465125665</td><td>19.859995063441804</td><td>0.27607976479521557</td></tr>\n",
       "<tr><td>752</td><td>0.3413475588316126</td><td>3453.934234775735</td><td>4.34077439638734e+25</td><td>4.025090441586764</td><td>0.0</td><td>0.3413471472026976</td><td>-1.0</td><td>20.74357631134933</td><td>18.498973161907195</td><td>0.8046469943525795</td></tr>\n",
       "<tr><td>753</td><td>14.546265641025864</td><td>29109.12401485052</td><td>8.290247077329089e+30</td><td>4.075428352804446</td><td>0.0</td><td>14.518835383692286</td><td>0.0</td><td>12.875719011893207</td><td>11.670921155411497</td><td>5.1128053259505735e-05</td></tr>\n",
       "<tr><td>753</td><td>3.8176050760648854</td><td>14464.095734469127</td><td>7.66912638731142e+28</td><td>4.313909406962322</td><td>0.0</td><td>3.817568854718197</td><td>0.0</td><td>15.892223021788652</td><td>14.577412421899835</td><td>0.0003867069505214383</td></tr>\n",
       "</table>"
      ],
      "text/plain": [
       "<Table length=248>\n",
       "system_idx         mass         ...     m_nirc2_Kp             log_a         \n",
       "  int64          float64        ...      float64              float64        \n",
       "---------- -------------------- ... ------------------ ----------------------\n",
       "         0  0.23353296579273775 ... 19.074871189984705     0.9170966658530465\n",
       "         2  0.01716726024717264 ...                nan     0.6505114574146387\n",
       "         3  0.09716110994641776 ...                nan   0.007557930301736444\n",
       "         3  0.09157111993255185 ...                nan   0.003650893146091805\n",
       "         6  0.46588198075017806 ...  18.06393495816988      2.310832308210212\n",
       "        11   0.5710574996834952 ... 17.787824178735466    0.40382890650523984\n",
       "        12   0.3374398637643659 ... 18.514836073886205     0.4771152111248648\n",
       "        13  0.13486641962831425 ... 19.864599760970382    0.01187396361673475\n",
       "        14    1.056643057133348 ...  16.93604686018419    0.44487407994220474\n",
       "        16   0.7877765297916057 ...  17.34510993524368     2.0775202336181007\n",
       "       ...                  ... ...                ...                    ...\n",
       "       734    1.314265357877611 ... 16.575731179077316     3.1653598077539375\n",
       "       734   1.6004971861115533 ... 15.939840673462596     1.0137760098622373\n",
       "       734 0.034221468910620466 ...                nan     2.5851084124590025\n",
       "       735   0.6669543094455779 ... 17.577570417365976     1.9142614926542638\n",
       "       743   0.9547256460222933 ...  17.08467521478515    0.01839187761580969\n",
       "       747   0.6588086786576093 ... 17.593839336138693     2.1980899588900074\n",
       "       752  0.13531993871970882 ... 19.859995063441804    0.27607976479521557\n",
       "       752   0.3413475588316126 ... 18.498973161907195     0.8046469943525795\n",
       "       753   14.546265641025864 ... 11.670921155411497 5.1128053259505735e-05\n",
       "       753   3.8176050760648854 ... 14.577412421899835  0.0003867069505214383"
      ]
     },
     "execution_count": 92,
     "metadata": {},
     "output_type": "execute_result"
    }
   ],
   "source": [
    "clust_Mult.companions"
   ]
  },
  {
   "cell_type": "code",
   "execution_count": null,
   "metadata": {},
   "outputs": [],
   "source": []
  }
 ],
 "metadata": {
  "kernelspec": {
   "display_name": "Python 3",
   "language": "python",
   "name": "python3"
  },
  "language_info": {
   "codemirror_mode": {
    "name": "ipython",
    "version": 3
   },
   "file_extension": ".py",
   "mimetype": "text/x-python",
   "name": "python",
   "nbconvert_exporter": "python",
   "pygments_lexer": "ipython3",
   "version": "3.7.3"
  }
 },
 "nbformat": 4,
 "nbformat_minor": 2
}
