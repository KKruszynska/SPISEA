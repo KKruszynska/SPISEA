{
 "cells": [
  {
   "cell_type": "code",
   "execution_count": 15,
   "metadata": {},
   "outputs": [],
   "source": [
    "# Import necessary packages. \n",
    "from popstar import synthetic, evolution, atmospheres, reddening, ifmr\n",
    "from popstar.imf import imf, multiplicity\n",
    "import numpy as np\n",
    "import pylab as py\n",
    "import pdb\n",
    "import os\n",
    "import pylab as py\n",
    "import astropy.modeling\n",
    "from astropy.table import Table, Column, MaskedColumn\n",
    "from random import choice\n",
    "import time"
   ]
  },
  {
   "cell_type": "code",
   "execution_count": 32,
   "metadata": {},
   "outputs": [],
   "source": [
    "class MultiplicityResolvedDK(multiplicity.MultiplicityUnresolved):\n",
    "    \"\"\"\n",
    "    Sub-class of MultiplicityUnresolved that adds semimajor axis and eccentricity information for multiple objects\n",
    "    \"\"\"\n",
    "    def __init__(self, a_amp = 379.79953034, a_break = 4.90441533, a_slope1 = -1.80171539, \n",
    "                 a_slope2 = 4.23325571, a_std_slope = 1.19713084, a_std_intercept = 1.28974264, **kwargs):\n",
    "        super(MultiplicityResolvedDK, self).__init__(**kwargs)\n",
    "        self.a_amp = a_amp\n",
    "        self.a_break = a_break\n",
    "        self.a_slope1 = a_slope1\n",
    "        self.a_slope2 = a_slope2\n",
    "        self.a_std_slope = a_std_slope\n",
    "        self.a_std_intercept = a_std_intercept\n",
    "    \n",
    "    def log_semimajoraxis(self, mass):\n",
    "        \"\"\"\n",
    "        Generate the semimajor axis for a given mass. The mean and standard deviation of a given mass are determined \n",
    "        by fitting the data from fitting the semimajor axis data as a function of mass in table 1 of Duchene and Krauss 2013.\n",
    "        Then a random semimajor axis is drawn from a log normal distribution with that mean and standard deviation.\n",
    "        \"\"\"\n",
    "        a_mean_func = astropy.modeling.powerlaws.BrokenPowerLaw1D(amplitude=self.a_amp, x_break=self.a_break, alpha_1=self.a_slope1, alpha_2=self.a_slope2)\n",
    "        log_a_mean = np.log10(a_mean_func(mass)) #mean log(a)\n",
    "        log_a_std_func = astropy.modeling.models.Linear1D(slope=self.a_std_slope, intercept=self.a_std_intercept)\n",
    "        log_a_std = log_a_std_func(np.log10(mass)) #sigma_log(a)\n",
    "        if mass >= 2.9:\n",
    "            log_a_std = log_a_std_func(np.log10(2.9)) #sigma_log(a)\n",
    "        \n",
    "        log_semimajoraxis = np.random.normal(log_a_mean, log_a_std)\n",
    "        while 10**log_semimajoraxis > 2000: #AU\n",
    "            log_semimajoraxis = np.random.normal(log_a_mean, log_a_std)\n",
    "            \n",
    "        return log_semimajoraxis\n",
    "    \n",
    "    def random_e(self, x):\n",
    "        \"\"\"\n",
    "        Generate random eccentricity from the inverse of the CDF where the PDF is f(e) = 2e from Duchene and Krauss 2013\n",
    "        \"\"\"\n",
    "        e = np.sqrt(x)\n",
    "        \n",
    "        return e\n",
    "    \n",
    "    def random_keplarian_parameters(self, x, y, z):\n",
    "        \"\"\"\n",
    "        Generate random incliniation and angles of binary system\n",
    "        \"\"\"\n",
    "        sign = np.array([choice([-1,1]) for i in range(len(x))])\n",
    "        x = sign*x\n",
    "        inclination = np.arccos(x)*180/np.pi #inclination angle in degrees\n",
    "        \n",
    "        Omega = 360*y\n",
    "        omega = 360*z\n",
    "        \n",
    "        return inclination, Omega, omega"
   ]
  },
  {
   "cell_type": "code",
   "execution_count": 3,
   "metadata": {},
   "outputs": [],
   "source": [
    "class ResolvedCluster_ResolvedMult(synthetic.ResolvedCluster):\n",
    "    \"\"\"\n",
    "    Sub-class of ResolvedCluster that adds semimajor axis info to the companions table\n",
    "    \n",
    "    Parameters\n",
    "    -----------\n",
    "    iso: isochrone object\n",
    "        PyPopStar isochrone object\n",
    "    \n",
    "    imf: imf object\n",
    "        PyPopStar IMF object\n",
    "\n",
    "    cluster_mass: float\n",
    "        Total initial mass of the cluster, in M_sun\n",
    "\n",
    "    ifmr: ifmr object or None\n",
    "        If ifmr object is defined, will create compact remnants\n",
    "        produced by the cluster at the given isochrone age. Otherwise,\n",
    "        no compact remnants are produced.\n",
    "\n",
    "    seed: int\n",
    "        If set to non-None, all random sampling will be seeded with the\n",
    "        specified seed, forcing identical output.\n",
    "        Default None\n",
    "\n",
    "    vebose: boolean\n",
    "        True for verbose output.\n",
    "    \"\"\"\n",
    "    \n",
    "    def __init__(self, iso, imf, cluster_mass,\n",
    "                 ifmr=None, verbose=False, seed=None):\n",
    "\n",
    "        synthetic.ResolvedCluster.__init__(self, iso, imf, cluster_mass, ifmr=ifmr, verbose=verbose,\n",
    "                                     seed=seed)        \n",
    "        if self.imf.make_multiples:\n",
    "            N_comp_tot = self.star_systems['N_companions'].sum()\n",
    "            \n",
    "            self.companions.add_column( Column(np.zeros(N_comp_tot, dtype=float), name='log_a', description = 'degrees') )\n",
    "            self.companions.add_column( Column(np.zeros(N_comp_tot, dtype=float), name='e') )\n",
    "            self.companions.add_column( Column(np.zeros(N_comp_tot, dtype=float), name='i') )\n",
    "            self.companions.add_column( Column(np.zeros(N_comp_tot, dtype=float), name='Omega') )\n",
    "            self.companions.add_column( Column(np.zeros(N_comp_tot, dtype=float), name='omega') )\n",
    "        \n",
    "            for ii in range(len(self.companions)):\n",
    "                self.companions['log_a'][ii] = self.imf._multi_props.log_semimajoraxis(self.star_systems['mass'][self.companions['system_idx'][ii]])\n",
    "            \n",
    "            self.companions['e'] = self.imf._multi_props.random_e(np.random.rand(N_comp_tot))\n",
    "            self.companions['i'], self.companions['Omega'], self.companions['omega'] = self.imf._multi_props.random_keplarian_parameters(np.random.rand(N_comp_tot),np.random.rand(N_comp_tot),np.random.rand(N_comp_tot))\n",
    "\n",
    "            \n",
    "        return\n",
    "            "
   ]
  },
  {
   "cell_type": "code",
   "execution_count": 4,
   "metadata": {},
   "outputs": [
    {
     "name": "stdout",
     "output_type": "stream",
     "text": [
      "Changing to logg=4.00 for T= 31319 logg=3.99\n",
      "Changing to logg=4.00 for T= 32012 logg=3.95\n",
      "Changing to logg=4.00 for T= 32586 logg=3.90\n",
      "Changing to logg=4.00 for T= 33107 logg=3.84\n",
      "Changing to logg=4.00 for T= 33284 logg=3.81\n",
      "Changing to logg=4.00 for T= 33336 logg=3.79\n",
      "Changing to logg=4.00 for T= 33406 logg=3.78\n",
      "Changing to logg=4.00 for T= 33350 logg=3.72\n",
      "Changing to logg=4.00 for T= 33249 logg=3.68\n",
      "Changing to logg=4.00 for T= 33013 logg=3.64\n",
      "Changing to logg=4.00 for T= 32774 logg=3.61\n",
      "Changing to logg=4.00 for T= 32504 logg=3.57\n",
      "Changing to logg=4.00 for T= 31785 logg=3.50\n",
      "Changing to logg=4.00 for T= 31100 logg=3.44\n",
      "Changing to logg=3.50 for T= 29991 logg=3.33\n",
      "Changing to logg=3.50 for T= 28921 logg=3.23\n",
      "Changing to logg=3.50 for T= 28170 logg=3.17\n",
      "Changing to logg=3.50 for T= 27430 logg=3.10\n",
      "Changing to logg=3.50 for T= 26705 logg=3.04\n",
      "Changing to logg=3.50 for T= 26477 logg=3.00\n",
      "Changing to logg=3.50 for T= 27177 logg=3.04\n",
      "Changing to logg=3.50 for T= 27919 logg=3.09\n",
      "Changing to logg=3.50 for T= 28631 logg=3.12\n",
      "Changing to logg=3.50 for T= 29305 logg=3.16\n",
      "Changing to logg=3.50 for T= 29949 logg=3.19\n",
      "Changing to logg=3.50 for T= 30313 logg=3.21\n",
      "Changing to logg=3.50 for T= 29783 logg=3.18\n",
      "Changing to logg=3.50 for T= 28972 logg=3.13\n",
      "Changing to logg=3.50 for T= 28073 logg=3.07\n",
      "Changing to logg=3.50 for T= 27195 logg=3.01\n",
      "Changing to logg=3.50 for T= 26351 logg=2.95\n",
      "Changing to logg=3.00 for T= 25537 logg=2.89\n",
      "Changing to logg=3.00 for T= 24760 logg=2.83\n",
      "Changing to logg=3.00 for T= 23990 logg=2.77\n",
      "Changing to logg=3.00 for T= 23236 logg=2.71\n",
      "Changing to logg=3.00 for T= 22503 logg=2.66\n",
      "Changing to logg=3.00 for T= 21794 logg=2.60\n",
      "Changing to logg=3.00 for T= 21113 logg=2.54\n",
      "Changing to logg=3.00 for T= 20633 logg=2.50\n",
      "Changing to logg=3.00 for T= 20159 logg=2.46\n",
      "Changing to logg=3.00 for T= 19684 logg=2.42\n",
      "Changing to logg=3.00 for T= 19219 logg=2.38\n",
      "Changing to logg=2.50 for T= 18764 logg=2.34\n",
      "Changing to logg=2.50 for T= 18319 logg=2.30\n",
      "Changing to logg=2.50 for T= 17884 logg=2.26\n",
      "Changing to logg=2.50 for T= 17460 logg=2.21\n",
      "Changing to logg=2.50 for T= 17045 logg=2.17\n",
      "Changing to logg=2.50 for T= 16639 logg=2.13\n",
      "Changing to logg=2.50 for T= 16243 logg=2.09\n",
      "Changing to logg=2.50 for T= 15858 logg=2.04\n",
      "Changing to logg=2.50 for T= 15487 logg=2.00\n",
      "Changing to logg=2.50 for T= 15124 logg=1.96\n",
      "Changing to logg=2.50 for T= 14770 logg=1.92\n",
      "Changing to logg=2.50 for T= 14424 logg=1.87\n",
      "Changing to logg=2.50 for T= 14086 logg=1.83\n",
      "Changing to logg=2.50 for T= 13755 logg=1.79\n",
      "Changing to logg=2.50 for T= 13432 logg=1.75\n",
      "Changing to logg=2.50 for T= 13116 logg=1.70\n",
      "Changing to logg=2.50 for T= 12808 logg=1.66\n",
      "Changing to logg=2.50 for T= 12507 logg=1.62\n",
      "Changing to logg=2.50 for T= 12213 logg=1.58\n",
      "Changing to logg=2.50 for T= 11925 logg=1.53\n",
      "Changing to logg=2.00 for T= 11645 logg=1.49\n",
      "Changing to logg=2.00 for T= 11384 logg=1.45\n",
      "Changing to logg=2.00 for T= 11131 logg=1.41\n",
      "Changing to logg=2.00 for T= 10882 logg=1.37\n",
      "Changing to logg=2.00 for T= 10640 logg=1.33\n",
      "Changing to logg=2.00 for T= 10402 logg=1.29\n",
      "Changing to logg=2.00 for T= 10170 logg=1.25\n",
      "Changing to logg=2.00 for T=  9943 logg=1.21\n",
      "Changing to logg=2.00 for T=  9721 logg=1.17\n",
      "Changing to logg=2.00 for T=  9504 logg=1.13\n",
      "Changing to logg=2.00 for T=  9290 logg=1.09\n",
      "Changing to logg=2.00 for T=  9082 logg=1.05\n",
      "Changing to logg=1.50 for T=  8878 logg=1.01\n",
      "Changing to logg=1.50 for T=  8679 logg=0.97\n",
      "Changing to logg=1.50 for T=  8484 logg=0.93\n",
      "Changing to logg=1.50 for T=  8293 logg=0.89\n",
      "Changing to logg=1.00 for T=  8106 logg=0.85\n",
      "Changing to logg=1.00 for T=  7923 logg=0.81\n",
      "Changing to logg=1.00 for T=  7744 logg=0.77\n",
      "Changing to logg=1.00 for T=  7569 logg=0.73\n",
      "Changing to logg=0.50 for T=  6593 logg=0.47\n",
      "Changing to logg=0.50 for T=  6486 logg=0.44\n",
      "Changing to logg=0.50 for T=  6404 logg=0.42\n",
      "Changing to logg=0.50 for T=  6323 logg=0.40\n",
      "Changing to logg=0.50 for T=  6241 logg=0.38\n",
      "Changing to logg=0.50 for T=  6161 logg=0.35\n",
      "Changing to logg=0.50 for T=  6080 logg=0.33\n",
      "Changing to logg=1.00 for T=  8198 logg=0.80\n",
      "Changing to logg=1.00 for T=  7987 logg=0.75\n",
      "Changing to logg=2.00 for T=  9238 logg=0.97\n",
      "Changing to logg=2.00 for T=  9270 logg=0.97\n",
      "Changing to logg=2.00 for T=  9438 logg=1.00\n",
      "Changing to logg=2.00 for T=  9595 logg=1.03\n",
      "Changing to logg=1.50 for T=  8960 logg=0.90\n",
      "Changing to logg=2.00 for T=  9138 logg=0.93\n",
      "Changing to logg=2.00 for T=  9341 logg=0.96\n",
      "Changing to logg=2.00 for T=  9631 logg=1.01\n",
      "Changing to logg=2.00 for T=  9982 logg=1.07\n",
      "Changing to logg=2.00 for T= 10260 logg=1.12\n",
      "Changing to logg=2.00 for T= 10561 logg=1.17\n",
      "Changing to logg=2.00 for T= 10820 logg=1.21\n",
      "Changing to logg=2.00 for T= 10863 logg=1.22\n",
      "Changing to logg=2.00 for T= 11143 logg=1.26\n",
      "Changing to logg=2.00 for T= 11347 logg=1.29\n",
      "Changing to logg=2.00 for T= 11638 logg=1.33\n",
      "Changing to logg=2.50 for T= 12058 logg=1.38\n",
      "Changing to logg=2.50 for T= 12487 logg=1.44\n",
      "Changing to logg=2.50 for T= 12939 logg=1.49\n",
      "Changing to logg=2.50 for T= 13588 logg=1.56\n",
      "Changing to logg=2.50 for T= 13585 logg=1.53\n",
      "Changing to logg=2.50 for T= 13691 logg=1.51\n",
      "Changing to logg=2.50 for T= 13618 logg=1.48\n",
      "Changing to logg=2.50 for T= 12430 logg=1.33\n",
      "Changing to logg=2.50 for T= 12241 logg=1.31\n",
      "Changing to logg=2.50 for T= 12156 logg=1.30\n",
      "Changing to logg=2.50 for T= 12077 logg=1.29\n",
      "Changing to logg=2.50 for T= 12095 logg=1.29\n",
      "Changing to logg=2.50 for T= 12116 logg=1.29\n",
      "Changing to logg=2.50 for T= 12128 logg=1.29\n",
      "Changing to logg=2.50 for T= 12123 logg=1.28\n",
      "Changing to logg=2.50 for T= 12125 logg=1.27\n",
      "Changing to logg=2.50 for T= 12150 logg=1.27\n",
      "Changing to logg=2.50 for T= 12218 logg=1.27\n",
      "Changing to logg=2.50 for T= 12257 logg=1.26\n",
      "Changing to logg=2.50 for T= 12286 logg=1.25\n",
      "Changing to logg=2.50 for T= 12337 logg=1.26\n",
      "Changing to logg=2.50 for T= 12393 logg=1.26\n",
      "Changing to logg=2.50 for T= 12434 logg=1.26\n",
      "Changing to logg=2.50 for T= 12484 logg=1.27\n",
      "Changing to logg=2.50 for T= 12521 logg=1.27\n",
      "Changing to logg=2.50 for T= 12560 logg=1.27\n",
      "Changing to logg=2.50 for T= 12596 logg=1.27\n",
      "Changing to logg=2.50 for T= 12636 logg=1.27\n",
      "Changing to logg=2.50 for T= 12742 logg=1.28\n",
      "Changing to logg=2.50 for T= 12849 logg=1.28\n",
      "Changing to logg=2.50 for T= 12954 logg=1.30\n",
      "Changing to logg=2.50 for T= 13049 logg=1.32\n",
      "Changing to logg=2.50 for T= 13117 logg=1.34\n",
      "Changing to logg=2.50 for T= 13123 logg=1.35\n",
      "Changing to logg=2.50 for T= 13131 logg=1.35\n",
      "Changing to logg=2.50 for T= 13144 logg=1.35\n",
      "Changing to logg=2.50 for T= 13152 logg=1.35\n",
      "Changing to logg=2.50 for T= 13158 logg=1.35\n",
      "Changing to logg=2.50 for T= 13163 logg=1.36\n",
      "Changing to logg=2.50 for T= 13167 logg=1.36\n",
      "Changing to logg=2.50 for T= 13170 logg=1.36\n",
      "Isochrone generation took 21.596727 s.\n",
      "Making photometry for isochrone: log(t) = 6.70  AKs = 1.00  dist = 4000\n",
      "     Starting at:  2020-07-03 13:57:00.449176   Usually takes ~5 minutes\n",
      "Starting filter: nirc2,J   Elapsed time: 0.00 seconds\n",
      "Starting synthetic photometry\n",
      "M =   0.111 Msun  T =  3015 K  m_nirc2_J = 22.23\n",
      "M =  38.556 Msun  T = 30313 K  m_nirc2_J = 9.63\n",
      "M =  44.085 Msun  T = 12077 K  m_nirc2_J = 6.53\n",
      "Starting filter: nirc2,Kp   Elapsed time: 2.54 seconds\n",
      "Starting synthetic photometry\n",
      "M =   0.111 Msun  T =  3015 K  m_nirc2_Kp = 20.11\n",
      "M =  38.556 Msun  T = 30313 K  m_nirc2_Kp = 8.43\n",
      "M =  44.085 Msun  T = 12077 K  m_nirc2_Kp = 5.18\n",
      "      Time taken: 5.75 seconds\n"
     ]
    }
   ],
   "source": [
    "# Fetch isochrone\n",
    "logAge = 6.70 # Age in log(years)\n",
    "AKs = 1.0 # Ks filter extinction in mags\n",
    "dist = 4000 # distance in parsecs\n",
    "metallicity = 0 # metallicity in [M/H]\n",
    "atm_func = atmospheres.get_merged_atmosphere\n",
    "evo_merged = evolution.MISTv1()\n",
    "redlaw = reddening.RedLawCardelli(3.1) # Rv = 3.1\n",
    "filt_list = ['nirc2,J', 'nirc2,Kp']\n",
    "\n",
    "iso_dir = 'iso_merged_r1/'\n",
    "\n",
    "if not os.path.exists(iso_dir):\n",
    "        os.mkdir(iso_dir)\n",
    "\n",
    "iso_merged = synthetic.IsochronePhot(logAge, AKs, dist, metallicity=metallicity,\n",
    "                                 evo_model=evo_merged, atm_func=atm_func,\n",
    "                                 filters=filt_list, red_law=redlaw,\n",
    "                                 iso_dir=iso_dir, mass_sampling=3)"
   ]
  },
  {
   "cell_type": "code",
   "execution_count": 33,
   "metadata": {},
   "outputs": [],
   "source": [
    "# Now we can make the cluster. \n",
    "clust_mtot = 10**4.\n",
    "clust_multiplicity = MultiplicityResolvedDK()\n",
    "\n",
    "# Multiplicity is defined in the IMF object\n",
    "clust_imf_Mult = imf.Kroupa_2001(multiplicity=clust_multiplicity)"
   ]
  },
  {
   "cell_type": "code",
   "execution_count": 34,
   "metadata": {},
   "outputs": [],
   "source": [
    "# Make clusters\n",
    "clust_Mult = ResolvedCluster_ResolvedMult(iso_merged, clust_imf_Mult, clust_mtot)\n",
    "\n",
    "clust_Mult_ss = clust_Mult.star_systems"
   ]
  },
  {
   "cell_type": "code",
   "execution_count": 35,
   "metadata": {},
   "outputs": [
    {
     "data": {
      "text/plain": [
       "(array([ 29.,  69., 133., 182., 230., 300., 341., 365., 419., 461.]),\n",
       " array([0.01249154, 0.11122359, 0.20995564, 0.30868769, 0.40741975,\n",
       "        0.5061518 , 0.60488385, 0.7036159 , 0.80234796, 0.90108001,\n",
       "        0.99981206]),\n",
       " <a list of 10 Patch objects>)"
      ]
     },
     "execution_count": 35,
     "metadata": {},
     "output_type": "execute_result"
    },
    {
     "data": {
      "image/png": "[encoded data removed]",
      "text/plain": [
       "<Figure size 432x288 with 1 Axes>"
      ]
     },
     "metadata": {
      "needs_background": "light"
     },
     "output_type": "display_data"
    }
   ],
   "source": [
    "py.hist(clust_Mult.companions['e'])"
   ]
  },
  {
   "cell_type": "code",
   "execution_count": 36,
   "metadata": {},
   "outputs": [
    {
     "data": {
      "text/plain": [
       "(array([ 63., 174., 285., 337., 407., 375., 363., 240., 202.,  83.]),\n",
       " array([  0.99402467,  18.60454543,  36.21506618,  53.82558693,\n",
       "         71.43610768,  89.04662844, 106.65714919, 124.26766994,\n",
       "        141.87819069, 159.48871144, 177.0992322 ]),\n",
       " <a list of 10 Patch objects>)"
      ]
     },
     "execution_count": 36,
     "metadata": {},
     "output_type": "execute_result"
    },
    {
     "data": {
      "image/png": "[encoded data removed]",
      "text/plain": [
       "<Figure size 432x288 with 1 Axes>"
      ]
     },
     "metadata": {
      "needs_background": "light"
     },
     "output_type": "display_data"
    }
   ],
   "source": [
    "py.hist(clust_Mult.companions['i'])"
   ]
  },
  {
   "cell_type": "code",
   "execution_count": 37,
   "metadata": {},
   "outputs": [],
   "source": [
    "def test_resolvedmult():  \n",
    "    # Fetch isochrone\n",
    "    logAge = 6.70 # Age in log(years)\n",
    "    AKs = 1.0 # Ks filter extinction in mags\n",
    "    dist = 4000 # distance in parsecs\n",
    "    metallicity = 0 # metallicity in [M/H]\n",
    "    atm_func = atmospheres.get_merged_atmosphere\n",
    "    evo_merged = evolution.MISTv1()\n",
    "    redlaw = reddening.RedLawCardelli(3.1) # Rv = 3.1\n",
    "    filt_list = ['nirc2,J', 'nirc2,Kp']\n",
    "    \n",
    "    startTime = time.time()\n",
    "\n",
    "    iso_merged = synthetic.IsochronePhot(logAge, AKs, dist, metallicity=metallicity,\n",
    "                                 evo_model=evo_merged, atm_func=atm_func,\n",
    "                                 filters=filt_list, red_law=redlaw,\n",
    "                                 iso_dir=iso_dir, mass_sampling=3)\n",
    "    print('Constructed isochrone: %d seconds' % (time.time() - startTime))\n",
    "    \n",
    "    # Now we can make the cluster. \n",
    "    clust_mtot = 10**4.\n",
    "    clust_multiplicity = MultiplicityResolvedDK()\n",
    "\n",
    "    # Multiplicity is defined in the IMF object\n",
    "    clust_imf_Mult = imf.Kroupa_2001(multiplicity=clust_multiplicity)\n",
    "    \n",
    "    # Make clusters\n",
    "    clust_Mult = ResolvedCluster_ResolvedMult(iso_merged, clust_imf_Mult, clust_mtot)\n",
    "\n",
    "    clust_Mult_ss = clust_Mult.star_systems\n",
    "    \n",
    "    print('Constructed cluster: %d seconds' % (time.time() - startTime))\n",
    "    \n",
    "    #check if columns were created\n",
    "    assert 'log_a' in clust_Mult.companions.colnames\n",
    "    assert 'e' in clust_Mult.companions.colnames\n",
    "    assert 'i' in clust_Mult.companions.colnames\n",
    "    assert 'Omega' in clust_Mult.companions.colnames\n",
    "    assert 'omega' in clust_Mult.companions.colnames\n",
    "    \n",
    "    #check values are in correct range\n",
    "    assert all(10**i<= 2000 and 10**i>= 0 for i in clust_Mult.companions['log_a']) #max separation is 1500 AU\n",
    "    assert all(i<= 1 and i>= 0 for i in clust_Mult.companions['e'])\n",
    "    assert all(i<= 180 and i>= 0 for i in clust_Mult.companions['i'])\n",
    "    assert all(i<= 360 and i>= 0 for i in clust_Mult.companions['omega'])\n",
    "    assert all(i<= 360 and i>= 0 for i in clust_Mult.companions['Omega'])\n",
    "    \n",
    "    #checks sign for inclination is being randomly genarated\n",
    "    assert any(i > 90 for i in clust_Mult.companions['i']) and any(i < 90 for i in clust_Mult.companions['i'])\n",
    "    \n",
    "    #checks eccentricity follows f(e) = 2e pdf\n",
    "    n, bins = np.histogram(clust_Mult.companions['e'], density = True)\n",
    "    bin_centers = 0.5*(bins[1:] + bins[:-1])\n",
    "    assert all(np.abs(i) < 0.3 for i in 2*bin_centers - n)\n",
    "    \n",
    "    #checks shape of inclination histogram is sin(i)\n",
    "    n, bins = np.histogram(clust_Mult.companions['i'])\n",
    "    bin_centers = 0.5*(bins[1:] + bins[:-1])\n",
    "    assert all(np.abs(i) < 0.1 for i in n/max(n) - np.sin(np.pi*bin_centers/180))\n",
    "    \n",
    "    return"
   ]
  },
  {
   "cell_type": "code",
   "execution_count": 38,
   "metadata": {},
   "outputs": [
    {
     "name": "stdout",
     "output_type": "stream",
     "text": [
      "Constructed isochrone: 0 seconds\n",
      "Constructed cluster: 1 seconds\n"
     ]
    }
   ],
   "source": [
    "test_resolvedmult()"
   ]
  },
  {
   "cell_type": "code",
   "execution_count": 19,
   "metadata": {},
   "outputs": [
    {
     "ename": "ValueError",
     "evalue": "The truth value of an array with more than one element is ambiguous. Use a.any() or a.all()",
     "output_type": "error",
     "traceback": [
      "\u001b[0;31m---------------------------------------------------------------------------\u001b[0m",
      "\u001b[0;31mValueError\u001b[0m                                Traceback (most recent call last)",
      "\u001b[0;32m<ipython-input-19-a549c11037f1>\u001b[0m in \u001b[0;36m<module>\u001b[0;34m\u001b[0m\n\u001b[1;32m      1\u001b[0m \u001b[0mtest\u001b[0m \u001b[0;34m=\u001b[0m\u001b[0mMultiplicityResolvedDK\u001b[0m\u001b[0;34m(\u001b[0m\u001b[0;34m)\u001b[0m\u001b[0;34m\u001b[0m\u001b[0;34m\u001b[0m\u001b[0m\n\u001b[1;32m      2\u001b[0m \u001b[0mtestmasses\u001b[0m \u001b[0;34m=\u001b[0m \u001b[0mnp\u001b[0m\u001b[0;34m.\u001b[0m\u001b[0marray\u001b[0m\u001b[0;34m(\u001b[0m\u001b[0;34m[\u001b[0m\u001b[0;36m1\u001b[0m\u001b[0;34m,\u001b[0m\u001b[0;36m2\u001b[0m\u001b[0;34m,\u001b[0m\u001b[0;36m3\u001b[0m\u001b[0;34m,\u001b[0m\u001b[0;36m10\u001b[0m\u001b[0;34m]\u001b[0m\u001b[0;34m)\u001b[0m\u001b[0;34m\u001b[0m\u001b[0;34m\u001b[0m\u001b[0m\n\u001b[0;32m----> 3\u001b[0;31m \u001b[0mtype\u001b[0m\u001b[0;34m(\u001b[0m\u001b[0mtest\u001b[0m\u001b[0;34m.\u001b[0m\u001b[0mlog_semimajoraxis\u001b[0m\u001b[0;34m(\u001b[0m\u001b[0mtestmasses\u001b[0m\u001b[0;34m)\u001b[0m\u001b[0;34m)\u001b[0m\u001b[0;34m\u001b[0m\u001b[0;34m\u001b[0m\u001b[0m\n\u001b[0m",
      "\u001b[0;32m<ipython-input-2-0de2fba05e15>\u001b[0m in \u001b[0;36mlog_semimajoraxis\u001b[0;34m(self, mass)\u001b[0m\n\u001b[1;32m     23\u001b[0m         \u001b[0mlog_a_std_func\u001b[0m \u001b[0;34m=\u001b[0m \u001b[0mastropy\u001b[0m\u001b[0;34m.\u001b[0m\u001b[0mmodeling\u001b[0m\u001b[0;34m.\u001b[0m\u001b[0mmodels\u001b[0m\u001b[0;34m.\u001b[0m\u001b[0mLinear1D\u001b[0m\u001b[0;34m(\u001b[0m\u001b[0mslope\u001b[0m\u001b[0;34m=\u001b[0m\u001b[0mself\u001b[0m\u001b[0;34m.\u001b[0m\u001b[0ma_std_slope\u001b[0m\u001b[0;34m,\u001b[0m \u001b[0mintercept\u001b[0m\u001b[0;34m=\u001b[0m\u001b[0mself\u001b[0m\u001b[0;34m.\u001b[0m\u001b[0ma_std_intercept\u001b[0m\u001b[0;34m)\u001b[0m\u001b[0;34m\u001b[0m\u001b[0;34m\u001b[0m\u001b[0m\n\u001b[1;32m     24\u001b[0m         \u001b[0mlog_a_std\u001b[0m \u001b[0;34m=\u001b[0m \u001b[0mlog_a_std_func\u001b[0m\u001b[0;34m(\u001b[0m\u001b[0mnp\u001b[0m\u001b[0;34m.\u001b[0m\u001b[0mlog10\u001b[0m\u001b[0;34m(\u001b[0m\u001b[0mmass\u001b[0m\u001b[0;34m)\u001b[0m\u001b[0;34m)\u001b[0m \u001b[0;31m#sigma_log(a)\u001b[0m\u001b[0;34m\u001b[0m\u001b[0;34m\u001b[0m\u001b[0m\n\u001b[0;32m---> 25\u001b[0;31m         \u001b[0;32mif\u001b[0m \u001b[0mmass\u001b[0m \u001b[0;34m>=\u001b[0m \u001b[0;36m2.9\u001b[0m\u001b[0;34m:\u001b[0m\u001b[0;34m\u001b[0m\u001b[0;34m\u001b[0m\u001b[0m\n\u001b[0m\u001b[1;32m     26\u001b[0m             \u001b[0mlog_a_std\u001b[0m \u001b[0;34m=\u001b[0m \u001b[0mlog_a_std_func\u001b[0m\u001b[0;34m(\u001b[0m\u001b[0mnp\u001b[0m\u001b[0;34m.\u001b[0m\u001b[0mlog10\u001b[0m\u001b[0;34m(\u001b[0m\u001b[0;36m2.9\u001b[0m\u001b[0;34m)\u001b[0m\u001b[0;34m)\u001b[0m \u001b[0;31m#sigma_log(a)\u001b[0m\u001b[0;34m\u001b[0m\u001b[0;34m\u001b[0m\u001b[0m\n\u001b[1;32m     27\u001b[0m \u001b[0;34m\u001b[0m\u001b[0m\n",
      "\u001b[0;31mValueError\u001b[0m: The truth value of an array with more than one element is ambiguous. Use a.any() or a.all()"
     ]
    }
   ],
   "source": [
    "test =MultiplicityResolvedDK()\n",
    "testmasses = np.array([1,2,3,10])\n",
    "type(test.log_semimajoraxis(testmasses))\n"
   ]
  },
  {
   "cell_type": "code",
   "execution_count": 20,
   "metadata": {},
   "outputs": [
    {
     "data": {
      "text/plain": [
       "False"
      ]
     },
     "execution_count": 20,
     "metadata": {},
     "output_type": "execute_result"
    }
   ],
   "source": [
    "all(10**i<= 1500 and 10**i>= 10 for i in clust_Mult.companions['log_a'])"
   ]
  },
  {
   "cell_type": "code",
   "execution_count": 21,
   "metadata": {},
   "outputs": [
    {
     "data": {
      "text/plain": [
       "-3.7253076592741268"
      ]
     },
     "execution_count": 21,
     "metadata": {},
     "output_type": "execute_result"
    }
   ],
   "source": [
    "min(clust_Mult.companions['log_a'])"
   ]
  },
  {
   "cell_type": "code",
   "execution_count": null,
   "metadata": {},
   "outputs": [],
   "source": []
  }
 ],
 "metadata": {
  "kernelspec": {
   "display_name": "Python 3",
   "language": "python",
   "name": "python3"
  },
  "language_info": {
   "codemirror_mode": {
    "name": "ipython",
    "version": 3
   },
   "file_extension": ".py",
   "mimetype": "text/x-python",
   "name": "python",
   "nbconvert_exporter": "python",
   "pygments_lexer": "ipython3",
   "version": "3.7.3"
  }
 },
 "nbformat": 4,
 "nbformat_minor": 2
}
