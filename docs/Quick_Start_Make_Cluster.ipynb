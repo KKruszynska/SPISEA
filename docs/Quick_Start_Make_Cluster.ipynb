{
 "cells": [
  {
   "cell_type": "markdown",
   "metadata": {},
   "source": [
    "# SPISEA Quick Start: Making A Cluster"
   ]
  },
  {
   "cell_type": "markdown",
   "metadata": {},
   "source": [
    "This is a quick start guide to making a synthetic cluster using the SPISEA package. The cluster is constructed using a user-specified isochrone and initial mass function (IMF). Detailed documentation is provided in the ReadtheDocs page (https://spisea.readthedocs.io/en/latest/index.html).\n",
    "\n",
    "Before starting this tutorial, it is assumed that SPISEA has been installed and the user's python path has been altered to include the SPISEA top-level directory"
   ]
  },
  {
   "cell_type": "code",
   "execution_count": 1,
   "metadata": {},
   "outputs": [
    {
     "name": "stderr",
     "output_type": "stream",
     "text": [
      "/Users/mwhosek/anaconda3/envs/astroconda2/lib/python3.6/site-packages/pysynphot/locations.py:346: UserWarning: Extinction files not found in /Users/mwhosek/models/models_2019_07/cdbs/extinction\n",
      "  warnings.warn('Extinction files not found in %s' % (extdir, ))\n"
     ]
    }
   ],
   "source": [
    "# Import necessary packages. \n",
    "from spisea import synthetic, evolution, atmospheres, reddening, ifmr\n",
    "from spisea.imf import imf, multiplicity\n",
    "import numpy as np\n",
    "import pylab as py\n",
    "import pdb\n",
    "import matplotlib.pyplot as plt\n",
    "%matplotlib inline"
   ]
  },
  {
   "cell_type": "markdown",
   "metadata": {},
   "source": [
    "#### Step 1: Make a SPISEA isochrone object"
   ]
  },
  {
   "cell_type": "markdown",
   "metadata": {},
   "source": [
    "The cluster is made from a theoretical isochrone at a given age, extinction, and distance from Earth. These parameters MUST be specified by the user. Other inputs (e.g. stellar evolution/atmosphere models, extinction law, and photometric filters used) are optional keywords. See documentation for all keywords and their default values.\n",
    "\n",
    "Important Note: The IsochronePhot class saves its output as a FITS table, which it will read on subsequent calls for the same isochrone rather than regenerating it from scratch. We highly recommend reading the \"Tips and Tricks: The IsochronePhot Object\" section of the Isochrone object documentation for details on how this process works.\n",
    "\n",
    "Here, we create a 5 Myr cluster isochrone at an extinction of 0.8 mags and distance of 4000 pc from Earth. "
   ]
  },
  {
   "cell_type": "code",
   "execution_count": 4,
   "metadata": {},
   "outputs": [
    {
     "name": "stdout",
     "output_type": "stream",
     "text": [
      "Changing to logg=4.00 for T= 31564 logg=3.99\n",
      "Changing to logg=4.00 for T= 31746 logg=3.98\n",
      "Changing to logg=4.00 for T= 31976 logg=3.97\n",
      "Changing to logg=4.00 for T= 32247 logg=3.95\n",
      "Changing to logg=4.00 for T= 32476 logg=3.94\n",
      "Changing to logg=4.00 for T= 32664 logg=3.92\n",
      "Changing to logg=4.00 for T= 32840 logg=3.90\n",
      "Changing to logg=4.00 for T= 33026 logg=3.88\n",
      "Changing to logg=4.00 for T= 33214 logg=3.86\n",
      "Changing to logg=4.00 for T= 33385 logg=3.84\n",
      "Changing to logg=4.00 for T= 33524 logg=3.82\n",
      "Changing to logg=4.00 for T= 33550 logg=3.82\n",
      "Changing to logg=4.00 for T= 33573 logg=3.81\n",
      "Changing to logg=4.00 for T= 33591 logg=3.81\n",
      "Changing to logg=4.00 for T= 33607 logg=3.80\n",
      "Changing to logg=4.00 for T= 33623 logg=3.79\n",
      "Changing to logg=4.00 for T= 33642 logg=3.79\n",
      "Changing to logg=4.00 for T= 33667 logg=3.78\n",
      "Changing to logg=4.00 for T= 33698 logg=3.77\n",
      "Changing to logg=4.00 for T= 33716 logg=3.76\n",
      "Changing to logg=4.00 for T= 33685 logg=3.74\n",
      "Changing to logg=4.00 for T= 33620 logg=3.71\n",
      "Changing to logg=4.00 for T= 33594 logg=3.70\n",
      "Changing to logg=4.00 for T= 33561 logg=3.68\n",
      "Changing to logg=4.00 for T= 33492 logg=3.67\n",
      "Changing to logg=4.00 for T= 33404 logg=3.66\n",
      "Changing to logg=4.00 for T= 33307 logg=3.64\n",
      "Changing to logg=4.00 for T= 33208 logg=3.63\n",
      "Changing to logg=4.00 for T= 33112 logg=3.61\n",
      "Changing to logg=4.00 for T= 33015 logg=3.60\n",
      "Changing to logg=4.00 for T= 32923 logg=3.59\n",
      "Changing to logg=4.00 for T= 32821 logg=3.57\n",
      "Changing to logg=4.00 for T= 32713 logg=3.56\n",
      "Changing to logg=4.00 for T= 32592 logg=3.55\n",
      "Changing to logg=4.00 for T= 32444 logg=3.53\n",
      "Changing to logg=4.00 for T= 32231 logg=3.52\n",
      "Changing to logg=4.00 for T= 32003 logg=3.50\n",
      "Changing to logg=4.00 for T= 31771 logg=3.48\n",
      "Changing to logg=4.00 for T= 31533 logg=3.46\n",
      "Changing to logg=4.00 for T= 31281 logg=3.44\n",
      "Changing to logg=4.00 for T= 31003 logg=3.41\n",
      "Changing to logg=3.50 for T= 30645 logg=3.37\n",
      "Changing to logg=3.50 for T= 30022 logg=3.32\n",
      "Changing to logg=3.50 for T= 29429 logg=3.26\n",
      "Changing to logg=3.50 for T= 29093 logg=3.23\n",
      "Changing to logg=3.50 for T= 28813 logg=3.21\n",
      "Changing to logg=3.50 for T= 28537 logg=3.18\n",
      "Changing to logg=3.50 for T= 28264 logg=3.16\n",
      "Changing to logg=3.50 for T= 27992 logg=3.13\n",
      "Changing to logg=3.50 for T= 27722 logg=3.11\n",
      "Changing to logg=3.50 for T= 27452 logg=3.09\n",
      "Changing to logg=3.50 for T= 27185 logg=3.06\n",
      "Changing to logg=3.50 for T= 26921 logg=3.04\n",
      "Changing to logg=3.50 for T= 26662 logg=3.02\n",
      "Changing to logg=3.50 for T= 26414 logg=2.99\n",
      "Changing to logg=3.50 for T= 26200 logg=2.97\n",
      "Changing to logg=3.50 for T= 26125 logg=2.96\n",
      "Changing to logg=3.50 for T= 26269 logg=2.96\n",
      "Changing to logg=3.50 for T= 26527 logg=2.98\n",
      "Changing to logg=3.50 for T= 26779 logg=3.00\n",
      "Changing to logg=3.50 for T= 27035 logg=3.01\n",
      "Changing to logg=3.50 for T= 27291 logg=3.03\n",
      "Changing to logg=3.50 for T= 27546 logg=3.04\n",
      "Changing to logg=3.50 for T= 27797 logg=3.06\n",
      "Changing to logg=3.50 for T= 28043 logg=3.07\n",
      "Changing to logg=3.50 for T= 28283 logg=3.08\n",
      "Changing to logg=3.50 for T= 28518 logg=3.10\n",
      "Changing to logg=3.50 for T= 28747 logg=3.11\n",
      "Changing to logg=3.50 for T= 28976 logg=3.12\n",
      "Changing to logg=3.50 for T= 29199 logg=3.13\n",
      "Changing to logg=3.50 for T= 29425 logg=3.14\n",
      "Changing to logg=3.50 for T= 29640 logg=3.15\n",
      "Changing to logg=3.50 for T= 29852 logg=3.16\n",
      "Changing to logg=3.50 for T= 30045 logg=3.17\n",
      "Changing to logg=3.50 for T= 30175 logg=3.18\n",
      "Changing to logg=3.50 for T= 30163 logg=3.18\n",
      "Changing to logg=3.50 for T= 29991 logg=3.17\n",
      "Changing to logg=3.50 for T= 29717 logg=3.15\n",
      "Changing to logg=3.50 for T= 29391 logg=3.13\n",
      "Changing to logg=3.50 for T= 29067 logg=3.12\n",
      "Changing to logg=3.50 for T= 28748 logg=3.10\n",
      "Changing to logg=3.50 for T= 28433 logg=3.08\n",
      "Changing to logg=3.50 for T= 28117 logg=3.06\n",
      "Changing to logg=3.50 for T= 27804 logg=3.04\n",
      "Changing to logg=3.50 for T= 27500 logg=3.02\n",
      "Changing to logg=3.50 for T= 27198 logg=3.00\n",
      "Changing to logg=3.50 for T= 26898 logg=2.97\n",
      "Changing to logg=3.50 for T= 26602 logg=2.95\n",
      "Changing to logg=3.50 for T= 26311 logg=2.93\n",
      "Changing to logg=3.50 for T= 26023 logg=2.91\n",
      "Changing to logg=3.00 for T= 25737 logg=2.89\n",
      "Changing to logg=3.00 for T= 25455 logg=2.86\n",
      "Changing to logg=3.00 for T= 25175 logg=2.84\n",
      "Changing to logg=3.00 for T= 24898 logg=2.82\n",
      "Changing to logg=3.00 for T= 24624 logg=2.80\n",
      "Changing to logg=3.00 for T= 24354 logg=2.78\n",
      "Changing to logg=3.00 for T= 24083 logg=2.76\n",
      "Changing to logg=3.00 for T= 23816 logg=2.74\n",
      "Changing to logg=3.00 for T= 23552 logg=2.72\n",
      "Changing to logg=3.00 for T= 23291 logg=2.70\n",
      "Changing to logg=3.00 for T= 23033 logg=2.68\n",
      "Changing to logg=3.00 for T= 22778 logg=2.66\n",
      "Changing to logg=3.00 for T= 22525 logg=2.64\n",
      "Changing to logg=3.00 for T= 22276 logg=2.62\n",
      "Changing to logg=3.00 for T= 22029 logg=2.60\n",
      "Changing to logg=3.00 for T= 21785 logg=2.58\n",
      "Changing to logg=3.00 for T= 21543 logg=2.56\n",
      "Changing to logg=3.00 for T= 21305 logg=2.54\n",
      "Changing to logg=3.00 for T= 21071 logg=2.52\n",
      "Changing to logg=3.00 for T= 20841 logg=2.50\n",
      "Changing to logg=3.00 for T= 20615 logg=2.48\n",
      "Changing to logg=3.00 for T= 20390 logg=2.46\n",
      "Changing to logg=3.00 for T= 20226 logg=2.45\n",
      "Changing to logg=3.00 for T= 20063 logg=2.43\n",
      "Changing to logg=3.00 for T= 19901 logg=2.42\n",
      "Changing to logg=3.00 for T= 19740 logg=2.41\n",
      "Changing to logg=3.00 for T= 19580 logg=2.39\n",
      "Changing to logg=3.00 for T= 19421 logg=2.38\n",
      "Changing to logg=3.00 for T= 19260 logg=2.36\n",
      "Changing to logg=3.00 for T= 19098 logg=2.35\n",
      "Changing to logg=2.50 for T= 18937 logg=2.33\n",
      "Changing to logg=2.50 for T= 18778 logg=2.32\n",
      "Changing to logg=2.50 for T= 18621 logg=2.31\n",
      "Changing to logg=2.50 for T= 18464 logg=2.29\n",
      "Changing to logg=2.50 for T= 18309 logg=2.28\n",
      "Changing to logg=2.50 for T= 18155 logg=2.26\n",
      "Changing to logg=2.50 for T= 18002 logg=2.25\n",
      "Changing to logg=2.50 for T= 17850 logg=2.23\n",
      "Changing to logg=2.50 for T= 17700 logg=2.22\n",
      "Changing to logg=2.50 for T= 17551 logg=2.20\n",
      "Changing to logg=2.50 for T= 17403 logg=2.19\n",
      "Changing to logg=2.50 for T= 17256 logg=2.18\n",
      "Changing to logg=2.50 for T= 17110 logg=2.16\n",
      "Changing to logg=2.50 for T= 16966 logg=2.15\n",
      "Changing to logg=2.50 for T= 16823 logg=2.13\n",
      "Changing to logg=2.50 for T= 16681 logg=2.12\n",
      "Changing to logg=2.50 for T= 16540 logg=2.10\n",
      "Changing to logg=2.50 for T= 16400 logg=2.09\n",
      "Changing to logg=2.50 for T= 16262 logg=2.07\n",
      "Changing to logg=2.50 for T= 16124 logg=2.06\n",
      "Changing to logg=2.50 for T= 15988 logg=2.04\n",
      "Changing to logg=2.50 for T= 15853 logg=2.03\n",
      "Changing to logg=2.50 for T= 15719 logg=2.01\n",
      "Changing to logg=2.50 for T= 15587 logg=2.00\n",
      "Changing to logg=2.50 for T= 15455 logg=1.98\n",
      "Changing to logg=2.50 for T= 15324 logg=1.97\n",
      "Changing to logg=2.50 for T= 15195 logg=1.95\n",
      "Changing to logg=2.50 for T= 15068 logg=1.94\n",
      "Changing to logg=2.50 for T= 14943 logg=1.92\n",
      "Changing to logg=2.50 for T= 14819 logg=1.91\n",
      "Changing to logg=2.50 for T= 14697 logg=1.89\n",
      "Changing to logg=2.50 for T= 14575 logg=1.88\n",
      "Changing to logg=2.50 for T= 14455 logg=1.86\n",
      "Changing to logg=2.50 for T= 14335 logg=1.85\n",
      "Changing to logg=2.50 for T= 14216 logg=1.83\n",
      "Changing to logg=2.50 for T= 14099 logg=1.82\n",
      "Changing to logg=2.50 for T= 13982 logg=1.80\n",
      "Changing to logg=2.50 for T= 13866 logg=1.79\n",
      "Changing to logg=2.50 for T= 13751 logg=1.77\n",
      "Changing to logg=2.50 for T= 13637 logg=1.76\n",
      "Changing to logg=2.50 for T= 13524 logg=1.74\n",
      "Changing to logg=2.50 for T= 13412 logg=1.73\n",
      "Changing to logg=2.50 for T= 13301 logg=1.71\n",
      "Changing to logg=2.50 for T= 13191 logg=1.70\n",
      "Changing to logg=2.50 for T= 13081 logg=1.68\n",
      "Changing to logg=2.50 for T= 12973 logg=1.67\n",
      "Changing to logg=2.50 for T= 12865 logg=1.65\n",
      "Changing to logg=2.50 for T= 12759 logg=1.64\n",
      "Changing to logg=2.50 for T= 12653 logg=1.62\n",
      "Changing to logg=2.50 for T= 12548 logg=1.61\n",
      "Changing to logg=2.50 for T= 12443 logg=1.59\n",
      "Changing to logg=2.50 for T= 12340 logg=1.58\n",
      "Changing to logg=2.50 for T= 12238 logg=1.56\n",
      "Changing to logg=2.50 for T= 12136 logg=1.55\n",
      "Changing to logg=2.50 for T= 12035 logg=1.53\n",
      "Changing to logg=2.50 for T= 11935 logg=1.52\n",
      "Changing to logg=2.50 for T= 11836 logg=1.50\n",
      "Changing to logg=2.00 for T= 11738 logg=1.49\n",
      "Changing to logg=2.00 for T= 11641 logg=1.47\n",
      "Changing to logg=2.00 for T= 11544 logg=1.46\n",
      "Changing to logg=2.00 for T= 11448 logg=1.45\n",
      "Changing to logg=2.00 for T= 11353 logg=1.43\n",
      "Changing to logg=2.00 for T= 11259 logg=1.42\n"
     ]
    },
    {
     "name": "stdout",
     "output_type": "stream",
     "text": [
      "Changing to logg=2.00 for T= 11165 logg=1.40\n",
      "Changing to logg=2.00 for T= 11072 logg=1.39\n",
      "Changing to logg=2.00 for T= 10981 logg=1.37\n",
      "Changing to logg=2.00 for T= 10889 logg=1.36\n",
      "Changing to logg=2.00 for T= 10804 logg=1.34\n",
      "Changing to logg=2.00 for T= 10720 logg=1.33\n",
      "Changing to logg=2.00 for T= 10636 logg=1.31\n",
      "Changing to logg=2.00 for T= 10554 logg=1.30\n",
      "Changing to logg=2.00 for T= 10471 logg=1.28\n",
      "Changing to logg=2.00 for T= 10390 logg=1.27\n",
      "Changing to logg=2.00 for T= 10309 logg=1.25\n",
      "Changing to logg=2.00 for T= 10229 logg=1.24\n",
      "Changing to logg=2.00 for T= 10149 logg=1.23\n",
      "Changing to logg=2.00 for T= 10070 logg=1.21\n",
      "Changing to logg=2.00 for T=  9992 logg=1.20\n",
      "Changing to logg=2.00 for T=  9914 logg=1.18\n",
      "Changing to logg=2.00 for T=  9837 logg=1.17\n",
      "Changing to logg=2.00 for T=  9760 logg=1.16\n",
      "Changing to logg=2.00 for T=  9684 logg=1.14\n",
      "Changing to logg=2.00 for T=  9609 logg=1.13\n",
      "Changing to logg=2.00 for T=  9534 logg=1.12\n",
      "Changing to logg=2.00 for T=  9460 logg=1.10\n",
      "Changing to logg=2.00 for T=  9386 logg=1.09\n",
      "Changing to logg=2.00 for T=  9313 logg=1.07\n",
      "Changing to logg=2.00 for T=  9241 logg=1.06\n",
      "Changing to logg=2.00 for T=  9169 logg=1.05\n",
      "Changing to logg=2.00 for T=  9097 logg=1.03\n",
      "Changing to logg=2.00 for T=  9027 logg=1.02\n",
      "Changing to logg=1.50 for T=  8956 logg=1.01\n",
      "Changing to logg=1.50 for T=  8887 logg=0.99\n",
      "Changing to logg=1.50 for T=  8817 logg=0.98\n",
      "Changing to logg=1.50 for T=  8749 logg=0.97\n",
      "Changing to logg=1.50 for T=  8681 logg=0.95\n",
      "Changing to logg=1.50 for T=  8613 logg=0.94\n",
      "Changing to logg=1.50 for T=  8546 logg=0.93\n",
      "Changing to logg=1.50 for T=  8480 logg=0.91\n",
      "Changing to logg=1.50 for T=  8414 logg=0.90\n",
      "Changing to logg=1.50 for T=  8348 logg=0.88\n",
      "Changing to logg=1.50 for T=  8283 logg=0.87\n",
      "Changing to logg=1.00 for T=  8218 logg=0.86\n",
      "Changing to logg=1.00 for T=  8154 logg=0.84\n",
      "Changing to logg=1.00 for T=  8091 logg=0.83\n",
      "Changing to logg=1.00 for T=  8028 logg=0.82\n",
      "Changing to logg=1.00 for T=  7965 logg=0.80\n",
      "Changing to logg=1.00 for T=  7903 logg=0.79\n",
      "Changing to logg=1.00 for T=  7841 logg=0.77\n",
      "Changing to logg=1.00 for T=  7780 logg=0.76\n",
      "Changing to logg=1.00 for T=  7720 logg=0.75\n",
      "Changing to logg=1.00 for T=  7659 logg=0.73\n",
      "Changing to logg=1.00 for T=  7599 logg=0.72\n",
      "Changing to logg=1.00 for T=  7540 logg=0.70\n",
      "Changing to logg=0.50 for T=  6702 logg=0.49\n",
      "Changing to logg=0.50 for T=  6649 logg=0.48\n",
      "Changing to logg=0.50 for T=  6597 logg=0.46\n",
      "Changing to logg=0.50 for T=  6545 logg=0.45\n",
      "Changing to logg=0.50 for T=  6494 logg=0.43\n",
      "Changing to logg=0.50 for T=  6443 logg=0.42\n",
      "Changing to logg=0.50 for T=  6392 logg=0.41\n",
      "Changing to logg=0.50 for T=  6342 logg=0.39\n",
      "Changing to logg=0.50 for T=  6292 logg=0.38\n",
      "Changing to logg=0.50 for T=  6243 logg=0.36\n",
      "Changing to logg=0.50 for T=  6194 logg=0.35\n",
      "Changing to logg=0.50 for T=  6145 logg=0.33\n",
      "Changing to logg=0.50 for T=  6097 logg=0.32\n",
      "Changing to logg=0.50 for T=  6050 logg=0.30\n",
      "Changing to logg=0.50 for T=  6002 logg=0.29\n",
      "Changing to logg=1.50 for T=  8833 logg=0.92\n",
      "Changing to logg=1.50 for T=  8825 logg=0.90\n",
      "Changing to logg=1.50 for T=  8866 logg=0.91\n",
      "Changing to logg=1.50 for T=  8794 logg=0.89\n",
      "Changing to logg=1.50 for T=  8707 logg=0.87\n",
      "Changing to logg=1.50 for T=  8703 logg=0.87\n",
      "Changing to logg=1.50 for T=  8719 logg=0.87\n",
      "Changing to logg=1.50 for T=  8684 logg=0.86\n",
      "Changing to logg=1.50 for T=  8749 logg=0.87\n",
      "Changing to logg=1.50 for T=  8705 logg=0.86\n",
      "Changing to logg=1.50 for T=  8729 logg=0.87\n",
      "Changing to logg=1.50 for T=  8808 logg=0.88\n",
      "Changing to logg=1.50 for T=  8853 logg=0.89\n",
      "Changing to logg=1.50 for T=  8961 logg=0.91\n",
      "Changing to logg=2.00 for T=  9039 logg=0.92\n",
      "Changing to logg=2.00 for T=  9104 logg=0.94\n",
      "Changing to logg=2.00 for T=  9150 logg=0.94\n",
      "Changing to logg=2.00 for T=  9224 logg=0.95\n",
      "Changing to logg=2.00 for T=  9207 logg=0.95\n",
      "Changing to logg=2.00 for T=  9225 logg=0.96\n",
      "Changing to logg=1.50 for T=  8578 logg=0.81\n",
      "Changing to logg=1.50 for T=  8658 logg=0.83\n",
      "Changing to logg=1.50 for T=  8740 logg=0.84\n",
      "Changing to logg=1.50 for T=  8804 logg=0.85\n",
      "Changing to logg=1.50 for T=  8933 logg=0.87\n",
      "Changing to logg=1.50 for T=  8978 logg=0.88\n",
      "Changing to logg=2.00 for T=  9059 logg=0.90\n",
      "Changing to logg=2.00 for T=  9189 logg=0.92\n",
      "Changing to logg=2.00 for T=  9258 logg=0.93\n",
      "Changing to logg=2.00 for T=  9394 logg=0.95\n",
      "Changing to logg=2.00 for T=  9493 logg=0.97\n",
      "Changing to logg=2.00 for T=  9628 logg=1.00\n",
      "Changing to logg=2.00 for T=  9800 logg=1.03\n",
      "Changing to logg=2.00 for T=  9939 logg=1.05\n",
      "Changing to logg=2.00 for T= 10051 logg=1.07\n",
      "Changing to logg=2.00 for T= 10163 logg=1.09\n",
      "Changing to logg=2.00 for T= 10308 logg=1.12\n",
      "Changing to logg=2.00 for T= 10415 logg=1.14\n",
      "Changing to logg=2.00 for T= 10528 logg=1.16\n",
      "Changing to logg=2.00 for T= 10636 logg=1.17\n",
      "Changing to logg=2.00 for T= 10757 logg=1.19\n",
      "Changing to logg=2.00 for T= 10845 logg=1.21\n",
      "Changing to logg=2.00 for T= 10919 logg=1.23\n",
      "Changing to logg=2.00 for T= 10893 logg=1.22\n",
      "Changing to logg=2.00 for T= 10927 logg=1.23\n",
      "Changing to logg=2.00 for T= 11007 logg=1.24\n",
      "Changing to logg=2.00 for T= 11177 logg=1.26\n",
      "Changing to logg=2.00 for T= 11244 logg=1.27\n",
      "Changing to logg=2.00 for T= 11365 logg=1.29\n",
      "Changing to logg=2.00 for T= 11391 logg=1.29\n",
      "Changing to logg=2.00 for T= 11500 logg=1.31\n",
      "Changing to logg=2.00 for T= 11641 logg=1.33\n",
      "Changing to logg=2.50 for T= 11771 logg=1.34\n",
      "Changing to logg=2.50 for T= 11862 logg=1.36\n",
      "Changing to logg=2.50 for T= 11999 logg=1.37\n",
      "Changing to logg=2.50 for T= 12174 logg=1.39\n",
      "Changing to logg=2.50 for T= 12359 logg=1.42\n",
      "Changing to logg=2.50 for T= 12518 logg=1.44\n",
      "Changing to logg=2.50 for T= 12702 logg=1.46\n",
      "Changing to logg=2.50 for T= 12890 logg=1.48\n",
      "Changing to logg=2.50 for T= 13080 logg=1.50\n",
      "Changing to logg=2.50 for T= 13265 logg=1.53\n",
      "Changing to logg=2.50 for T= 13464 logg=1.55\n",
      "Changing to logg=2.50 for T= 13693 logg=1.57\n",
      "Changing to logg=2.50 for T= 13958 logg=1.60\n",
      "Changing to logg=2.50 for T= 14285 logg=1.63\n",
      "Changing to logg=2.50 for T= 14293 logg=1.62\n",
      "Changing to logg=2.50 for T= 14311 logg=1.61\n",
      "Changing to logg=2.50 for T= 14338 logg=1.61\n",
      "Changing to logg=2.50 for T= 14417 logg=1.60\n",
      "Changing to logg=2.50 for T= 14454 logg=1.59\n",
      "Changing to logg=2.50 for T= 14556 logg=1.59\n",
      "Changing to logg=2.50 for T= 14641 logg=1.59\n",
      "Changing to logg=2.50 for T= 14610 logg=1.58\n",
      "Changing to logg=2.50 for T= 14522 logg=1.56\n",
      "Changing to logg=2.50 for T= 14957 logg=1.62\n",
      "Changing to logg=2.50 for T= 14952 logg=1.62\n",
      "Changing to logg=2.50 for T= 14948 logg=1.62\n",
      "Changing to logg=2.50 for T= 14943 logg=1.62\n",
      "Changing to logg=2.50 for T= 14937 logg=1.62\n",
      "Changing to logg=2.50 for T= 14931 logg=1.62\n",
      "Changing to logg=2.50 for T= 14924 logg=1.62\n",
      "Changing to logg=2.50 for T= 14916 logg=1.62\n",
      "Changing to logg=2.50 for T= 14888 logg=1.61\n",
      "Changing to logg=2.50 for T= 14853 logg=1.61\n",
      "Changing to logg=2.50 for T= 14817 logg=1.61\n",
      "Changing to logg=2.50 for T= 14783 logg=1.60\n",
      "Changing to logg=2.50 for T= 14760 logg=1.60\n",
      "Changing to logg=2.50 for T= 14741 logg=1.60\n",
      "Changing to logg=2.50 for T= 14726 logg=1.59\n",
      "Changing to logg=2.50 for T= 14710 logg=1.59\n",
      "Changing to logg=2.50 for T= 14692 logg=1.59\n",
      "Changing to logg=2.50 for T= 14673 logg=1.59\n",
      "Changing to logg=2.50 for T= 14653 logg=1.58\n",
      "Changing to logg=2.50 for T= 14633 logg=1.58\n",
      "Changing to logg=2.50 for T= 14612 logg=1.58\n",
      "Changing to logg=2.50 for T= 14591 logg=1.57\n",
      "Changing to logg=2.50 for T= 14571 logg=1.57\n",
      "Changing to logg=2.50 for T= 14552 logg=1.57\n",
      "Changing to logg=2.50 for T= 14533 logg=1.56\n",
      "Changing to logg=2.50 for T= 14515 logg=1.56\n",
      "Changing to logg=2.50 for T= 14498 logg=1.56\n",
      "Changing to logg=2.50 for T= 14482 logg=1.55\n",
      "Changing to logg=2.50 for T= 14468 logg=1.55\n",
      "Changing to logg=2.50 for T= 14457 logg=1.55\n",
      "Changing to logg=2.50 for T= 14447 logg=1.54\n",
      "Changing to logg=2.50 for T= 14438 logg=1.54\n",
      "Changing to logg=2.50 for T= 14470 logg=1.54\n",
      "Changing to logg=2.50 for T= 14479 logg=1.53\n",
      "Changing to logg=2.50 for T= 14461 logg=1.52\n",
      "Changing to logg=2.50 for T= 14442 logg=1.51\n",
      "Changing to logg=2.50 for T= 14426 logg=1.51\n",
      "Changing to logg=2.50 for T= 14404 logg=1.50\n",
      "Changing to logg=2.50 for T= 14392 logg=1.50\n",
      "Changing to logg=2.50 for T= 14380 logg=1.50\n",
      "Changing to logg=2.50 for T= 14379 logg=1.49\n",
      "Changing to logg=2.50 for T= 14372 logg=1.49\n"
     ]
    },
    {
     "name": "stdout",
     "output_type": "stream",
     "text": [
      "Changing to logg=2.50 for T= 14367 logg=1.49\n",
      "Changing to logg=2.50 for T= 14364 logg=1.49\n",
      "Changing to logg=2.50 for T= 14361 logg=1.49\n",
      "Changing to logg=2.50 for T= 14353 logg=1.49\n",
      "Changing to logg=2.50 for T= 14341 logg=1.49\n",
      "Changing to logg=2.50 for T= 14329 logg=1.49\n",
      "Changing to logg=2.50 for T= 14323 logg=1.49\n",
      "Changing to logg=2.50 for T= 14321 logg=1.49\n",
      "Changing to logg=2.50 for T= 14314 logg=1.49\n",
      "Changing to logg=2.50 for T= 14306 logg=1.49\n",
      "Changing to logg=2.50 for T= 14294 logg=1.49\n",
      "Changing to logg=2.50 for T= 14280 logg=1.49\n",
      "Changing to logg=2.50 for T= 14269 logg=1.48\n",
      "Changing to logg=2.50 for T= 14263 logg=1.48\n",
      "Changing to logg=2.50 for T= 14252 logg=1.48\n",
      "Changing to logg=2.50 for T= 14248 logg=1.49\n",
      "Changing to logg=2.50 for T= 14230 logg=1.48\n",
      "Changing to logg=2.50 for T= 14222 logg=1.48\n",
      "Changing to logg=2.50 for T= 14207 logg=1.48\n",
      "Changing to logg=2.50 for T= 14200 logg=1.48\n",
      "Changing to logg=2.50 for T= 14192 logg=1.48\n",
      "Changing to logg=2.50 for T= 14176 logg=1.48\n",
      "Changing to logg=2.50 for T= 14162 logg=1.48\n",
      "Changing to logg=2.50 for T= 14151 logg=1.48\n",
      "Changing to logg=2.50 for T= 14137 logg=1.47\n",
      "Changing to logg=2.50 for T= 14117 logg=1.47\n",
      "Changing to logg=2.50 for T= 14103 logg=1.47\n",
      "Changing to logg=2.50 for T= 14092 logg=1.47\n",
      "Changing to logg=2.50 for T= 14081 logg=1.46\n",
      "Changing to logg=2.50 for T= 14070 logg=1.46\n",
      "Changing to logg=2.50 for T= 14057 logg=1.46\n",
      "Changing to logg=2.50 for T= 14046 logg=1.46\n",
      "Changing to logg=2.50 for T= 14037 logg=1.45\n",
      "Changing to logg=2.50 for T= 14029 logg=1.45\n",
      "Changing to logg=2.50 for T= 14023 logg=1.45\n",
      "Changing to logg=2.50 for T= 14020 logg=1.45\n",
      "Changing to logg=2.50 for T= 14020 logg=1.44\n",
      "Changing to logg=2.50 for T= 14019 logg=1.44\n",
      "Changing to logg=2.50 for T= 14019 logg=1.44\n",
      "Changing to logg=2.50 for T= 14020 logg=1.44\n",
      "Changing to logg=2.50 for T= 14019 logg=1.44\n",
      "Changing to logg=2.50 for T= 14009 logg=1.44\n",
      "Changing to logg=2.50 for T= 13999 logg=1.44\n",
      "Changing to logg=2.50 for T= 13994 logg=1.44\n",
      "Changing to logg=2.50 for T= 13993 logg=1.44\n",
      "Changing to logg=2.50 for T= 13993 logg=1.44\n",
      "Changing to logg=2.50 for T= 13993 logg=1.44\n",
      "Changing to logg=2.50 for T= 13994 logg=1.44\n",
      "Changing to logg=2.50 for T= 13995 logg=1.44\n",
      "Changing to logg=2.50 for T= 13997 logg=1.44\n",
      "Changing to logg=2.50 for T= 13998 logg=1.44\n",
      "Changing to logg=2.50 for T= 13999 logg=1.44\n",
      "Changing to logg=2.50 for T= 14000 logg=1.44\n",
      "Changing to logg=2.50 for T= 14001 logg=1.44\n",
      "Changing to logg=2.50 for T= 14003 logg=1.44\n",
      "Changing to logg=2.50 for T= 14004 logg=1.44\n",
      "Changing to logg=2.50 for T= 14005 logg=1.44\n",
      "Changing to logg=2.50 for T= 14006 logg=1.44\n",
      "Changing to logg=2.50 for T= 14006 logg=1.44\n",
      "Changing to logg=2.50 for T= 14007 logg=1.44\n",
      "Isochrone generation took 52.880178 s.\n",
      "Making photometry for isochrone: log(t) = 6.70  AKs = 0.80  dist = 4000\n",
      "     Starting at:  2022-04-22 10:43:01.272887   Usually takes ~5 minutes\n",
      "Starting filter: wfc3,ir,f127m   Elapsed time: 0.00 seconds\n",
      "Starting synthetic photometry\n",
      "M =   0.105 Msun  T =  2997 K  m_hst_f127m = 22.14\n",
      "M =   2.496 Msun  T = 11033 K  m_hst_f127m = 16.61\n",
      "M =  10.211 Msun  T = 24949 K  m_hst_f127m = 13.71\n",
      "M =  39.894 Msun  T = 29852 K  m_hst_f127m = 9.46\n",
      "M =  39.939 Msun  T = 12238 K  m_hst_f127m = 6.75\n",
      "M =  39.990 Msun  T =  5834 K  m_hst_f127m = 4.67\n",
      "M =  45.445 Msun  T = 14888 K  m_hst_f127m = 7.02\n",
      "Starting filter: wfc3,ir,f139m   Elapsed time: 11.80 seconds\n",
      "Starting synthetic photometry\n",
      "M =   0.105 Msun  T =  2997 K  m_hst_f139m = 21.80\n",
      "M =   2.496 Msun  T = 11033 K  m_hst_f139m = 16.22\n",
      "M =  10.211 Msun  T = 24949 K  m_hst_f139m = 13.35\n",
      "M =  39.894 Msun  T = 29852 K  m_hst_f139m = 9.10\n",
      "M =  39.939 Msun  T = 12238 K  m_hst_f139m = 6.36\n",
      "M =  39.990 Msun  T =  5834 K  m_hst_f139m = 4.20\n",
      "M =  45.445 Msun  T = 14888 K  m_hst_f139m = 6.64\n",
      "Starting filter: wfc3,ir,f153m   Elapsed time: 23.95 seconds\n",
      "Starting synthetic photometry\n",
      "M =   0.105 Msun  T =  2997 K  m_hst_f153m = 21.15\n",
      "M =   2.496 Msun  T = 11033 K  m_hst_f153m = 15.84\n",
      "M =  10.211 Msun  T = 24949 K  m_hst_f153m = 12.99\n",
      "M =  39.894 Msun  T = 29852 K  m_hst_f153m = 8.75\n",
      "M =  39.939 Msun  T = 12238 K  m_hst_f153m = 5.99\n",
      "M =  39.990 Msun  T =  5834 K  m_hst_f153m = 3.72\n",
      "M =  45.445 Msun  T = 14888 K  m_hst_f153m = 6.27\n",
      "      Time taken: 36.75 seconds\n"
     ]
    }
   ],
   "source": [
    "# Define isochrone parameters\n",
    "logAge = np.log10(5*10**6.) # Age in log(years)\n",
    "AKs = 0.8 # extinction in mags\n",
    "dist = 4000 # distance in parsec\n",
    "metallicity = 0 # Metallicity in [M/H]\n",
    "\n",
    "# Define evolution/atmosphere models and extinction law\n",
    "evo_model = evolution.MISTv1() \n",
    "atm_func = atmospheres.get_merged_atmosphere\n",
    "red_law = reddening.RedLawHosek18b()\n",
    "\n",
    "# Also specify filters for synthetic photometry (optional). Here we use \n",
    "# the HST WFC3-IR F127M, F139M, and F153M filters\n",
    "filt_list = ['wfc3,ir,f127m', 'wfc3,ir,f139m', 'wfc3,ir,f153m']\n",
    "\n",
    "# Specify the directory we want the output isochrone\n",
    "# table saved in. If the directory does not already exist,\n",
    "# SPISEA will create it.\n",
    "iso_dir = 'isochrones/'\n",
    "\n",
    "# Make IsochronePhot object. Note that this will take a minute or two, \n",
    "# unless the isochrone has been generated previously.\n",
    "#\n",
    "# Note that this is not show all of the user options \n",
    "# for IsochronePhot. See docs for complete list of options.\n",
    "my_iso = synthetic.IsochronePhot(logAge, AKs, dist, metallicity=0,\n",
    "                            evo_model=evo_model, atm_func=atm_func,\n",
    "                            red_law=red_law, filters=filt_list,\n",
    "                                iso_dir=iso_dir)"
   ]
  },
  {
   "cell_type": "markdown",
   "metadata": {},
   "source": [
    "Once calculated, the isochrone will be written as a fits file to a location set by the \"iso_dir\" keyword (note: if iso_dir is not defined, the isochrone is saved in the current working directory by default). In the future, the IsochronePhot function will read this file directly rather than recalculating the isochrone again. \n",
    "\n",
    "The output file is named as: \"iso_logAge_AKs_distance_metallicity.fits, using the specified values"
   ]
  },
  {
   "cell_type": "code",
   "execution_count": 6,
   "metadata": {},
   "outputs": [
    {
     "name": "stdout",
     "output_type": "stream",
     "text": [
      "          L                   Teff        ...    m_hst_f153m    \n",
      "          W                    K          ...                   \n",
      "---------------------- ------------------ ... ------------------\n",
      " 8.660109049222469e+24  2997.482453641835 ...   21.1520214464892\n",
      " 9.046193280874383e+24 3008.7858260184175 ...  21.10504146353302\n",
      " 9.449142476745298e+24 3020.1687795233192 ... 21.058402938607138\n",
      " 9.869958611246552e+24  3031.631609685951 ... 21.011969614391397\n",
      " 1.076707529684324e+25 3054.6500837349886 ... 20.919821469819336\n",
      "1.0829426036763875e+25 3065.3879429582494 ...  20.91549975563932\n",
      "1.1480726894593663e+25  3078.908328291189 ... 20.853895984633194\n",
      " 1.221834686575575e+25  3093.002145149403 ...  20.78833906517428\n",
      "1.3043887291289771e+25 3107.5858797888227 ...  20.71737738946115\n",
      "1.3956010100862058e+25 3122.5861578385725 ...  20.64218049228478\n",
      "                   ...                ... ...                ...\n",
      " 3.146902975957394e+32 13997.739388490047 ...  5.930259429682409\n",
      "3.1460717791216517e+32 13998.892300822487 ...  5.930802534623409\n",
      "3.1452525359273068e+32 14000.139431008332 ...  5.931362397671123\n",
      " 3.144405489181849e+32 14001.378759406476 ...  5.931929284479498\n",
      "3.1435076384266162e+32   14002.5320654016 ...  5.932494726985555\n",
      "3.1426231762052773e+32 14003.694937388533 ...  5.933057730634233\n",
      "3.1418572729129726e+32 14004.747427385868 ...  5.933555391434915\n",
      "3.1412514101696487e+32 14005.539485757616 ... 5.9339401294227105\n",
      "  3.14065875101774e+32 14006.427618268113 ...  5.934341601415309\n",
      " 3.140072730828415e+32  14007.35269293023 ... 5.9347489819733115\n",
      "Length = 694 rows\n"
     ]
    }
   ],
   "source": [
    "# The stars in the isochrone and associated properties  \n",
    "# are stored in an astropy table called \"points\" \n",
    "# within the IsochronePhot object. \n",
    "print(my_iso.points)"
   ]
  },
  {
   "cell_type": "code",
   "execution_count": 9,
   "metadata": {},
   "outputs": [
    {
     "name": "stdout",
     "output_type": "stream",
     "text": [
      "OrderedDict([('REDLAW', 'H18b'), ('ATMFUNC', 'get_merged_atmosphere'), ('EVOMODEL', 'MISTv1'), ('LOGAGE', 6.698970004336019), ('AKS', 0.8), ('DISTANCE', 4000), ('METAL_IN', 0), ('METAL_ACT', 0.02380291467262473), ('WAVEMIN', 3000), ('WAVEMAX', 52000)])\n"
     ]
    }
   ],
   "source": [
    "# The isochrone table has meta keywords describing its input properties:\n",
    "# REDLAW: which redlaw object was used\n",
    "# ATMFUNC: atmosphere grid was used\n",
    "# EVOMODEL: evolution model grid used\n",
    "# LOGAGE: log(Age) of isochrone\n",
    "# AKS: total extinction used\n",
    "# DISTANCE: distance used\n",
    "# METAL_IN: metallicity requested by user, in [M/H]\n",
    "# METAL_ACT: actual metallicity of model, in [M/H] \n",
    "# (only relevant if user chooses metallicity other than defined grid-points)\n",
    "# WAVEMIN, WAVEMAX: the minimum and maximum wavelengths of the stellar spectra (angstroms)\n",
    "print(my_iso.points.meta)"
   ]
  },
  {
   "cell_type": "code",
   "execution_count": 10,
   "metadata": {},
   "outputs": [
    {
     "name": "stdout",
     "output_type": "stream",
     "text": [
      "The columns in the isochrone table are: ['L', 'Teff', 'R', 'mass', 'logg', 'isWR', 'mass_current', 'phase', 'm_hst_f127m', 'm_hst_f139m', 'm_hst_f153m']\n"
     ]
    }
   ],
   "source": [
    "# See Isochrone Object documentation for column definitions\n",
    "print('The columns in the isochrone table are: {0}'.format(my_iso.points.keys()))"
   ]
  },
  {
   "cell_type": "code",
   "execution_count": 11,
   "metadata": {},
   "outputs": [
    {
     "name": "stdout",
     "output_type": "stream",
     "text": [
      "1 M_sun: F127M = 19.047 mag, F139M = 18.446 mag, F153M = 17.773 mag\n"
     ]
    }
   ],
   "source": [
    "# Example case:\n",
    "# Identify a 1 M_sun star, print F127M, F139M, and F153M mags\n",
    "idx = np.where( abs(my_iso.points['mass'] - 1.0) == min(abs(my_iso.points['mass'] - 1.0)) )[0]\n",
    "f127m = np.round(my_iso.points[idx[0]]['m_hst_f127m'], decimals=3)\n",
    "f139m = np.round(my_iso.points[idx[0]]['m_hst_f139m'], decimals=3)\n",
    "f153m = np.round(my_iso.points[idx[0]]['m_hst_f153m'], decimals=3)\n",
    "print('1 M_sun: F127M = {0} mag, F139M = {1} mag, F153M = {2} mag'.format(f127m, f139m, f153m))"
   ]
  },
  {
   "cell_type": "code",
   "execution_count": 12,
   "metadata": {},
   "outputs": [
    {
     "data": {
      "text/plain": [
       "<matplotlib.legend.Legend at 0x7fcbdb8cbf60>"
      ]
     },
     "execution_count": 12,
     "metadata": {},
     "output_type": "execute_result"
    },
    {
     "data": {
      "image/png": "[encoded data removed]",
      "text/plain": [
       "<Figure size 720x720 with 1 Axes>"
      ]
     },
     "metadata": {
      "needs_background": "light"
     },
     "output_type": "display_data"
    }
   ],
   "source": [
    "# Make a color-magnitude diagram from the isochrone\n",
    "py.figure(1, figsize=(10,10))\n",
    "py.clf()\n",
    "py.plot(my_iso.points['m_hst_f127m'] - my_iso.points['m_hst_f153m'], \n",
    "       my_iso.points['m_hst_f153m'], 'r-', label='_nolegend_')\n",
    "py.plot(my_iso.points['m_hst_f127m'][idx] - my_iso.points['m_hst_f153m'][idx], \n",
    "       my_iso.points['m_hst_f153m'][idx], 'b*', ms=15, label='1 $M_\\odot$')\n",
    "py.xlabel('F127M - F153M')\n",
    "py.ylabel('F153M')\n",
    "py.gca().invert_yaxis()\n",
    "py.legend()"
   ]
  },
  {
   "cell_type": "markdown",
   "metadata": {},
   "source": [
    "### Step 2: Make an Initial Mass Function"
   ]
  },
  {
   "cell_type": "markdown",
   "metadata": {},
   "source": [
    "SPISEA offers a range of initial mass functions (IMFs) a user can use from to make the cluster. In addition to the parameters defining the IMF, the user can input a SPISEA multiplicity object, which defines the multiplicity properties of the population. The default multiplicity is None (e.g. all stars are single).\n",
    "\n",
    "Here we define a Kroupa IMF using the Multiplicity properties defined in Lu+13. "
   ]
  },
  {
   "cell_type": "code",
   "execution_count": 38,
   "metadata": {},
   "outputs": [],
   "source": [
    "# Make multiplicity object Here, we use the MultiplicityUnresolved object, \n",
    "# based on Lu+13. This means that star systems will be unresolved, i.e., \n",
    "# that all components of a star system are combined into a single \"star\" in the cluster\n",
    "imf_multi = multiplicity.MultiplicityUnresolved()\n",
    "\n",
    "# Make IMF object; we'll use a broken power law with the parameters from Kroupa+01\n",
    "\n",
    "# NOTE: when defining the power law slope for each segment of the IMF, we define\n",
    "# the entire exponent, including the negative sign. For example, if dN/dm $\\propto$ m^-alpha,\n",
    "# then you would use the value \"-2.3\" to specify an IMF with alpha = 2.3. \n",
    "\n",
    "massLimits = np.array([0.2, 0.5, 1, 120]) # Define boundaries of each mass segement\n",
    "powers = np.array([-1.3, -2.3, -2.3]) # Power law slope associated with each mass segment\n",
    "my_imf = imf.IMF_broken_powerlaw(massLimits, powers, imf_multi)"
   ]
  },
  {
   "cell_type": "markdown",
   "metadata": {},
   "source": [
    "### Step 3: Make the Cluster  \n",
    "#### Option 1: Resolved Cluster without compact objects\n",
    "\n",
    "Here we make a resolved cluster using the ResolvedCluster object. \n",
    "\n",
    "To create the cluster, the user passes in an isochrone object, and imf object, and specifies the total cluster mass. Here we will make a 10^5 M_sun cluster using the isochrone and imf we have defined. \n",
    "\n",
    "###### Some Notes\n",
    "1. Unless an IFMR object is defined, no compact objects are included. Stars that have evolved into compact objects will be dropped from the cluster. \n",
    "2. Stars generated by the IMF object that have masses below the lowest mass in the evolution model are dropped from the cluster.\n",
    "2. If you wish to create a cluster with differential extinction included in the output photometry, then you can use the ResolvedClusterDiffRedden object. It is the same as ResolvedCluster, but with an additional parameter to define dAKs, which characterizes the spread of extinction within the cluster"
   ]
  },
  {
   "cell_type": "code",
   "execution_count": 39,
   "metadata": {
    "scrolled": true
   },
   "outputs": [
    {
     "name": "stdout",
     "output_type": "stream",
     "text": [
      "Found 56 stars out of mass range\n"
     ]
    }
   ],
   "source": [
    "# Define total cluster mass\n",
    "mass = 10**5.\n",
    "\n",
    "# Make cluster object\n",
    "cluster = synthetic.ResolvedCluster(my_iso, my_imf, mass)"
   ]
  },
  {
   "cell_type": "markdown",
   "metadata": {},
   "source": [
    "The individual stars (or star systems) in the cluster are stored in an astropy table called \"star_systems\" within the cluster object. If a multiplicity object is used, then an additional \"companions\" table is created that contains the properties of the companions to the primary star within each star system. See cluster object documentation for a description of the columns in these tables. \n",
    "\n",
    "If a multiplicity object is used, then the photometry in the star_systems table is the COMBINED photometry of the system; it includes the contributions from all companions."
   ]
  },
  {
   "cell_type": "code",
   "execution_count": 40,
   "metadata": {},
   "outputs": [
    {
     "name": "stdout",
     "output_type": "stream",
     "text": [
      "        mass        isMultiple ...    m_hst_f153m     N_companions\n",
      "------------------- ---------- ... ------------------ ------------\n",
      "0.35513351633181317      False ... 19.336975871065814            0\n",
      "0.32476152044801004      False ... 19.469201416431687            0\n",
      "0.39977248204754157      False ...  19.16222479385778            0\n",
      "0.20734901596250427      False ...  20.16818426790654            0\n",
      " 0.3991561368864479      False ... 19.164592148598327            0\n",
      " 1.0051624989733978      False ...  17.78559707618036            0\n",
      "0.20113133753322507      False ...  20.20997019734826            0\n",
      "  7.555370175508547       True ... 12.990599660303147            2\n",
      " 0.5018056939209818       True ...  18.29066898311631            1\n",
      " 0.5328701257114621      False ... 18.753429134178504            0\n",
      "                ...        ... ...                ...          ...\n",
      " 0.6758092446322896      False ...   18.4146463498215            0\n",
      "0.20753975505839475      False ...  20.16690240515128            0\n",
      " 0.2486228197488548      False ...  19.88977478013583            0\n",
      "0.35457166882841007      False ...  19.33923430134947            0\n",
      " 0.2005540262690412      False ... 20.213850019700843            0\n",
      "0.21135420412147035      False ... 20.141267386997537            0\n",
      " 0.5987999803411292      False ... 18.589627935429522            0\n",
      " 0.3311128386494373      False ...  19.44260025380751            0\n",
      " 0.8645535083880692      False ...   18.0308564336665            0\n",
      "0.44576910619859267      False ...  19.00453148289996            0\n",
      "  2.481024826012055       True ...  15.57745886778116            1\n",
      "Length = 81859 rows\n"
     ]
    }
   ],
   "source": [
    "# Look at star systems table\n",
    "print(cluster.star_systems)"
   ]
  },
  {
   "cell_type": "code",
   "execution_count": 41,
   "metadata": {},
   "outputs": [
    {
     "name": "stdout",
     "output_type": "stream",
     "text": [
      "The cluster table contains these columns: ['mass', 'isMultiple', 'systemMass', 'Teff', 'L', 'logg', 'isWR', 'mass_current', 'phase', 'metallicity', 'm_hst_f127m', 'm_hst_f139m', 'm_hst_f153m', 'N_companions']\n"
     ]
    }
   ],
   "source": [
    "print('The cluster table contains these columns: {0}'.format(cluster.star_systems.keys()))"
   ]
  },
  {
   "cell_type": "code",
   "execution_count": 42,
   "metadata": {},
   "outputs": [
    {
     "name": "stdout",
     "output_type": "stream",
     "text": [
      "system_idx         mass        ...    m_hst_f139m        m_hst_f153m    \n",
      "---------- ------------------- ... ------------------ ------------------\n",
      "         7   5.525673912843035 ... 14.697913021466409 14.331158288008629\n",
      "         7   4.232807390152683 ... 15.247180889951812  14.87627895950445\n",
      "         8  0.3649095896505457 ... 19.970933292502252 19.297679478531304\n",
      "        26 0.37012004077512894 ...   19.9511464179339  19.27715804894477\n",
      "        28    0.50698874005101 ...  19.51369044697905 18.822496810247973\n",
      "        29  7.3644235491847505 ... 14.093343290975326 13.731342404720758\n",
      "        32  0.2296332804303029 ... 20.677301308173256  20.01842279128736\n",
      "        33 0.22137884303241948 ... 20.731621895634262 20.073896766439375\n",
      "        34  0.2812074450350868 ... 20.366790563817705 19.701639127119474\n",
      "        35   1.060110528972855 ...   18.3571500116024  17.69402501606041\n",
      "       ...                 ... ...                ...                ...\n",
      "     81808 0.27872385357477364 ...  20.37940260451041 19.714506386258538\n",
      "     81812   0.924318417037642 ... 18.615678314704592  17.92609477883206\n",
      "     81819   3.208055953219023 ...  15.81495388816777 15.438827071849724\n",
      "     81820 0.28313203014934357 ...  20.35701723911215 19.691668028492327\n",
      "     81832 0.30443559387145797 ...  20.24501495238367 19.577268236133165\n",
      "     81832  0.8040943632335463 ... 18.842006255385623  18.14107797199373\n",
      "     81834  0.9031638525727389 ... 18.654664156637544 17.962516132852976\n",
      "     81837  1.3422530988910006 ...  17.84644489053953 17.245005147422663\n",
      "     81842   1.760002405958688 ...  16.74658765328629 16.212735649391302\n",
      "     81843 0.34092922133110276 ...  20.07080569955199  19.39940955597892\n",
      "     81858  1.2791517414447813 ... 17.961154232906196  17.34715662503058\n",
      "Length = 16666 rows\n"
     ]
    }
   ],
   "source": [
    "# The companions table is accessed in a similar way\n",
    "print(cluster.companions)"
   ]
  },
  {
   "cell_type": "code",
   "execution_count": 43,
   "metadata": {
    "scrolled": true
   },
   "outputs": [
    {
     "data": {
      "text/plain": [
       "<matplotlib.legend.Legend at 0x7fcbc0288898>"
      ]
     },
     "execution_count": 43,
     "metadata": {},
     "output_type": "execute_result"
    },
    {
     "data": {
      "image/png": "[encoded data removed]",
      "text/plain": [
       "<Figure size 720x720 with 1 Axes>"
      ]
     },
     "metadata": {
      "needs_background": "light"
     },
     "output_type": "display_data"
    }
   ],
   "source": [
    "# Look at the cluster CMD, compared to input isochrone. Note the impact of\n",
    "# multiple systems on the photometry\n",
    "clust = cluster.star_systems\n",
    "iso = my_iso.points\n",
    "\n",
    "py.figure(2, figsize=(10,10))\n",
    "py.clf()\n",
    "py.plot(clust['m_hst_f127m'] - clust['m_hst_f153m'], clust['m_hst_f153m'],\n",
    "       'k.', ms=5, alpha=0.1, label='__nolegend__')\n",
    "py.plot(iso['m_hst_f127m'] - iso['m_hst_f153m'], iso['m_hst_f153m'],\n",
    "       'r-', label='Isochrone')\n",
    "py.xlabel('F127M - F153M')\n",
    "py.ylabel('F153M')\n",
    "py.gca().invert_yaxis()\n",
    "py.legend()"
   ]
  },
  {
   "cell_type": "markdown",
   "metadata": {},
   "source": [
    "#### Option 2: Resolved cluster with compact objects (white dwarfs, neutron stars, and black holes)\n",
    "This is quite similar to the above, but includes compact objects. The additional piece of information required is to choose an initial-final mass relation (IFMR.)\n",
    "\n",
    "The output is the same as if we were making a cluster without using an IFMR. However, you can tell that compact objects are made by looking at the 'phase' keyword. Black holes have 'phase' = 103, neutron stars have 'phase' = 102, and white dwarfs have 'phase' = 101. For these compact objects, the luminosity and temperature will return values of zero, and photometry will return nan, since we are assuming they are totally dark.\n",
    "\n",
    "Here, we make 4 different clusters, each of mass $10^6 M_\\odot$, by taking different combinations of age (either 100 Myr or 10 Gyr) and IMF (top-heavy or Kroupa). We then look at the different distributions of BH and WD masses. "
   ]
  },
  {
   "cell_type": "code",
   "execution_count": 45,
   "metadata": {},
   "outputs": [],
   "source": [
    "# Create isochrone object  \n",
    "filt_list = ['wfc3,ir,f153m'] # We won't be doing much with synthetic photometry here, so only 1 filter\n",
    "my_ifmr = ifmr.IFMR_Raithel18()\n",
    "my_iso_young = synthetic.IsochronePhot(8, 0, 10,\n",
    "                                 evo_model = evolution.MISTv1(),\n",
    "                                      filters=filt_list)\n",
    "\n",
    "my_iso_old = synthetic.IsochronePhot(10, 0, 10,\n",
    "                                 evo_model = evolution.MISTv1(),\n",
    "                                    filters=filt_list)"
   ]
  },
  {
   "cell_type": "code",
   "execution_count": 46,
   "metadata": {},
   "outputs": [],
   "source": [
    "# Create IMF objects                                                                                                                                                     \n",
    "massLimits = np.array([0.1, 0.5, 120])\n",
    "powers_kroupa = np.array([-1.3, -2.3])\n",
    "powers_theavy = np.array([-1.3, -1.3]) # top heavy\n",
    "trunc_kroupa = imf.IMF_broken_powerlaw(massLimits, powers_kroupa)\n",
    "trunc_theavy = imf.IMF_broken_powerlaw(massLimits, powers_theavy)"
   ]
  },
  {
   "cell_type": "code",
   "execution_count": 47,
   "metadata": {},
   "outputs": [
    {
     "name": "stdout",
     "output_type": "stream",
     "text": [
      "Found 5467 stars out of mass range\n",
      "Found 4087 stars out of mass range\n",
      "Found 100007 stars out of mass range\n",
      "Found 73978 stars out of mass range\n"
     ]
    }
   ],
   "source": [
    "# Make clusters                                                                                                                                                          \n",
    "cluster_mass = 10**6\n",
    "cluster_young_theavy = synthetic.ResolvedCluster(my_iso_young, trunc_theavy, cluster_mass, ifmr=my_ifmr)\n",
    "cluster_old_theavy = synthetic.ResolvedCluster(my_iso_old, trunc_theavy, cluster_mass, ifmr=my_ifmr)\n",
    "cluster_young_kroupa = synthetic.ResolvedCluster(my_iso_young, trunc_kroupa, cluster_mass, ifmr=my_ifmr)\n",
    "cluster_old_kroupa = synthetic.ResolvedCluster(my_iso_old, trunc_kroupa, cluster_mass, ifmr=my_ifmr)\n",
    "\n",
    "# Get the outputs\n",
    "young_theavy = cluster_young_theavy.star_systems\n",
    "old_theavy = cluster_old_theavy.star_systems\n",
    "young_kroupa = cluster_young_kroupa.star_systems\n",
    "old_kroupa = cluster_old_kroupa.star_systems"
   ]
  },
  {
   "cell_type": "code",
   "execution_count": 48,
   "metadata": {},
   "outputs": [
    {
     "data": {
      "text/plain": [
       "<matplotlib.legend.Legend at 0x7fcbbfd694e0>"
      ]
     },
     "execution_count": 48,
     "metadata": {},
     "output_type": "execute_result"
    },
    {
     "data": {
      "image/png": "[encoded data removed]",
      "text/plain": [
       "<Figure size 1008x432 with 2 Axes>"
      ]
     },
     "metadata": {
      "needs_background": "light"
     },
     "output_type": "display_data"
    }
   ],
   "source": [
    "young_theavy_bh_idx = np.where(young_theavy['phase'] == 103)[0]\n",
    "old_theavy_bh_idx = np.where(old_theavy['phase'] == 103)[0]\n",
    "young_kroupa_bh_idx = np.where(young_kroupa['phase'] == 103)[0]\n",
    "old_kroupa_bh_idx = np.where(old_kroupa['phase'] == 103)[0]\n",
    "\n",
    "bh_bins = np.linspace(5, 16, 16)\n",
    "wd_bins = np.linspace(0.4, 1.4, 16)\n",
    "\n",
    "plt.figure(figsize=(14,6))\n",
    "plt.subplot(1, 2, 1)\n",
    "plt.hist(young_theavy[young_theavy_bh_idx]['mass_current'], histtype = 'step',\n",
    "        bins = bh_bins, label = '100 Myr, TH IMF', color = 'red', linestyle = ':', lw = 2)\n",
    "plt.hist(old_theavy[old_theavy_bh_idx]['mass_current'], histtype = 'step',\n",
    "        bins = bh_bins, label = '10 Gyr, TH IMF', color = 'gray', linestyle = ':', lw = 2)\n",
    "plt.hist(young_kroupa[young_kroupa_bh_idx]['mass_current'], histtype = 'step',\n",
    "        bins = bh_bins, label = '100 Myr, Kr IMF', color = 'red', lw = 2)\n",
    "plt.hist(old_kroupa[old_kroupa_bh_idx]['mass_current'], histtype = 'step',\n",
    "        bins = bh_bins, label = '10 Gyr, Kr IMF', color = 'gray', lw = 2)\n",
    "plt.title('BH Mass Function')\n",
    "plt.xlabel('Mass ($M_\\odot$)')\n",
    "plt.ylabel('Number')\n",
    "plt.legend()\n",
    "\n",
    "young_theavy_wd_idx = np.where(young_theavy['phase'] == 101)[0]\n",
    "old_theavy_wd_idx = np.where(old_theavy['phase'] == 101)[0]\n",
    "young_kroupa_wd_idx = np.where(young_kroupa['phase'] == 101)[0]\n",
    "old_kroupa_wd_idx = np.where(old_kroupa['phase'] == 101)[0]\n",
    "\n",
    "plt.subplot(1, 2, 2)\n",
    "plt.hist(young_theavy[young_theavy_wd_idx]['mass_current'], histtype = 'step',\n",
    "        bins = wd_bins, label = '100 Myr, TH IMF', color = 'red', linestyle = ':', lw = 2)\n",
    "plt.hist(old_theavy[old_theavy_wd_idx]['mass_current'], histtype = 'step',\n",
    "        bins = wd_bins, label = '10 Gyr, TH IMF', color = 'gray', linestyle = ':', lw = 2)\n",
    "plt.hist(young_kroupa[young_kroupa_wd_idx]['mass_current'], histtype = 'step',\n",
    "        bins = wd_bins, label = '100 Myr, Kr IMF', color = 'red', lw = 2)\n",
    "plt.hist(old_kroupa[old_kroupa_wd_idx]['mass_current'], histtype = 'step',\n",
    "        bins = wd_bins, label = '10 Gyr, Kr IMF', color = 'gray', lw = 2)\n",
    "plt.yscale('log')\n",
    "plt.title('WD Mass Function')\n",
    "plt.xlabel('Mass ($M_\\odot$)')\n",
    "plt.legend()"
   ]
  },
  {
   "cell_type": "markdown",
   "metadata": {},
   "source": [
    "Plotted above are the distributions of BH and WD masses for clusters of different ages (100 Myr or 10 Gyr), with either a top-heavy or Kroupa IMF. For BHs, since those are formed relatively early on, the age of the cluster does not significantly change the mass distribution as most BHs have already formed by 100 Myr. However, the top heavy IMF allows the creation of many more massive compact objects. For WDs, both the age and IMF make significant differences in the distribution (note y-axis is logscaled)."
   ]
  }
 ],
 "metadata": {
  "kernelspec": {
   "display_name": "Python 3",
   "language": "python",
   "name": "python3"
  },
  "language_info": {
   "codemirror_mode": {
    "name": "ipython",
    "version": 3
   },
   "file_extension": ".py",
   "mimetype": "text/x-python",
   "name": "python",
   "nbconvert_exporter": "python",
   "pygments_lexer": "ipython3",
   "version": "3.6.9"
  }
 },
 "nbformat": 4,
 "nbformat_minor": 4
}
