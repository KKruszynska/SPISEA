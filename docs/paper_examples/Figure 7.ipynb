{
 "cells": [
  {
   "cell_type": "markdown",
   "metadata": {},
   "source": [
    "## Below is the code to re-create Figure 7\n",
    "### Topic: Comparing Unresolved Cluster Spectra"
   ]
  },
  {
   "cell_type": "code",
   "execution_count": 1,
   "metadata": {},
   "outputs": [
    {
     "name": "stderr",
     "output_type": "stream",
     "text": [
      "/Users/mwhosek/anaconda3/envs/astroconda2/lib/python3.6/site-packages/pysynphot/locations.py:346: UserWarning: Extinction files not found in /Users/mwhosek/models/models_2019_07/cdbs/extinction\n",
      "  warnings.warn('Extinction files not found in %s' % (extdir, ))\n"
     ]
    }
   ],
   "source": [
    "# Import necessary packages. \n",
    "from spisea import synthetic, evolution, atmospheres, reddening, ifmr\n",
    "from spisea.imf import imf, multiplicity\n",
    "import numpy as np\n",
    "import pylab as py\n",
    "import pdb\n",
    "import os\n",
    "import pylab as py"
   ]
  },
  {
   "cell_type": "code",
   "execution_count": 2,
   "metadata": {},
   "outputs": [],
   "source": [
    "# We'll use the UnresolvedCluster object to create the unresolved spectrum of two\n",
    "# 10^4 M_sun clusters, one at 10 Myr and the other at 1 Gyr. We'll assume solar metallicity\n",
    "# and a Kroupa IMF for both.\n",
    "\n",
    "# Isochrone Parameters\n",
    "logAge_young = 7.0 \n",
    "AKs_young = 0\n",
    "dist_young = 3.5*10**6 # M82 distance\n",
    "metallicity_young = 0 \n",
    "\n",
    "logAge_old = 9.0\n",
    "AKs_old = AKs_young\n",
    "dist_old = dist_young\n",
    "metallicity_old = metallicity_young \n",
    "\n",
    "evo = evolution.MISTv1()\n",
    "atm_func = atmospheres.get_merged_atmosphere"
   ]
  },
  {
   "cell_type": "code",
   "execution_count": 3,
   "metadata": {},
   "outputs": [
    {
     "name": "stdout",
     "output_type": "stream",
     "text": [
      "Changing to logg=3.50 for T= 26167 logg=3.41\n",
      "Changing to logg=3.50 for T= 26355 logg=3.42\n",
      "Changing to logg=3.50 for T= 26528 logg=3.43\n",
      "Changing to logg=3.50 for T= 26685 logg=3.43\n",
      "Changing to logg=3.50 for T= 26826 logg=3.44\n",
      "Changing to logg=3.50 for T= 26943 logg=3.44\n",
      "Changing to logg=3.50 for T= 27008 logg=3.45\n",
      "Changing to logg=3.50 for T= 26955 logg=3.45\n",
      "Changing to logg=3.50 for T= 26740 logg=3.44\n",
      "Changing to logg=3.50 for T= 26446 logg=3.43\n",
      "Changing to logg=3.50 for T= 26128 logg=3.41\n",
      "Changing to logg=3.00 for T= 20939 logg=2.98\n",
      "Changing to logg=3.00 for T= 20655 logg=2.96\n",
      "Changing to logg=3.00 for T= 20372 logg=2.93\n",
      "Changing to logg=3.00 for T= 20091 logg=2.91\n",
      "Changing to logg=3.00 for T= 19813 logg=2.88\n",
      "Changing to logg=3.00 for T= 19538 logg=2.86\n",
      "Changing to logg=3.00 for T= 19265 logg=2.83\n",
      "Changing to logg=2.50 for T= 15781 logg=2.48\n",
      "Changing to logg=2.50 for T= 15554 logg=2.46\n",
      "Changing to logg=2.50 for T= 15330 logg=2.43\n",
      "Changing to logg=2.50 for T= 15109 logg=2.40\n",
      "Changing to logg=2.50 for T= 14891 logg=2.38\n",
      "Changing to logg=2.50 for T= 14675 logg=2.35\n",
      "Changing to logg=2.50 for T= 14463 logg=2.33\n",
      "Changing to logg=2.50 for T= 14254 logg=2.30\n",
      "Changing to logg=2.50 for T= 14048 logg=2.27\n",
      "Changing to logg=2.50 for T= 13844 logg=2.25\n",
      "Changing to logg=2.50 for T= 13644 logg=2.22\n",
      "Changing to logg=2.50 for T= 13447 logg=2.19\n",
      "Changing to logg=2.50 for T= 13253 logg=2.17\n",
      "Changing to logg=2.50 for T= 13061 logg=2.14\n",
      "Changing to logg=2.50 for T= 12873 logg=2.12\n",
      "Changing to logg=2.50 for T= 12687 logg=2.09\n",
      "Changing to logg=2.50 for T= 12504 logg=2.06\n",
      "Changing to logg=2.50 for T= 12323 logg=2.04\n",
      "Changing to logg=2.50 for T= 12145 logg=2.01\n",
      "Changing to logg=2.50 for T= 11970 logg=1.98\n",
      "Changing to logg=2.50 for T= 11798 logg=1.96\n",
      "Changing to logg=2.00 for T= 11628 logg=1.93\n",
      "Changing to logg=2.00 for T= 11460 logg=1.90\n",
      "Changing to logg=2.00 for T= 11295 logg=1.88\n",
      "Changing to logg=2.00 for T= 11132 logg=1.85\n",
      "Changing to logg=2.00 for T= 10972 logg=1.82\n",
      "Changing to logg=2.00 for T= 10814 logg=1.80\n",
      "Changing to logg=2.00 for T= 10658 logg=1.77\n",
      "Changing to logg=2.00 for T= 10505 logg=1.74\n",
      "Changing to logg=2.00 for T= 10354 logg=1.72\n",
      "Changing to logg=2.00 for T= 10206 logg=1.69\n",
      "Changing to logg=2.00 for T= 10059 logg=1.67\n",
      "Changing to logg=2.00 for T=  9915 logg=1.64\n",
      "Changing to logg=2.00 for T=  9773 logg=1.61\n",
      "Changing to logg=2.00 for T=  9634 logg=1.59\n",
      "Changing to logg=2.00 for T=  9496 logg=1.56\n",
      "Changing to logg=2.00 for T=  9225 logg=1.51\n",
      "Changing to logg=1.50 for T=  8963 logg=1.46\n",
      "Changing to logg=1.50 for T=  8711 logg=1.41\n",
      "Changing to logg=1.50 for T=  8468 logg=1.36\n",
      "Isochrone generation took 27.603706 s.\n",
      "Isochrone generation took 44.362742 s.\n"
     ]
    }
   ],
   "source": [
    "# Make isochrones. We will use Isochrone objects here, since we don't need the synthetic\n",
    "# photometry (only the stellar spectra). Note that these files are not saved, and will be\n",
    "# generated each time \n",
    "iso_young = synthetic.Isochrone(logAge_young, AKs_young, dist_young, \n",
    "                                    metallicity=metallicity_young,\n",
    "                                    evo_model=evo, atm_func=atm_func,\n",
    "                                    mass_sampling=2)\n",
    "\n",
    "iso_old = synthetic.Isochrone(logAge_old, AKs_old, dist_old, \n",
    "                                    metallicity=metallicity_old,\n",
    "                                    evo_model=evo, atm_func=atm_func,\n",
    "                                    mass_sampling=2)"
   ]
  },
  {
   "cell_type": "code",
   "execution_count": 15,
   "metadata": {},
   "outputs": [
    {
     "name": "stdout",
     "output_type": "stream",
     "text": [
      "Mass matching took 11.553244 s.\n",
      "Spec summing took 0.121419s\n",
      "Spec trimming took 0.004832s\n",
      "Total cluster mass is 3632.252249 M_sun\n"
     ]
    }
   ],
   "source": [
    "# Make the unresolved clusters. This is slower than ResolvedCluster; about 30s each.\n",
    "# Assign each cluster a Kroupa+2001 IMF w/o multiplicity\n",
    "imf_kroupa = imf.Kroupa_2001(multiplicity=None)\n",
    "clust_myoung = 5*10**3\n",
    "clust_mold = 5*10**4\n",
    "\n",
    "clust_young = synthetic.UnresolvedCluster(iso_young, imf_kroupa, clust_myoung)\n",
    "clust_old = synthetic.UnresolvedCluster(iso_old, imf_kroupa, clust_mold)"
   ]
  },
  {
   "cell_type": "code",
   "execution_count": 17,
   "metadata": {},
   "outputs": [],
   "source": [
    "# Plot the unresolved cluster spectra. \n",
    "py.figure(figsize=(10,10))\n",
    "py.plot(clust_young.wave_trim*10**-4, clust_young.wave_trim*clust_young.spec_trim, 'r-', label='10 Myr', \n",
    "        linewidth=2)\n",
    "py.plot(clust_old.wave_trim*10**-4, clust_old.wave_trim*clust_old.spec_trim, 'k-', label='1 Gyr', \n",
    "        linewidth=2)\n",
    "py.xlabel('Wavelength ($\\mu$m)', fontsize=24)\n",
    "py.ylabel('log($\\lambda$F$_{\\lambda}$)', fontsize=24)\n",
    "py.tick_params(axis='both', labelsize=20)\n",
    "py.legend()\n",
    "py.xlim(0.25,5.0)\n",
    "py.gca().set_yscale('log')\n",
    "py.savefig('clust_unresolved.png')"
   ]
  },
  {
   "cell_type": "code",
   "execution_count": null,
   "metadata": {},
   "outputs": [],
   "source": []
  },
  {
   "cell_type": "code",
   "execution_count": null,
   "metadata": {},
   "outputs": [],
   "source": []
  }
 ],
 "metadata": {
  "kernelspec": {
   "display_name": "Python 3",
   "language": "python",
   "name": "python3"
  },
  "language_info": {
   "codemirror_mode": {
    "name": "ipython",
    "version": 3
   },
   "file_extension": ".py",
   "mimetype": "text/x-python",
   "name": "python",
   "nbconvert_exporter": "python",
   "pygments_lexer": "ipython3",
   "version": "3.6.9"
  }
 },
 "nbformat": 4,
 "nbformat_minor": 2
}
