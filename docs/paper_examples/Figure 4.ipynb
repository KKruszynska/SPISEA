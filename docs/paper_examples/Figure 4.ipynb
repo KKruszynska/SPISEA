{
 "cells": [
  {
   "cell_type": "markdown",
   "metadata": {},
   "source": [
    "## Below is the code to re-create Figure 4\n",
    "\n",
    "### Topic: Generating clusters with multiplicity and differential extinction"
   ]
  },
  {
   "cell_type": "code",
   "execution_count": 1,
   "metadata": {},
   "outputs": [
    {
     "name": "stderr",
     "output_type": "stream",
     "text": [
      "/Users/mwhosek/anaconda3/envs/astroconda/lib/python3.5/site-packages/pysynphot/locations.py:329: UserWarning: Extinction files not found in /Users/mwhosek/models/models_2019_07/cdbs/extinction\n",
      "  warnings.warn('Extinction files not found in %s' % (extdir, ))\n"
     ]
    }
   ],
   "source": [
    "# Import necessary packages. \n",
    "from popstar import synthetic, evolution, atmospheres, reddening, ifmr\n",
    "from popstar.imf import imf, multiplicity\n",
    "import numpy as np\n",
    "import pylab as py\n",
    "import pdb\n",
    "import os\n",
    "import pylab as py"
   ]
  },
  {
   "cell_type": "code",
   "execution_count": 4,
   "metadata": {},
   "outputs": [],
   "source": [
    "# First, we'll generate 2 cluster CMDs, one with multiplicity and one without. We'll \n",
    "# reuse the merged isochrone (iso_merged) with Cardelli+89 extinction law from Figure 2 \n",
    "# for the purposes  of the plot (Age = 5 Myr, solar metallicity, A_Ks = 1.0 mag, dist=4000 pc).\n",
    "# Both clusters will be 10^4 M_sun and a Kroupa+01 IMF\n",
    "\n",
    "# Fetch isochrone\n",
    "logAge = 6.70 # Age in log(years)\n",
    "AKs = 1.0 # Ks filter extinction in mags\n",
    "dist = 4000 # distance in parsecs\n",
    "metallicity = 0 # metallicity in [M/H]\n",
    "atm_func = atmospheres.get_merged_atmosphere\n",
    "evo_merged = evolution.MergedBaraffePisaEkstromParsec()\n",
    "redlaw = reddening.RedLawCardelli(3.1) # Rv = 3.1\n",
    "filt_list = ['nirc2,J', 'nirc2,Kp']\n",
    "\n",
    "iso_dir = 'iso_merged_r1/'\n",
    "iso_merged = synthetic.IsochronePhot(logAge, AKs, dist, metallicity=metallicity,\n",
    "                                 evo_model=evo_merged, atm_func=atm_func,\n",
    "                                 filters=filt_list, red_law=redlaw,\n",
    "                                 iso_dir=iso_dir, mass_sampling=3)"
   ]
  },
  {
   "cell_type": "code",
   "execution_count": 10,
   "metadata": {},
   "outputs": [],
   "source": [
    "from importlib import reload\n",
    "reload(imf)\n",
    "reload(synthetic)\n",
    "\n",
    "# Now we can make the cluster. \n",
    "clust_mtot = 10**4.\n",
    "clust_multiplicity = multiplicity.MultiplicityUnresolved()\n",
    "\n",
    "# Multiplicity is defined in the IMF object\n",
    "massLimits = np.array([0.08, 0.5, 1, 120])\n",
    "powers = np.array([-1.3, -2.3, -2.3])\n",
    "#clust_imf_noMult = imf.IMF_broken_powerlaw(massLimits, powers, \n",
    "#                                           multiplicity=None)\n",
    "#clust_imf_Mult = imf.IMF_broken_powerlaw(massLimits, powers, \n",
    "#                                           multiplicity=clust_multiplicity)\n",
    "clust_imf_noMult = imf.Kroupa_2001(multiplicity=None)\n",
    "clust_imf_Mult = imf.Kroupa_2001(multiplicity=clust_multiplicity)"
   ]
  },
  {
   "cell_type": "code",
   "execution_count": 18,
   "metadata": {},
   "outputs": [
    {
     "name": "stdout",
     "output_type": "stream",
     "text": [
      "Found 8693 stars out of mass range\n",
      "Found 5472 stars out of mass range\n",
      "Found 986 companions out of stellar mass range\n"
     ]
    },
    {
     "name": "stderr",
     "output_type": "stream",
     "text": [
      "/Users/mwhosek/anaconda3/envs/astroconda/lib/python3.5/site-packages/astropy/table/column.py:965: RuntimeWarning: invalid value encountered in greater\n",
      "  return getattr(self.data, op)(other)\n",
      "/Users/mwhosek/anaconda3/envs/astroconda/lib/python3.5/site-packages/astropy/table/column.py:965: RuntimeWarning: invalid value encountered in less\n",
      "  return getattr(self.data, op)(other)\n"
     ]
    }
   ],
   "source": [
    "# Make clusters\n",
    "clust_noMult = synthetic.ResolvedCluster(iso_merged, clust_imf_noMult, clust_mtot)\n",
    "clust_Mult = synthetic.ResolvedCluster(iso_merged, clust_imf_Mult, clust_mtot)\n",
    "\n",
    "clust_noMult = clust_noMult.star_systems\n",
    "clust_Mult = clust_Mult.star_systems"
   ]
  },
  {
   "cell_type": "code",
   "execution_count": 25,
   "metadata": {},
   "outputs": [
    {
     "name": "stderr",
     "output_type": "stream",
     "text": [
      "/Users/mwhosek/anaconda3/envs/astroconda/lib/python3.5/site-packages/astropy/table/column.py:965: RuntimeWarning: invalid value encountered in greater\n",
      "  return getattr(self.data, op)(other)\n",
      "/Users/mwhosek/anaconda3/envs/astroconda/lib/python3.5/site-packages/astropy/table/column.py:965: RuntimeWarning: invalid value encountered in less\n",
      "  return getattr(self.data, op)(other)\n"
     ]
    }
   ],
   "source": [
    "# Next, we'll generate a cluster with multiplicity off *but* with \n",
    "# differential extinction. Note that we have to use the \n",
    "# ResolvedClusterDiffRedden object now, and we have to pass in dAKs and \n",
    "# the extinction law. \n",
    "#\n",
    "# The amount of differential extinction in a system (i.e., difference between \n",
    "# the system extinction and the average extinction) is drawn from a Gaussian\n",
    "# distribution centered at 0 and of width dAKs\n",
    "\n",
    "dAKs = 0.05 # Width of differential extinction distribution in K-band, in mags\n",
    "clust_noMult_diff = synthetic.ResolvedClusterDiffRedden(iso_merged, clust_imf_noMult, \n",
    "                                                        clust_mtot, dAKs, red_law=redlaw)\n",
    "clust_noMult_diff = clust_noMult_diff.star_systems"
   ]
  },
  {
   "cell_type": "code",
   "execution_count": 27,
   "metadata": {},
   "outputs": [],
   "source": [
    "# Now we can make the final cluster figure\n",
    "py.figure(figsize=(20,10))\n",
    "py.subplots_adjust(left=0.08)\n",
    "py.subplot(121)\n",
    "py.plot(clust_Mult['m_nirc2_J'] - clust_Mult['m_nirc2_Kp'],\n",
    "       clust_Mult['m_nirc2_J'], 'r.', label='Cluster w/ Multiples')\n",
    "py.plot(clust_noMult['m_nirc2_J'] - clust_noMult['m_nirc2_Kp'],\n",
    "       clust_noMult['m_nirc2_J'], 'k.', label='Cluster w/o Multiples')\n",
    "py.xlabel('NIRC2 J - Kp (mag)', fontsize=24)\n",
    "py.ylabel('NIRC2 J (mag)', fontsize=24)\n",
    "py.gca().invert_yaxis()\n",
    "py.tick_params(axis='both', labelsize=20)\n",
    "py.legend()\n",
    "py.subplot(122)\n",
    "py.plot(clust_noMult_diff['m_nirc2_J'] - clust_noMult_diff['m_nirc2_Kp'],\n",
    "       clust_noMult_diff['m_nirc2_J'], 'r.', label='Cluster w/ dAKs = 0.05 mag')\n",
    "py.plot(clust_noMult['m_nirc2_J'] - clust_noMult['m_nirc2_Kp'],\n",
    "       clust_noMult['m_nirc2_J'], 'k.', label='Cluster w/o Multiples, dAKs')\n",
    "py.xlabel('NIRC2 J - Kp (mag)', fontsize=24)\n",
    "py.ylabel('NIRC2 J (mag)', fontsize=24)\n",
    "py.gca().invert_yaxis()\n",
    "py.tick_params(axis='both', labelsize=20)\n",
    "py.legend()\n",
    "py.savefig('cluster_cmd.pdf', format='pdf')"
   ]
  },
  {
   "cell_type": "code",
   "execution_count": null,
   "metadata": {},
   "outputs": [],
   "source": []
  }
 ],
 "metadata": {
  "kernelspec": {
   "display_name": "Python 3",
   "language": "python",
   "name": "python3"
  },
  "language_info": {
   "codemirror_mode": {
    "name": "ipython",
    "version": 3
   },
   "file_extension": ".py",
   "mimetype": "text/x-python",
   "name": "python",
   "nbconvert_exporter": "python",
   "pygments_lexer": "ipython3",
   "version": "3.5.5"
  }
 },
 "nbformat": 4,
 "nbformat_minor": 2
}
