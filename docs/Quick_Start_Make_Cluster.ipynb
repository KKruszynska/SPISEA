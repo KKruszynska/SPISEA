{
 "cells": [
  {
   "cell_type": "markdown",
   "metadata": {},
   "source": [
    "# PopStar Quick Start: Making A Cluster"
   ]
  },
  {
   "cell_type": "markdown",
   "metadata": {},
   "source": [
    "This is a quick start guide to making a synthetic cluster using the PopStar package. The cluster is constructed using a user-specified isochrone and initial mass function (IMF). Detailed documentation with all the available options to the user at each step is provided in [XXX].\n",
    "\n",
    "Before starting this tutorial, it is assumed that PopStar has been installed and the user's python path has been altered to include the PopStar top-level directory"
   ]
  },
  {
   "cell_type": "code",
   "execution_count": 1,
   "metadata": {},
   "outputs": [
    {
     "name": "stderr",
     "output_type": "stream",
     "text": [
      "/Users/mwhosek/anaconda3/envs/astroconda2/lib/python3.6/site-packages/pysynphot/locations.py:346: UserWarning: Extinction files not found in /Users/mwhosek/models/models_2019_07/cdbs/extinction\n",
      "  warnings.warn('Extinction files not found in %s' % (extdir, ))\n"
     ]
    }
   ],
   "source": [
    "# Import necessary packages. \n",
    "from popstar import synthetic, evolution, atmospheres, reddening, ifmr\n",
    "from popstar.imf import imf, multiplicity\n",
    "import numpy as np\n",
    "import pylab as py\n",
    "import pdb\n",
    "import matplotlib.pyplot as plt"
   ]
  },
  {
   "cell_type": "markdown",
   "metadata": {},
   "source": [
    "#### Step 1: Make a PopStar isochrone object"
   ]
  },
  {
   "cell_type": "markdown",
   "metadata": {},
   "source": [
    "The cluster is made from a theoretical isochrone at a given age, extinction, and distance from Earth. These parameters MUST be specified by the user. Other inputs (e.g. stellar evolution/atmosphere models, extinction law, and photometric filters used) are optional keywords. See documentation for all keywords and their default values.\n",
    "\n",
    "Here, we create a 5 Myr cluster isochrone at an extinction of 0.8 mags and distance of 4000 pc from Earth."
   ]
  },
  {
   "cell_type": "code",
   "execution_count": 2,
   "metadata": {},
   "outputs": [],
   "source": [
    "# Define isochrone parameters\n",
    "logAge = np.log10(5*10**6.) # Age in log(years)\n",
    "AKs = 0.8 # extinction in mags\n",
    "dist = 4000 # distance in parsec\n",
    "metallicity = 0 # Metallicity in [M/H]\n",
    "\n",
    "# Define evolution/atmosphere models and extinction law\n",
    "evo_model = evolution.MISTv1() \n",
    "atm_func = atmospheres.get_merged_atmosphere\n",
    "red_law = reddening.RedLawHosek18b()\n",
    "\n",
    "# Also specify filters for synthetic photometry (optional). Here we use \n",
    "# the HST WFC3-IR F127M, F139M, and F153M filters\n",
    "filt_list = ['wfc3,ir,f127m', 'wfc3,ir,f139m', 'wfc3,ir,f153m']\n",
    "\n",
    "# Make Isochrone object. Note that is calculation will take a few minutes, unless the \n",
    "# isochrone has been generated previously.\n",
    "my_iso = synthetic.IsochronePhot(logAge, AKs, dist, metallicity=0,\n",
    "                            evo_model=evo_model, atm_func=atm_func,\n",
    "                            red_law=red_law, filters=filt_list)"
   ]
  },
  {
   "cell_type": "markdown",
   "metadata": {},
   "source": [
    "Once calculated, the isochrone will be written as a fits file to a location set by the \"iso_dir\" keyword (not shown here; default location is current working directory). In the future, the IsochronePhot function will read this file directly rather than recalculating the isochrone again. \n",
    "\n",
    "The file name will be the following: \"iso_logAge_AKs_distance_metallicity.fits, using the specified values"
   ]
  },
  {
   "cell_type": "code",
   "execution_count": 3,
   "metadata": {},
   "outputs": [
    {
     "name": "stdout",
     "output_type": "stream",
     "text": [
      "          L                   Teff        ...    m_hst_f153m    \n",
      "          W                    K          ...                   \n",
      "---------------------- ------------------ ... ------------------\n",
      " 8.660109049222469e+24  2997.482453641835 ... 21.152020025881267\n",
      " 9.046193280874383e+24 3008.7858260184175 ... 21.105040042925086\n",
      " 9.449142476745298e+24 3020.1687795233192 ... 21.058401517999204\n",
      " 9.869958611246552e+24  3031.631609685951 ...  21.01196819378346\n",
      " 1.076707529684324e+25 3054.6500837349886 ... 20.919820049211403\n",
      "1.0829426036763875e+25 3065.3879429582494 ... 20.915498335031387\n",
      "1.1480726894593663e+25  3078.908328291189 ...  20.85389456402526\n",
      " 1.221834686575575e+25  3093.002145149403 ... 20.788337644566347\n",
      "1.3043887291289771e+25 3107.5858797888227 ...  20.71737596885321\n",
      "1.3956010100862058e+25 3122.5861578385725 ... 20.642179071676846\n",
      "                   ...                ... ...                ...\n",
      " 3.146902975957394e+32 13997.739388490047 ...  5.930258009074476\n",
      "3.1460717791216517e+32 13998.892300822487 ...  5.930801114015475\n",
      "3.1452525359273068e+32 14000.139431008332 ...  5.931360977063189\n",
      " 3.144405489181849e+32 14001.378759406476 ... 5.9319278638715645\n",
      "3.1435076384266162e+32   14002.5320654016 ...   5.93249330637762\n",
      "3.1426231762052773e+32 14003.694937388533 ...  5.933056310026299\n",
      "3.1418572729129726e+32 14004.747427385868 ...  5.933553970826981\n",
      "3.1412514101696487e+32 14005.539485757616 ...  5.933938708814777\n",
      "  3.14065875101774e+32 14006.427618268113 ...  5.934340180807375\n",
      " 3.140072730828415e+32  14007.35269293023 ...  5.934747561365378\n",
      "Length = 694 rows\n"
     ]
    }
   ],
   "source": [
    "# The individual points in the isochrone can be accessed using the points subfunction \n",
    "# on the isochrone object. This produces an astropy table that contains the \n",
    "# list of stellar masses in the isochrone and their associated properties\n",
    "print(my_iso.points)"
   ]
  },
  {
   "cell_type": "code",
   "execution_count": 4,
   "metadata": {},
   "outputs": [
    {
     "name": "stdout",
     "output_type": "stream",
     "text": [
      "OrderedDict([('REDLAW', 'H18b'), ('ATMFUNC', 'get_merged_atmosphere'), ('EVOMODEL', 'MISTv1'), ('LOGAGE', 6.698970004336019), ('AKS', 0.8), ('DISTANCE', 4000), ('METAL_IN', 0), ('METAL_ACT', 0.02380291467262473), ('WAVEMIN', 3000), ('WAVEMAX', 52000)])\n"
     ]
    }
   ],
   "source": [
    "# The isochrone table has meta keywords describing its properties\n",
    "print(my_iso.points.meta)"
   ]
  },
  {
   "cell_type": "code",
   "execution_count": 5,
   "metadata": {},
   "outputs": [
    {
     "name": "stdout",
     "output_type": "stream",
     "text": [
      "The columns in the isochrone table are: ['L', 'Teff', 'R', 'mass', 'logg', 'isWR', 'mass_current', 'phase', 'm_hst_f127m', 'm_hst_f139m', 'm_hst_f153m']\n"
     ]
    }
   ],
   "source": [
    "print('The columns in the isochrone table are: {0}'.format(my_iso.points.keys()))"
   ]
  },
  {
   "cell_type": "code",
   "execution_count": 6,
   "metadata": {},
   "outputs": [
    {
     "name": "stdout",
     "output_type": "stream",
     "text": [
      "1 M_sun: F127M = 19.047 mag, F139M = 18.446 mag, F153M = 17.773 mag\n"
     ]
    }
   ],
   "source": [
    "# Identify a 1 M_sun star, print F127M, F139M, and F153M mags\n",
    "idx = np.where( abs(my_iso.points['mass'] - 1.0) == min(abs(my_iso.points['mass'] - 1.0)) )[0]\n",
    "f127m = np.round(my_iso.points[idx[0]]['m_hst_f127m'], decimals=3)\n",
    "f139m = np.round(my_iso.points[idx[0]]['m_hst_f139m'], decimals=3)\n",
    "f153m = np.round(my_iso.points[idx[0]]['m_hst_f153m'], decimals=3)\n",
    "print('1 M_sun: F127M = {0} mag, F139M = {1} mag, F153M = {2} mag'.format(f127m, f139m, f153m))"
   ]
  },
  {
   "cell_type": "code",
   "execution_count": 7,
   "metadata": {},
   "outputs": [],
   "source": [
    "# Make a color-magnitude diagram\n",
    "py.figure(1, figsize=(10,10))\n",
    "py.clf()\n",
    "py.plot(my_iso.points['m_hst_f127m'] - my_iso.points['m_hst_f153m'], \n",
    "       my_iso.points['m_hst_f153m'], 'r-', label='_nolegend_')\n",
    "py.plot(my_iso.points['m_hst_f127m'][idx] - my_iso.points['m_hst_f153m'][idx], \n",
    "       my_iso.points['m_hst_f153m'][idx], 'b*', ms=15, label='1 $M_\\odot$')\n",
    "py.xlabel('F127M - F153M')\n",
    "py.ylabel('F153M')\n",
    "py.gca().invert_yaxis()\n",
    "py.legend()\n",
    "py.savefig('cmd.png')"
   ]
  },
  {
   "cell_type": "markdown",
   "metadata": {},
   "source": [
    "### Step 2: Make an Initial Mass Function"
   ]
  },
  {
   "cell_type": "markdown",
   "metadata": {},
   "source": [
    "PopStar offers a range of initial mass functions (IMFs) a user can use from to make the cluster. In addition to the parameters defining the IMF, the user can pass in a PopStar multiplicity object, which defines the multiplicity properties of the population. The default multiplicity is None (e.g. all stars are single).\n",
    "\n",
    "Here we define a Kroupa IMF using the Multiplicity properties defined in Lu+13. "
   ]
  },
  {
   "cell_type": "code",
   "execution_count": 8,
   "metadata": {},
   "outputs": [],
   "source": [
    "# Make multiplicity object\n",
    "imf_multi = multiplicity.MultiplicityUnresolved()\n",
    "\n",
    "# Make IMF object; we'll use a broken power law with the parameters from Kroupa+01\n",
    "massLimits = np.array([0.08, 0.5, 1, 120]) # Define boundaries of each mass segement\n",
    "powers = np.array([-1.3, -2.3, -2.3]) # Power law slope associated with each mass segment\n",
    "my_imf = imf.IMF_broken_powerlaw(massLimits, powers, imf_multi)"
   ]
  },
  {
   "cell_type": "markdown",
   "metadata": {},
   "source": [
    "### Step 3: Make the Cluster  \n",
    "#### Option 1: No compact objects\n",
    "To create the cluster, the user passes in an isochrone object, and imf object, and specifies the total cluster mass. Here we will make a 10^5 M_sun cluster using the isochrone and imf we have defined.\n",
    "\n",
    "The individual star systems in the cluster and their properties are stored in an astropy table accessed by the star_systems subfunction on the cluster object. Note that the photometry of these star systems includes the contributions from all companions, which are generated probabilistically using the multiplicity defined in the IMF object."
   ]
  },
  {
   "cell_type": "code",
   "execution_count": 9,
   "metadata": {
    "scrolled": true
   },
   "outputs": [
    {
     "name": "stderr",
     "output_type": "stream",
     "text": [
      "/Users/mwhosek/anaconda3/envs/astroconda2/lib/python3.6/site-packages/astropy/table/column.py:991: RuntimeWarning: invalid value encountered in greater\n",
      "  result = getattr(super(), op)(other)\n",
      "/Users/mwhosek/anaconda3/envs/astroconda2/lib/python3.6/site-packages/astropy/table/column.py:991: RuntimeWarning: invalid value encountered in less\n",
      "  result = getattr(super(), op)(other)\n"
     ]
    },
    {
     "name": "stdout",
     "output_type": "stream",
     "text": [
      "Found 17861 stars out of mass range\n",
      "Found 2583 companions out of stellar mass range\n",
      "        mass        isMultiple ...    m_hst_f153m     N_companions\n",
      "------------------- ---------- ... ------------------ ------------\n",
      "0.18200493886951155      False ... 20.363862768148632            0\n",
      "0.13584242074932878      False ... 20.809667457436966            0\n",
      "0.15644056640237047      False ... 20.587713804495294            0\n",
      " 0.1637913776975594      False ... 20.525401342938274            0\n",
      " 0.1169439433304339      False ... 21.011616702900028            0\n",
      "0.11613488522096137      False ...  21.02071295740121            0\n",
      " 1.2824128900619747       True ...  17.34195696679281            2\n",
      "  17.18558535997515       True ... 11.649800317868515            1\n",
      "0.19939956733438002      False ...  20.22190847876847            0\n",
      " 0.2836413269195361      False ... 19.689027988117225            0\n",
      "                ...        ... ...                ...          ...\n",
      " 0.3338224576752818      False ... 19.431205462523423            0\n",
      " 0.3520321799580914      False ... 19.349730894798455            0\n",
      "  4.851528307692336       True ...  14.19960367853511            1\n",
      "  0.257681419657927      False ... 19.831204309710767            0\n",
      "0.12845415556840642      False ...  20.89851658178774            0\n",
      " 0.2133162660132315      False ...  20.12807992264322            0\n",
      "  7.620334286754707       True ... 13.515709457996808            1\n",
      " 0.2358039800726861      False ...  19.97978746199243            0\n",
      " 0.1463274504277193      False ... 20.685391030316733            0\n",
      " 0.6992584157463577      False ... 18.363189227895578            0\n",
      "0.16447948967427603      False ...  20.51957021153389            0\n",
      "Length = 109318 rows\n"
     ]
    }
   ],
   "source": [
    "# Define total cluster mass\n",
    "mass = 10**5.\n",
    "\n",
    "# Make cluster object\n",
    "cluster = synthetic.ResolvedCluster(my_iso, my_imf, mass)\n",
    "\n",
    "# Look at star systems table\n",
    "print(cluster.star_systems)"
   ]
  },
  {
   "cell_type": "code",
   "execution_count": 10,
   "metadata": {},
   "outputs": [
    {
     "name": "stdout",
     "output_type": "stream",
     "text": [
      "The cluster table contains these columns: ['mass', 'isMultiple', 'systemMass', 'Teff', 'L', 'logg', 'isWR', 'mass_current', 'phase', 'm_hst_f127m', 'm_hst_f139m', 'm_hst_f153m', 'N_companions']\n"
     ]
    }
   ],
   "source": [
    "print('The cluster table contains these columns: {0}'.format(cluster.star_systems.keys()))"
   ]
  },
  {
   "cell_type": "code",
   "execution_count": 11,
   "metadata": {
    "scrolled": true
   },
   "outputs": [],
   "source": [
    "# Look at the cluster CMD, compared to input isochrone. Note the impact of\n",
    "# multiple systems on the photometry\n",
    "clust = cluster.star_systems\n",
    "iso = my_iso.points\n",
    "\n",
    "py.figure(2, figsize=(10,10))\n",
    "py.clf()\n",
    "py.plot(clust['m_hst_f127m'] - clust['m_hst_f153m'], clust['m_hst_f153m'],\n",
    "       'k.', ms=5, alpha=0.1, label='__nolegend__')\n",
    "py.plot(iso['m_hst_f127m'] - iso['m_hst_f153m'], iso['m_hst_f153m'],\n",
    "       'r-', label='Isochrone')\n",
    "py.xlabel('F127M - F153M')\n",
    "py.ylabel('F153M')\n",
    "py.gca().invert_yaxis()\n",
    "py.legend()\n",
    "py.savefig('simulated_cluster.png')"
   ]
  },
  {
   "cell_type": "markdown",
   "metadata": {},
   "source": [
    "#### Option 2: Compact objects (white dwarfs, neutron stars, and black holes)\n",
    "This is quite similar to the above, but includes compact objects. The additional piece of information required is to choose an initial-final mass relation (IFMR.) Currently there's only one choice in PopStar, so that makes your decision easy...\n",
    "\n",
    "The output is the same as if we were making a cluster without using an IFMR. However, you can tell that compact objects are made by looking at the 'phase' keyword. Black holes have 'phase' = 103, neutron stars have 'phase' = 102, and white dwarfs have 'phase' = 101. For these compact objects, the luminosity and temperature will return values of zero, and photometry will return nan, since we are assuming they are totally dark.\n",
    "\n",
    "Here, we make 4 different clusters, each of mass $10^6 M_\\odot$, by taking different combinations of age (either 100 Myr or 10 Gyr) and IMF (top-heavy or Kroupa). We then look at the different distributions of BH and WD masses. (Since NSs are all assigned a single mass in the IFMR, the mass distribution there is not very interesting. However, the relative number of NSs for each cluster will be different.)"
   ]
  },
  {
   "cell_type": "code",
   "execution_count": 12,
   "metadata": {},
   "outputs": [
    {
     "name": "stdout",
     "output_type": "stream",
     "text": [
      "Isochrone generation took 56.687098 s.\n",
      "Making photometry for isochrone: log(t) = 8.00  AKs = 0.00  dist = 10\n",
      "     Starting at:  2019-11-25 10:06:08.223757   Usually takes ~5 minutes\n",
      "Starting filter: wfc3,ir,f153m   Elapsed time: 0.00 seconds\n",
      "Starting synthetic photometry\n",
      "M =   0.112 Msun  T =  3010 K  m_hst_f153m = 8.71\n",
      "M =   1.612 Msun  T =  7715 K  m_hst_f153m = 2.10\n",
      "M =   4.773 Msun  T = 13582 K  m_hst_f153m = -1.33\n",
      "M =   5.013 Msun  T = 10084 K  m_hst_f153m = -2.79\n",
      "M =   5.020 Msun  T =  4310 K  m_hst_f153m = -4.95\n",
      "M =   5.271 Msun  T =  4854 K  m_hst_f153m = -5.22\n",
      "M =   5.321 Msun  T =  3454 K  m_hst_f153m = -7.60\n",
      "M =   5.324 Msun  T = 26655 K  m_hst_f153m = -3.20\n",
      "M =   5.324 Msun  T = 192342 K  m_hst_f153m = 3.13\n",
      "      Time taken: 30.87 seconds\n",
      "Isochrone generation took 65.605032 s.\n",
      "Making photometry for isochrone: log(t) = 10.00  AKs = 0.00  dist = 10\n",
      "     Starting at:  2019-11-25 10:07:44.714623   Usually takes ~5 minutes\n",
      "Starting filter: wfc3,ir,f153m   Elapsed time: 0.00 seconds\n",
      "Starting synthetic photometry\n",
      "M =   0.109 Msun  T =  2942 K  m_hst_f153m = 9.60\n",
      "M =   0.826 Msun  T =  5218 K  m_hst_f153m = 3.90\n",
      "M =   1.025 Msun  T =  4564 K  m_hst_f153m = -0.61\n",
      "M =   1.029 Msun  T =  4478 K  m_hst_f153m = -1.73\n",
      "M =   1.032 Msun  T =  4241 K  m_hst_f153m = -2.58\n",
      "M =   1.033 Msun  T =  3344 K  m_hst_f153m = -5.29\n",
      "M =   1.033 Msun  T =  3288 K  m_hst_f153m = -5.40\n",
      "M =   1.033 Msun  T =  3195 K  m_hst_f153m = -5.55\n",
      "M =   1.033 Msun  T = 10790 K  m_hst_f153m = -3.78\n",
      "M =   1.033 Msun  T = 61970 K  m_hst_f153m = 1.60\n",
      "M =   1.033 Msun  T = 83275 K  m_hst_f153m = 7.39\n",
      "      Time taken: 26.62 seconds\n",
      "Found 5624 stars out of mass range\n"
     ]
    },
    {
     "name": "stderr",
     "output_type": "stream",
     "text": [
      "/Users/mwhosek/anaconda3/envs/astroconda2/lib/python3.6/site-packages/astropy/table/column.py:991: RuntimeWarning: invalid value encountered in greater_equal\n",
      "  result = getattr(super(), op)(other)\n"
     ]
    },
    {
     "name": "stdout",
     "output_type": "stream",
     "text": [
      "Found 4153 stars out of mass range\n",
      "Found 99977 stars out of mass range\n",
      "Found 73469 stars out of mass range\n"
     ]
    }
   ],
   "source": [
    "# Create isochrone object  \n",
    "filt_list = ['wfc3,ir,f153m'] # We won't be doing much with synthetic photometry here, so only 1 filter\n",
    "my_ifmr = ifmr.IFMR()\n",
    "my_iso_young = synthetic.IsochronePhot(8, 0, 10,\n",
    "                                 evo_model = evolution.MISTv1(),\n",
    "                                      filters=filt_list)\n",
    "\n",
    "my_iso_old = synthetic.IsochronePhot(10, 0, 10,\n",
    "                                 evo_model = evolution.MISTv1(),\n",
    "                                    filters=filt_list)\n",
    "# Create IMF object                                                                                                                                                        \n",
    "massLimits = np.array([0.1, 0.5, 120])\n",
    "powers_kroupa = np.array([-1.3, -2.3])\n",
    "powers_theavy = np.array([-1.3, -1.3]) # top heavy\n",
    "trunc_kroupa = imf.IMF_broken_powerlaw(massLimits, powers_kroupa)\n",
    "trunc_theavy = imf.IMF_broken_powerlaw(massLimits, powers_theavy)\n",
    "\n",
    "# Make cluster                                                                                                                                                             \n",
    "cluster_mass = 10**6\n",
    "cluster_young_theavy = synthetic.ResolvedCluster(my_iso_young, trunc_theavy, cluster_mass, ifmr=my_ifmr)\n",
    "cluster_old_theavy = synthetic.ResolvedCluster(my_iso_old, trunc_theavy, cluster_mass, ifmr=my_ifmr)\n",
    "cluster_young_kroupa = synthetic.ResolvedCluster(my_iso_young, trunc_kroupa, cluster_mass, ifmr=my_ifmr)\n",
    "cluster_old_kroupa = synthetic.ResolvedCluster(my_iso_old, trunc_kroupa, cluster_mass, ifmr=my_ifmr)\n",
    "\n",
    "# Get the outputs\n",
    "young_theavy = cluster_young_theavy.star_systems\n",
    "old_theavy = cluster_old_theavy.star_systems\n",
    "young_kroupa = cluster_young_kroupa.star_systems\n",
    "old_kroupa = cluster_old_kroupa.star_systems"
   ]
  },
  {
   "cell_type": "code",
   "execution_count": 13,
   "metadata": {},
   "outputs": [],
   "source": [
    "young_theavy_bh_idx = np.where(young_theavy['phase'] == 103)[0]\n",
    "old_theavy_bh_idx = np.where(old_theavy['phase'] == 103)[0]\n",
    "young_kroupa_bh_idx = np.where(young_kroupa['phase'] == 103)[0]\n",
    "old_kroupa_bh_idx = np.where(old_kroupa['phase'] == 103)[0]\n",
    "\n",
    "bh_bins = np.linspace(5, 16, 16)\n",
    "wd_bins = np.linspace(0.4, 1.4, 16)\n",
    "\n",
    "plt.figure(figsize=(14,6))\n",
    "plt.subplot(1, 2, 1)\n",
    "plt.hist(young_theavy[young_theavy_bh_idx]['mass_current'], histtype = 'step',\n",
    "        bins = bh_bins, label = '100 Myr, TH IMF', color = 'red', linestyle = ':', lw = 2)\n",
    "plt.hist(old_theavy[old_theavy_bh_idx]['mass_current'], histtype = 'step',\n",
    "        bins = bh_bins, label = '10 Gyr, TH IMF', color = 'gray', linestyle = ':', lw = 2)\n",
    "plt.hist(young_kroupa[young_kroupa_bh_idx]['mass_current'], histtype = 'step',\n",
    "        bins = bh_bins, label = '100 Myr, Kr IMF', color = 'red', lw = 2)\n",
    "plt.hist(old_kroupa[old_kroupa_bh_idx]['mass_current'], histtype = 'step',\n",
    "        bins = bh_bins, label = '10 Gyr, Kr IMF', color = 'gray', lw = 2)\n",
    "plt.title('BH Mass Function')\n",
    "plt.xlabel('Mass ($M_\\odot$)')\n",
    "plt.ylabel('Number')\n",
    "plt.legend()\n",
    "\n",
    "young_theavy_wd_idx = np.where(young_theavy['phase'] == 101)[0]\n",
    "old_theavy_wd_idx = np.where(old_theavy['phase'] == 101)[0]\n",
    "young_kroupa_wd_idx = np.where(young_kroupa['phase'] == 101)[0]\n",
    "old_kroupa_wd_idx = np.where(old_kroupa['phase'] == 101)[0]\n",
    "\n",
    "plt.subplot(1, 2, 2)\n",
    "plt.hist(young_theavy[young_theavy_wd_idx]['mass_current'], histtype = 'step',\n",
    "        bins = wd_bins, label = '100 Myr, TH IMF', color = 'red', linestyle = ':', lw = 2)\n",
    "plt.hist(old_theavy[old_theavy_wd_idx]['mass_current'], histtype = 'step',\n",
    "        bins = wd_bins, label = '10 Gyr, TH IMF', color = 'gray', linestyle = ':', lw = 2)\n",
    "plt.hist(young_kroupa[young_kroupa_wd_idx]['mass_current'], histtype = 'step',\n",
    "        bins = wd_bins, label = '100 Myr, Kr IMF', color = 'red', lw = 2)\n",
    "plt.hist(old_kroupa[old_kroupa_wd_idx]['mass_current'], histtype = 'step',\n",
    "        bins = wd_bins, label = '10 Gyr, Kr IMF', color = 'gray', lw = 2)\n",
    "plt.yscale('log')\n",
    "plt.title('WD Mass Function')\n",
    "plt.xlabel('Mass ($M_\\odot$)')\n",
    "plt.legend()\n",
    "py.savefig('compact_remnants.png')"
   ]
  },
  {
   "cell_type": "markdown",
   "metadata": {},
   "source": [
    "Plotted above are the distributions of BH and WD masses for clusters of different ages (100 Myr or 10 Gyr), with either a top-heavy or Kroupa IMF. For BHs, since those are formed relatively early on, the age of the cluster does not significantly change the mass distribution as most BHs have already formed by 100 Myr. However, the top heavy IMF allows the creation of many more massive compact objects. For WDs, both the age and IMF make significant differences in the distribution (note y-axis is logscaled)."
   ]
  }
 ],
 "metadata": {
  "kernelspec": {
   "display_name": "Python 3",
   "language": "python",
   "name": "python3"
  },
  "language_info": {
   "codemirror_mode": {
    "name": "ipython",
    "version": 3
   },
   "file_extension": ".py",
   "mimetype": "text/x-python",
   "name": "python",
   "nbconvert_exporter": "python",
   "pygments_lexer": "ipython3",
   "version": "3.6.9"
  }
 },
 "nbformat": 4,
 "nbformat_minor": 2
}
