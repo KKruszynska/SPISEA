{
 "cells": [
  {
   "cell_type": "markdown",
   "metadata": {},
   "source": [
    "# Additional PopStar Examples from Section 5 of Paper"
   ]
  },
  {
   "cell_type": "markdown",
   "metadata": {},
   "source": [
    "### Creating PopStar Isochrones Using Different Stellar Evolution Models (Section 5.1)"
   ]
  },
  {
   "cell_type": "code",
   "execution_count": 1,
   "metadata": {},
   "outputs": [
    {
     "name": "stderr",
     "output_type": "stream",
     "text": [
      "/Users/mwhosek/anaconda3/envs/astroconda/lib/python3.5/site-packages/pysynphot/locations.py:329: UserWarning: Extinction files not found in /Users/mwhosek/models/models_2019_06/cdbs/extinction\n",
      "  warnings.warn('Extinction files not found in %s' % (extdir, ))\n"
     ]
    }
   ],
   "source": [
    "# Import necessary packages. \n",
    "from popstar import synthetic, evolution, atmospheres, reddening, ifmr\n",
    "from popstar.imf import imf, multiplicity\n",
    "import numpy as np\n",
    "import pylab as py\n",
    "import pdb\n",
    "import os\n",
    "import pylab as py"
   ]
  },
  {
   "cell_type": "code",
   "execution_count": 4,
   "metadata": {},
   "outputs": [],
   "source": [
    "# Define isochrone parameters\n",
    "logAge = 6.70 # Age in log(years)\n",
    "AKs = 0 # Ks filter extinction in mags\n",
    "dist = 10 # distance in parsecs\n",
    "metallicity = 0 # metallicity in [M/H]\n",
    "atm_func = atmospheres.get_merged_atmosphere\n",
    "\n",
    "# Define evolution models\n",
    "evo_e12 = evolution.Ekstrom12(rot=True) # Rotating models are default \n",
    "evo_mist = evolution.MISTv1(version=1.2) # Version 1.2 is the default\n",
    "evo_parsec = evolution.Parsec()\n",
    "evo_pisa = evolution.Pisa()\n",
    "evo_baraffe = evolution.Baraffe15()\n",
    "    \n",
    "# Also specify filters for synthetic photometry (optional). Here we use \n",
    "# the HST WFC3-IR F127M, F139M, and F153M filters\n",
    "filt_list = ['wfc3,ir,f127m', 'wfc3,ir,f139m', 'wfc3,ir,f153m']\n",
    "\n",
    "# Define iso directories for each evolution model. This is important because\n",
    "# otherwise the isochrones will overwrite each other (evolution model is\n",
    "# not included in part of file name)\n",
    "iso_dir_e12 = 'iso_e12/'\n",
    "iso_dir_mist = 'iso_mist/'\n",
    "iso_dir_parsec = 'iso_parsec/'\n",
    "iso_dir_pisa = 'iso_pisa/'\n",
    "iso_dir_baraffe = 'iso_baraffe/'\n",
    "\n",
    "# Make isochrone directories, if they don't already exist\n",
    "arr = [iso_dir_e12, iso_dir_mist, iso_dir_parsec, iso_dir_pisa, iso_dir_baraffe]\n",
    "for ii in arr:\n",
    "    if not os.path.exists(ii):\n",
    "        os.mkdir(ii)"
   ]
  },
  {
   "cell_type": "code",
   "execution_count": 5,
   "metadata": {},
   "outputs": [
    {
     "name": "stdout",
     "output_type": "stream",
     "text": [
      "Isochrone generation took 44.591457 s.\n",
      "Making photometry for isochrone: log(t) = 6.70  AKs = 0.00  dist = 10\n",
      "     Starting at:  2019-06-22 15:16:35.187773   Usually takes ~5 minutes\n",
      "Starting filter: wfc3,ir,f127m   Elapsed time: 0.00 seconds\n",
      "Starting synthetic photometry\n",
      "M =   0.206 Msun  T =  3278 K  m_hst_f127m = 5.46\n",
      "M =   1.959 Msun  T =  6233 K  m_hst_f127m = 1.00\n",
      "M =   2.808 Msun  T = 12260 K  m_hst_f127m = 1.10\n",
      "M =   3.475 Msun  T = 14080 K  m_hst_f127m = 0.65\n",
      "Starting filter: wfc3,ir,f139m   Elapsed time: 8.52 seconds\n",
      "Starting synthetic photometry\n",
      "M =   0.206 Msun  T =  3278 K  m_hst_f139m = 5.39\n",
      "M =   1.959 Msun  T =  6233 K  m_hst_f139m = 0.92\n",
      "M =   2.808 Msun  T = 12260 K  m_hst_f139m = 1.11\n",
      "M =   3.475 Msun  T = 14080 K  m_hst_f139m = 0.67\n",
      "Starting filter: wfc3,ir,f153m   Elapsed time: 17.66 seconds\n",
      "Starting synthetic photometry\n",
      "M =   0.206 Msun  T =  3278 K  m_hst_f153m = 5.10\n",
      "M =   1.959 Msun  T =  6233 K  m_hst_f153m = 0.80\n",
      "M =   2.808 Msun  T = 12260 K  m_hst_f153m = 1.11\n",
      "M =   3.475 Msun  T = 14080 K  m_hst_f153m = 0.67\n",
      "      Time taken: 27.24 seconds\n"
     ]
    },
    {
     "name": "stderr",
     "output_type": "stream",
     "text": [
      "WARNING: VerifyWarning: Keyword name 'METAL_ACT' is greater than 8 characters or contains characters not allowed by the FITS standard; a HIERARCH card will be created. [astropy.io.fits.card]\n"
     ]
    },
    {
     "name": "stdout",
     "output_type": "stream",
     "text": [
      "Isochrone generation took 0.682764 s.\n",
      "Making photometry for isochrone: log(t) = 6.70  AKs = 0.00  dist = 10\n",
      "     Starting at:  2019-06-22 15:17:03.141002   Usually takes ~5 minutes\n",
      "Starting filter: wfc3,ir,f127m   Elapsed time: 0.00 seconds\n",
      "Starting synthetic photometry\n",
      "M =   0.070 Msun  T =  2930 K  m_hst_f127m = 7.02\n",
      "Starting filter: wfc3,ir,f139m   Elapsed time: 0.23 seconds\n",
      "Starting synthetic photometry\n",
      "M =   0.070 Msun  T =  2930 K  m_hst_f139m = 7.12\n",
      "Starting filter: wfc3,ir,f153m   Elapsed time: 0.46 seconds\n",
      "Starting synthetic photometry\n",
      "M =   0.070 Msun  T =  2930 K  m_hst_f153m = 6.84\n",
      "      Time taken: 0.70 seconds\n"
     ]
    }
   ],
   "source": [
    "# Make Isochrone objects. Note that is calculation will take a few minutes per \n",
    "# isochrone, unless they have been made already.\n",
    "# To speed up isochrone generation, we will set mass sampling = 3,\n",
    "# which says to generate every 3rd point that exists on the original\n",
    "# model isochrone\n",
    "iso_e12 = synthetic.IsochronePhot(logAge, AKs, dist, metallicity=0,\n",
    "                                 evo_model=evo_e12, atm_func=atm_func,\n",
    "                                 filters=filt_list,\n",
    "                                 iso_dir=iso_dir_e12, mass_sampling=3)\n",
    "\n",
    "iso_mist = synthetic.IsochronePhot(logAge, AKs, dist, metallicity=0,\n",
    "                                 evo_model=evo_mist, atm_func=atm_func,\n",
    "                                  filters=filt_list,\n",
    "                                 iso_dir=iso_dir_mist, mass_sampling=3)\n",
    "    \n",
    "iso_parsec = synthetic.IsochronePhot(logAge, AKs, dist, metallicity=0,\n",
    "                                 evo_model=evo_parsec, atm_func=atm_func,\n",
    "                                 filters=filt_list,\n",
    "                                 iso_dir=iso_dir_parsec, mass_sampling=3)\n",
    "    \n",
    "iso_pisa = synthetic.IsochronePhot(logAge, AKs, dist, metallicity=0,\n",
    "                                 evo_model=evo_pisa, atm_func=atm_func,\n",
    "                                 filters=filt_list,\n",
    "                                 iso_dir=iso_dir_pisa, mass_sampling=3)\n",
    "    \n",
    "iso_baraffe = synthetic.IsochronePhot(logAge, AKs, dist, metallicity=0,\n",
    "                                 evo_model=evo_baraffe, atm_func=atm_func,\n",
    "                                 filters=filt_list,\n",
    "                                 iso_dir=iso_dir_baraffe, mass_sampling=3)"
   ]
  },
  {
   "cell_type": "code",
   "execution_count": 7,
   "metadata": {},
   "outputs": [
    {
     "data": {
      "text/plain": [
       "<matplotlib.legend.Legend at 0x1a2427c9e8>"
      ]
     },
     "execution_count": 7,
     "metadata": {},
     "output_type": "execute_result"
    }
   ],
   "source": [
    "# Make plot comparing the HR-diagram of post-main sequence and pre-main sequence\n",
    "# stars in these model sets (FIGURE XXX in paper)\n",
    "py.figure(figsize=(20,10))\n",
    "py.subplots_adjust(left=0.1)\n",
    "py.subplot(121)\n",
    "py.plot(np.log10(iso_e12.points['Teff']), np.log10(iso_e12.points['L']), 'k-',\n",
    "                label='Geneva', linewidth=2)\n",
    "py.plot(np.log10(iso_mist.points['Teff']), np.log10(iso_mist.points['L']), 'r-',\n",
    "                label='MIST', linewidth=2)\n",
    "py.plot(np.log10(iso_parsec.points['Teff']), np.log10(iso_parsec.points['L']), 'b-',\n",
    "                label='Parsec', linewidth=2)\n",
    "py.xlabel('log(Teff) [K]', fontsize=24)\n",
    "py.ylabel('log(L) [W]', fontsize=24)\n",
    "py.gca().invert_xaxis()\n",
    "py.tick_params(axis='both', labelsize=20)\n",
    "py.ylim(30.5,33)\n",
    "py.legend(loc=2)\n",
    "py.subplot(122)\n",
    "py.plot(np.log10(iso_pisa.points['Teff']), np.log10(iso_pisa.points['L']), 'k-',\n",
    "                label='Pisa', linewidth=2)\n",
    "py.plot(np.log10(iso_mist.points['Teff']), np.log10(iso_mist.points['L']), 'r-',\n",
    "                label='MIST', linewidth=2)\n",
    "py.plot(np.log10(iso_parsec.points['Teff']), np.log10(iso_parsec.points['L']), 'b-',\n",
    "                label='Parsec', linewidth=2)\n",
    "py.plot(np.log10(iso_baraffe.points['Teff']), np.log10(iso_baraffe.points['L']), 'c-',\n",
    "                label='Baraffe+15', linewidth=2)\n",
    "py.xlabel('log(Teff) [K]', fontsize=24)\n",
    "py.ylabel('log(L) [W]', fontsize=24)\n",
    "py.gca().invert_xaxis()\n",
    "py.axis([4.0, 3.3, 24.5, 28.5])\n",
    "py.tick_params(axis='both', labelsize=20)\n",
    "py.legend()"
   ]
  },
  {
   "cell_type": "code",
   "execution_count": null,
   "metadata": {},
   "outputs": [],
   "source": []
  }
 ],
 "metadata": {
  "kernelspec": {
   "display_name": "Python 3",
   "language": "python",
   "name": "python3"
  },
  "language_info": {
   "codemirror_mode": {
    "name": "ipython",
    "version": 3
   },
   "file_extension": ".py",
   "mimetype": "text/x-python",
   "name": "python",
   "nbconvert_exporter": "python",
   "pygments_lexer": "ipython3",
   "version": "3.5.5"
  }
 },
 "nbformat": 4,
 "nbformat_minor": 2
}
