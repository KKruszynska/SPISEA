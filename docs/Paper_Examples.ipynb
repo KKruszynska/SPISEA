{
 "cells": [
  {
   "cell_type": "markdown",
   "metadata": {},
   "source": [
    "# Additional PopStar Examples from Section 5 of Paper"
   ]
  },
  {
   "cell_type": "markdown",
   "metadata": {},
   "source": [
    "### Creating PopStar Isochrones Using Different Stellar Evolution Models (Section 5.1)"
   ]
  },
  {
   "cell_type": "code",
   "execution_count": 1,
   "metadata": {},
   "outputs": [
    {
     "name": "stderr",
     "output_type": "stream",
     "text": [
      "/Users/mwhosek/anaconda3/envs/astroconda/lib/python3.5/site-packages/pysynphot/locations.py:329: UserWarning: Extinction files not found in /Users/mwhosek/models/models_2019_06/cdbs/extinction\n",
      "  warnings.warn('Extinction files not found in %s' % (extdir, ))\n"
     ]
    }
   ],
   "source": [
    "# Import necessary packages. \n",
    "from popstar import synthetic, evolution, atmospheres, reddening, ifmr\n",
    "from popstar.imf import imf, multiplicity\n",
    "import numpy as np\n",
    "import pylab as py\n",
    "import pdb\n",
    "import os\n",
    "import matplotlib.pyplot as plt"
   ]
  },
  {
   "cell_type": "code",
   "execution_count": null,
   "metadata": {},
   "outputs": [],
   "source": [
    "# Define isochrone parameters\n",
    "logAge = np.log10(5*10**6.) # Age in log(years)\n",
    "AKs = 0 # Ks filter extinction in mags\n",
    "dist = 10 # distance in parsecs\n",
    "metallicity = 0 # metallicity in [M/H]\n",
    "\n",
    "# Define evolution models\n",
    "evo_E12 = evolution.Ekstrom12(rot=True) # Rotating models are default \n",
    "evo_MIST = evolution.MISTv1(version=1.2) # Version 1.2 is the default\n",
    "evo_parsec = evolution.Parsec\n",
    "atm_func = atmospheres.get_merged_atmosphere\n",
    "red_law = reddening.RedLawHosek18b()\n",
    "\n",
    "# Also specify filters for synthetic photometry (optional). Here we use \n",
    "# the HST WFC3-IR F127M, F139M, and F153M filters\n",
    "filt_list = ['wfc3,ir,f127m', 'wfc3,ir,f139m', 'wfc3,ir,f153m']\n",
    "\n",
    "# Define iso directories for each evolution model. This is important because\n",
    "# otherwise the isochrones will overwrite each other (evolution model is\n",
    "# not included in part of file name)\n",
    "iso_dir_e12 = 'iso_e12/'\n",
    "iso_dir_MIST = 'iso_mist/'\n",
    "iso_dir_parsec = 'iso_parsec/'\n",
    "iso_dir_pisa = 'iso_pisa/'\n",
    "iso_dir_baraffe = 'iso_baraffe/'\n",
    "\n",
    "# Make isochrone directories, if they don't already exist\n",
    "arr = [iso_dir_e12, iso_dir_MIST, iso_dir_parsec, iso_dir_pisa, iso_dir_baraffe]\n",
    "for ii in arr:\n",
    "    if not os.path.exists(ii):\n",
    "        os.mkdir(ii)"
   ]
  },
  {
   "cell_type": "code",
   "execution_count": null,
   "metadata": {},
   "outputs": [],
   "source": [
    "# Make Isochrone objects. Note that is calculation will take a few minutes per \n",
    "# isochrone, unless they have been made already.\n",
    "# To speed up isochrone generation, we will set mass sampling = 3,\n",
    "# which says to generate every 3rd point that exists on the original\n",
    "# model isochrone\n",
    "\n",
    "iso_e12 = synthetic.IsochronePhot(logAge, AKs, dist, metallicity=0,\n",
    "                                 evo_model=evo_e12, atm_func=atm_func,\n",
    "                                  red_law=red_law, filters=filt_list,\n",
    "                                 iso_dir=iso_dir_e12, mass_sampling=3)\n",
    "\n",
    "iso_mist = synthetic.IsochronePhot(logAge, AKs, dist, metallicity=0,\n",
    "                                 evo_model=evo_e12, atm_func=atm_func,\n",
    "                                  red_law=red_law, filters=filt_list,\n",
    "                                 iso_dir=iso_dir_e12, mass_sampling=3)\n",
    "\n",
    "iso_parsec = synthetic.IsochronePhot(logAge, AKs, dist, metallicity=0,\n",
    "                                 evo_model=evo_e12, atm_func=atm_func,\n",
    "                                  red_law=red_law, filters=filt_list,\n",
    "                                 iso_dir=iso_dir_e12, mass_sampling=3)\n",
    "\n",
    "iso_pisa = synthetic.IsochronePhot(logAge, AKs, dist, metallicity=0,\n",
    "                                 evo_model=evo_e12, atm_func=atm_func,\n",
    "                                  red_law=red_law, filters=filt_list,\n",
    "                                 iso_dir=iso_dir_e12, mass_sampling=3)\n",
    "\n",
    "iso_baraffe = synthetic.IsochronePhot(logAge, AKs, dist, metallicity=0,\n",
    "                                 evo_model=evo_e12, atm_func=atm_func,\n",
    "                                  red_law=red_law, filters=filt_list,\n",
    "                                 iso_dir=iso_dir_e12, mass_sampling=3)"
   ]
  },
  {
   "cell_type": "code",
   "execution_count": null,
   "metadata": {},
   "outputs": [],
   "source": [
    "# Make plot comparing the HR-diagram of post-main sequence and pre-main sequence\n",
    "# stars in these model sets (FIGURE XXX in paper)\n",
    "py.figure(figsize=(20,10))\n",
    "py.subplots_adjust(left=0.08)\n",
    "py.subplot(121)\n",
    "py.plot(iso_e12.points['Teff'], np.log10(iso_e12.points['logL'], 'k-', label='Geneva'))\n",
    "py.plot(iso_mist.points['Teff'], np.log10(iso_mist.points['logL'], 'r-', label='MIST'))\n",
    "py.plot(iso_parsec.points['Teff'], np.log10(iso_parsec.points['logL'], 'b-', label='Parsec'))\n",
    "py.xlabel('Teff', fontsize=24)\n",
    "py.ylabel('logL', fontsize=24)\n",
    "py.gca().invert_xaxis()\n",
    "py.tick_params(axis='both', labelsize=22)\n",
    "py.legend()\n",
    "py.subplot(122)\n",
    "py.plot(iso_pisa.points['Teff'], np.log10(iso_pisa.points['logL'], 'k-', label='Pisa'))\n",
    "py.plot(iso_mist.points['Teff'], np.log10(iso_mist.points['logL'], 'r-', label='MIST'))\n",
    "py.plot(iso_parsec.points['Teff'], np.log10(iso_parsec.points['logL'], 'b-', label='Parsec'))\n",
    "py.plot(iso_baraffe.points['Teff'], np.log10(iso_baraffe.points['logL'], 'm-', label='Baraffe+15'))\n",
    "py.xlabel('Teff', fontsize=24)\n",
    "py.ylabel('logL', fontsize=24)\n",
    "py.gca().invert_xaxis()\n",
    "py.tick_params(axis='both', labelsize=22)\n",
    "py.legend()\n",
    "py.savefig('evo_hrd_comp.pdf', format='pdf')"
   ]
  }
 ],
 "metadata": {
  "kernelspec": {
   "display_name": "Python 3",
   "language": "python",
   "name": "python3"
  },
  "language_info": {
   "codemirror_mode": {
    "name": "ipython",
    "version": 3
   },
   "file_extension": ".py",
   "mimetype": "text/x-python",
   "name": "python",
   "nbconvert_exporter": "python",
   "pygments_lexer": "ipython3",
   "version": "3.5.5"
  }
 },
 "nbformat": 4,
 "nbformat_minor": 2
}
