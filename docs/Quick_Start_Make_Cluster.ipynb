{
 "cells": [
  {
   "cell_type": "markdown",
   "metadata": {},
   "source": [
    "# PopStar Quick Start: Making A Cluster"
   ]
  },
  {
   "cell_type": "markdown",
   "metadata": {},
   "source": [
    "This is a quick start guide to making a synthetic cluster using the PopStar package. The cluster is constructed using a user-specified isochrone and initial mass function (IMF). Detailed documentation with all the available options to the user at each step is provided in [XXX].\n",
    "\n",
    "Before starting this tutorial, it is assumed that PopStar has been installed and the user's python path has been altered to include the PopStar top-level directory"
   ]
  },
  {
   "cell_type": "code",
   "execution_count": 1,
   "metadata": {},
   "outputs": [
    {
     "name": "stderr",
     "output_type": "stream",
     "text": [
     ]
    }
   ],
   "source": [
    "# Import necessary packages. \n",
    "from popstar import synthetic, evolution, atmospheres, reddening, ifmr\n",
    "from popstar.imf import imf, multiplicity\n",
    "import numpy as np\n",
    "import pylab as py\n",
    "import pdb"
   ]
  },
  {
   "cell_type": "markdown",
   "metadata": {},
   "source": [
    "#### Step 1: Make a PopStar isochrone object"
   ]
  },
  {
   "cell_type": "markdown",
   "metadata": {},
   "source": [
    "The cluster is made from a theoretical isochrone at a given age, extinction, and distance from Earth. These parameters MUST be specified by the user. Other inputs (e.g. stellar evolution/atmosphere models, extinction law, and photometric filters used) are optional keywords. See documentation for all keywords and their default values.\n",
    "\n",
    "Here, we create a 5 Myr cluster isochrone at an extinction of 0.8 mags and distance of 4000 pc from Earth."
   ]
  },
  {
   "cell_type": "code",
<<<<<<< HEAD
   "execution_count": 2,
   "metadata": {},
   "outputs": [],
   "source": [
    "# Define isochrone parameters\n",
    "logAge = np.log10(5*10**6.) # Age in log(years)\n",
    "AKs = 0.8 # extinction in mags\n",
    "dist = 4000 # distance in parsec\n",
    "\n",
    "# Define evolution/atmosphere models and extinction law (optional; will revert to defaults otherwise)\n",
    "evo_model = evolution.MergedBaraffePisaEkstromParsec() \n",
    "atm_func = atmospheres.get_merged_atmosphere # Used for stars\n",
    "wd_atm_func = atmospheres.get_wd_atmosphere # Used for white dwarfs (if any)\n",
    "red_law = reddening.RedLawHosek18b()\n",
    "\n",
    "# Also specify filters for synthetic photometry (optional). Here we use \n",
    "# the HST WFC3-IR F127M, F139M, and F153M filters\n",
    "filt_list = ['wfc3,ir,f127m', 'wfc3,ir,f139m', 'wfc3,ir,f153m']\n",
    "\n",
    "# Make Isochrone object. Note that is calculation will take a few minutes, unless the \n",
    "# isochrone has been generated previously.\n",
    "my_iso = synthetic.IsochronePhot(logAge, AKs, dist,\n",
    "                            evo_model=evo_model, atm_func=atm_func,\n",
    "                            wd_atm_func=wd_atm_func,\n",
    "                            red_law=red_law, filters=filt_list)"
   ]
  },
  {
   "cell_type": "markdown",
   "metadata": {},
   "source": [
    "Once calculated, the isochrone will be written as a fits file to a location set by the \"iso_dir\" keyword (not shown here; default location is current working directory). In future code calls, the IsochronePhot function will read this file directly rather than recalculating the isochrone again. \n",
    "\n",
    "The file name will be the following: \"iso_logAge_AKs_distance.fits, using the specified values"
   ]
  },
  {
   "cell_type": "code",
   "execution_count": 3,
   "metadata": {},
   "outputs": [
    {
     "name": "stdout",
     "output_type": "stream",
     "text": [
     ]
    }
   ],
   "source": [
    "# The individual points in the isochrone can be accessed using the points subfunction \n",
    "# on the isochrone object. This produces an astropy table that contains the \n",
    "# list of stellar masses in the isochrone and their associated properties\n",
    "print(my_iso.points)"
   ]
  },
  {
   "cell_type": "code",
   "execution_count": 4,
   "metadata": {},
   "outputs": [
    {
     "name": "stdout",
     "output_type": "stream",
     "text": [
      "The columns in the isochrone table are: ['L', 'Teff', 'R', 'mass', 'logg', 'isWR', 'mass_current', 'phase', 'm_hst_f127m', 'm_hst_f139m', 'm_hst_f153m']\n"
     ]
    }
   ],
   "source": [
    "print('The columns in the isochrone table are: {0}'.format(my_iso.points.keys()))"
   ]
  },
  {
   "cell_type": "code",
   "metadata": {},
   "outputs": [
    {
     "name": "stdout",
     "output_type": "stream",
     "text": [
     ]
    }
   ],
   "source": [
    "# Identify a 1 M_sun star, print F127M, F139M, and F153M mags\n",
    "idx = np.where( abs(my_iso.points['mass'] - 1.0) == min(abs(my_iso.points['mass'] - 1.0)) )[0]\n",
    "f127m = np.round(my_iso.points[idx[0]]['m_hst_f127m'], decimals=3)\n",
    "f139m = np.round(my_iso.points[idx[0]]['m_hst_f139m'], decimals=3)\n",
    "f153m = np.round(my_iso.points[idx[0]]['m_hst_f153m'], decimals=3)\n",
    "print('1 M_sun: F127M = {0} mag, F139M = {1} mag, F153M = {2} mag'.format(f127m, f139m, f153m))"
   ]
  },
  {
   "cell_type": "code",
      "text/plain": [
       "<Figure size 720x720 with 1 Axes>"
      ]
     },
     "metadata": {
      "needs_background": "light"
     },
     "output_type": "display_data"
    }
   ],
   "source": [
    "# Make a color-magnitude diagram\n",
    "py.figure(1, figsize=(10,10))\n",
    "py.clf()\n",
    "py.plot(my_iso.points['m_hst_f127m'] - my_iso.points['m_hst_f153m'], \n",
    "       my_iso.points['m_hst_f153m'], 'r-', label='_nolegend_')\n",
    "py.plot(my_iso.points['m_hst_f127m'][idx] - my_iso.points['m_hst_f153m'][idx], \n",
    "       my_iso.points['m_hst_f153m'][idx], 'b*', ms=15, label='1 M_sun')\n",
    "py.xlabel('F127M - F153M')\n",
    "py.ylabel('F153M')\n",
    "py.gca().invert_yaxis()\n",
    "py.legend()"
   ]
  },
  {
   "cell_type": "markdown",
   "metadata": {},
   "source": [
    "### Step 2: Make an Initial Mass Function"
   ]
  },
  {
   "cell_type": "markdown",
   "metadata": {},
   "source": [
    "PopStar offers a range of initial mass functions (IMFs) a user can use from to make the cluster. In addition to the parameters defining the IMF, the user can pass in a PopStar multiplicity object, which defines the multiplicity properties of the population. The default multiplicity is None (e.g. all stars are single).\n",
    "\n",
    "Here we define a Kroupa IMF using the Multiplicity properties defined in Lu+13. "
   ]
  },
  {
   "cell_type": "code",
   "metadata": {},
   "outputs": [],
   "source": [
    "# Make multiplicity object\n",
    "imf_multi = multiplicity.MultiplicityUnresolved()\n",
    "\n",
    "# Make IMF object; we'll use a broken power law with the parameters from Kroupa+01\n",
    "massLimits = np.array([0.08, 0.5, 1, 120]) # Define boundaries of each mass segement\n",
    "powers = np.array([-1.3, -2.3, -2.3]) # Power law slope associated with each mass segment\n",
    "my_imf = imf.IMF_broken_powerlaw(massLimits, powers, imf_multi)\n",
    "\n",
    "## Note: there is a Kroupa_2001 IMF object in the popstar/imf.py that one could use\n",
    "## to generate the Kroupa+01 IMF. However, the Kroupa_2001 IMF object contains masses\n",
    "## down to 0.01 M_sun, which is beyond the lower limit of our isochrones. As a result,\n",
    "## the synthetic photometry of these stars systems are non-sensical \n",
    "##\n",
    "## If the user isn't interested in the photometry, then they could define the \n",
    "## IMF object as:\n",
    "## my_imf = imf.Kroupa_2001(multiplicity=imf_multi)"
   ]
  },
  {
   "cell_type": "markdown",
   "metadata": {},
   "source": [
    "### Step 3: Make the Cluster  \n",
    "#### Option 1: No compact objects\n",
    "To create the cluster, the user passes in an isochrone object, and imf object, and specifies the total cluster mass. Here we will make a 10^5 M_sun cluster using the isochrone and imf we have defined.\n",
    "\n",
    "The individual star systems in the cluster and their properties are stored in an astropy table accessed by the star_systems subfunction on the cluster object. Note that the photometry of these star systems includes the contributions from all companions, which are generated probabilistically using the multiplicity defined in the IMF object."
   ]
  },
  {
   "cell_type": "code",
   "metadata": {
    "scrolled": true
   },
   "outputs": [
    {
     "name": "stdout",
     "output_type": "stream",
     "text": [
     ]
    }
   ],
   "source": [
    "# Define total cluster mass\n",
    "mass = 10**5.\n",
    "\n",
    "# Make cluster object\n",
    "cluster = synthetic.ResolvedCluster(my_iso, my_imf, mass)\n",
    "\n",
    "# Look at star systems table\n",
    "print(cluster.star_systems)"
   ]
  },
  {
   "cell_type": "code",
   "metadata": {},
   "outputs": [
    {
     "name": "stdout",
     "output_type": "stream",
     "text": [
      "The cluster table contains these columns: ['mass', 'isMultiple', 'systemMass', 'Teff', 'L', 'logg', 'isWR', 'mass_current', 'phase', 'm_hst_f127m', 'm_hst_f139m', 'm_hst_f153m', 'N_companions']\n"
     ]
    }
   ],
   "source": [
    "print('The cluster table contains these columns: {0}'.format(cluster.star_systems.keys()))"
   ]
  },
  {
   "cell_type": "code",
      "text/plain": [
       "<Figure size 720x720 with 1 Axes>"
      ]
     },
     "metadata": {
      "needs_background": "light"
     },
     "output_type": "display_data"
    }
   ],
   "source": [
    "# Look at the cluster CMD, compared to input isochrone. Note the impact of\n",
    "# multiple systems on the photometry\n",
    "clust = cluster.star_systems\n",
    "iso = my_iso.points\n",
    "\n",
    "py.figure(2, figsize=(10,10))\n",
    "py.clf()\n",
    "py.plot(clust['m_hst_f127m'] - clust['m_hst_f153m'], clust['m_hst_f153m'],\n",
    "       'k.', ms=5, alpha=0.1, label='__nolegend__')\n",
    "py.plot(iso['m_hst_f127m'] - iso['m_hst_f153m'], iso['m_hst_f153m'],\n",
    "       'r-', label='Isochrone')\n",
    "py.xlabel('F127M - F153M')\n",
    "py.ylabel('F153M')\n",
    "py.gca().invert_yaxis()\n",
    "py.legend()"
   ]
  },
  {
   "cell_type": "markdown",
   "metadata": {},
   "source": [
    "#### Option 2: Compact objects (white dwarfs, neutron stars, and black holes)\n",
    "This is quite similar to the above, but includes compact objects. The additional piece of information required is to choose an initial-final mass relation (IFMR.) Currently there's only one choice in PopStar, so that makes your decision easy."
   ]
  },
  {
   "cell_type": "code",
   "execution_count": 11,
   "metadata": {},
   "outputs": [],
   "source": [
    "# Create isochrone object                                                                                                                                                  \n",
    "my_ifmr = ifmr.IFMR()\n",
    "my_iso = synthetic.IsochronePhot(9, 0, 10,\n",
    "                                 evo_model = evolution.MISTv1())\n",
    "\n",
    "# Create IMF object                                                                                                                                                        \n",
    "massLimits = np.array([0.1, 0.5, 120])\n",
    "powers = np.array([-1.3, -2.3])\n",
    "trunc_kroupa = imf.IMF_broken_powerlaw(massLimits, powers)\n",
    "\n",
    "# Make cluster                                                                                                                                                             \n",
    "cluster_mass = 10**6\n",
    "cluster = synthetic.ResolvedCluster(my_iso, trunc_kroupa, cluster_mass, ifmr=my_ifmr)\n",
    "output = cluster.star_systems"
   ]
  },
  {
   "cell_type": "code",
   "execution_count": 12,
   "metadata": {},
   "outputs": [
    {
     "name": "stdout",
     "output_type": "stream",
     "text": [
      "['mass', 'isMultiple', 'systemMass', 'Teff', 'L', 'logg', 'isWR', 'mass_current', 'phase', 'm_hst_f127m', 'm_hst_f139m', 'm_ubv_V', 'm_hst_f160w', 'm_hst_f153m', 'm_ubv_B', 'm_ubv_I', 'm_ubv_U', 'm_ubv_R', 'm_nirc2_H', 'm_nirc2_J', 'm_hst_f125w', 'm_hst_f814w', 'm_nirc2_Kp']\n"
     ]
    }
   ],
   "source": [
    "print(output.colnames)"
   ]
  },
  {
   "cell_type": "code",
   "execution_count": 16,
   "metadata": {},
   "outputs": [
    {
     "data": {
      "image/png": "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\n",
      "text/plain": [
       "<Figure size 432x288 with 1 Axes>"
      ]
     },
     "metadata": {},
     "output_type": "display_data"
    }
   ],
   "source": [
    "# Plot \"HR\" diagram\n",
    "# Not sure what is up with that point in the right corner...\n",
    "# THIS PLOT NEEDS UNITSSSS\n",
    "wd_idx = np.where(output['phase'] == 6)[0]\n",
    "lum = output['L'][wd_idx]\n",
    "temp = output['Teff'][wd_idx]\n",
    "py.plot(temp, lum, '.')\n",
    "py.gca().invert_xaxis()\n",
    "py.xscale('log')\n",
    "py.yscale('log')\n",
    "py.show()"
   ]
  },
  {
   "cell_type": "code",
   "execution_count": 20,
   "metadata": {},
   "outputs": [
    {
     "data": {
      "image/png": "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\n",
      "text/plain": [
       "<Figure size 432x288 with 1 Axes>"
      ]
     },
     "metadata": {},
     "output_type": "display_data"
    }
   ],
   "source": [
    "# The MIST (luminous) WDs\n",
    "wd_idx = np.where((output['phase'] == 6) & (output['logg'] > 1))[0]\n",
    "mass = output['mass'][wd_idx]\n",
    "radius = np.sqrt(output['mass'][wd_idx] / output['logg'][wd_idx])\n",
    "py.plot(mass, output['logg'][wd_idx], '.')\n",
    "#py.plot(mass, radius, '.')\n",
    "py.xscale('log')\n",
    "py.yscale('log')\n",
    "py.show()"
   ]
  },
  {
   "cell_type": "code",
   "execution_count": null,
   "metadata": {},
   "outputs": [],
   "source": []
  }
 ],
 "metadata": {
  "kernelspec": {
   "display_name": "Python 3",
   "language": "python",
   "name": "python3"
  },
  "language_info": {
   "codemirror_mode": {
    "name": "ipython",
    "version": 3
   },
   "file_extension": ".py",
   "mimetype": "text/x-python",
   "name": "python",
   "nbconvert_exporter": "python",
   "pygments_lexer": "ipython3",
  }
 },
 "nbformat": 4,
 "nbformat_minor": 2
}
