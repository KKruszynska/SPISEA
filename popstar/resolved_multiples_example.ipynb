{
 "cells": [
  {
   "cell_type": "code",
   "execution_count": 4,
   "metadata": {},
   "outputs": [
    {
     "ename": "ModuleNotFoundError",
     "evalue": "No module named 'pysynphot'",
     "output_type": "error",
     "traceback": [
      "\u001b[0;31m---------------------------------------------------------------------------\u001b[0m",
      "\u001b[0;31mModuleNotFoundError\u001b[0m                       Traceback (most recent call last)",
      "\u001b[0;32m<ipython-input-4-cccd48fc274b>\u001b[0m in \u001b[0;36m<module>\u001b[0;34m\u001b[0m\n\u001b[0;32m----> 1\u001b[0;31m \u001b[0;32mfrom\u001b[0m \u001b[0mspisea\u001b[0m \u001b[0;32mimport\u001b[0m \u001b[0msynthetic\u001b[0m\u001b[0;34m,\u001b[0m \u001b[0mevolution\u001b[0m\u001b[0;34m,\u001b[0m \u001b[0matmospheres\u001b[0m\u001b[0;34m,\u001b[0m \u001b[0mreddening\u001b[0m\u001b[0;34m,\u001b[0m \u001b[0mifmr\u001b[0m\u001b[0;34m\u001b[0m\u001b[0;34m\u001b[0m\u001b[0m\n\u001b[0m\u001b[1;32m      2\u001b[0m \u001b[0;32mfrom\u001b[0m \u001b[0mspisea\u001b[0m\u001b[0;34m.\u001b[0m\u001b[0mimf\u001b[0m \u001b[0;32mimport\u001b[0m \u001b[0mimf\u001b[0m\u001b[0;34m,\u001b[0m \u001b[0mmultiplicity\u001b[0m\u001b[0;34m\u001b[0m\u001b[0;34m\u001b[0m\u001b[0m\n\u001b[1;32m      3\u001b[0m \u001b[0;32mimport\u001b[0m \u001b[0mos\u001b[0m\u001b[0;34m,\u001b[0m \u001b[0msys\u001b[0m\u001b[0;34m,\u001b[0m \u001b[0mmath\u001b[0m\u001b[0;34m\u001b[0m\u001b[0;34m\u001b[0m\u001b[0m\n\u001b[1;32m      4\u001b[0m \u001b[0;32mimport\u001b[0m \u001b[0mnumpy\u001b[0m \u001b[0;32mas\u001b[0m \u001b[0mnp\u001b[0m\u001b[0;34m\u001b[0m\u001b[0;34m\u001b[0m\u001b[0m\n\u001b[1;32m      5\u001b[0m \u001b[0;32mfrom\u001b[0m \u001b[0mgcwork\u001b[0m \u001b[0;32mimport\u001b[0m \u001b[0morbits\u001b[0m\u001b[0;34m\u001b[0m\u001b[0;34m\u001b[0m\u001b[0m\n",
      "\u001b[0;32m~/code/multiplicity/PyPopStar/spisea/synthetic.py\u001b[0m in \u001b[0;36m<module>\u001b[0;34m\u001b[0m\n\u001b[1;32m      1\u001b[0m \u001b[0;32mimport\u001b[0m \u001b[0mnumpy\u001b[0m \u001b[0;32mas\u001b[0m \u001b[0mnp\u001b[0m\u001b[0;34m\u001b[0m\u001b[0;34m\u001b[0m\u001b[0m\n\u001b[1;32m      2\u001b[0m \u001b[0;32mimport\u001b[0m \u001b[0mpylab\u001b[0m \u001b[0;32mas\u001b[0m \u001b[0mplt\u001b[0m\u001b[0;34m\u001b[0m\u001b[0;34m\u001b[0m\u001b[0m\n\u001b[0;32m----> 3\u001b[0;31m \u001b[0;32mfrom\u001b[0m \u001b[0mspisea\u001b[0m \u001b[0;32mimport\u001b[0m \u001b[0mreddening\u001b[0m\u001b[0;34m\u001b[0m\u001b[0;34m\u001b[0m\u001b[0m\n\u001b[0m\u001b[1;32m      4\u001b[0m \u001b[0;32mfrom\u001b[0m \u001b[0mspisea\u001b[0m \u001b[0;32mimport\u001b[0m \u001b[0mevolution\u001b[0m\u001b[0;34m\u001b[0m\u001b[0;34m\u001b[0m\u001b[0m\n\u001b[1;32m      5\u001b[0m \u001b[0;32mfrom\u001b[0m \u001b[0mspisea\u001b[0m \u001b[0;32mimport\u001b[0m \u001b[0matmospheres\u001b[0m \u001b[0;32mas\u001b[0m \u001b[0matm\u001b[0m\u001b[0;34m\u001b[0m\u001b[0;34m\u001b[0m\u001b[0m\n",
      "\u001b[0;32m~/code/multiplicity/PyPopStar/spisea/reddening.py\u001b[0m in \u001b[0;36m<module>\u001b[0;34m\u001b[0m\n\u001b[1;32m      8\u001b[0m \u001b[0;32mimport\u001b[0m \u001b[0mnumpy\u001b[0m \u001b[0;32mas\u001b[0m \u001b[0mnp\u001b[0m\u001b[0;34m\u001b[0m\u001b[0;34m\u001b[0m\u001b[0m\n\u001b[1;32m      9\u001b[0m \u001b[0;32mfrom\u001b[0m \u001b[0mscipy\u001b[0m \u001b[0;32mimport\u001b[0m \u001b[0minterpolate\u001b[0m\u001b[0;34m\u001b[0m\u001b[0;34m\u001b[0m\u001b[0m\n\u001b[0;32m---> 10\u001b[0;31m \u001b[0;32mimport\u001b[0m \u001b[0mpysynphot\u001b[0m\u001b[0;34m\u001b[0m\u001b[0;34m\u001b[0m\u001b[0m\n\u001b[0m\u001b[1;32m     11\u001b[0m \u001b[0;32mfrom\u001b[0m \u001b[0mscipy\u001b[0m\u001b[0;34m.\u001b[0m\u001b[0mlinalg\u001b[0m \u001b[0;32mimport\u001b[0m \u001b[0msolve_banded\u001b[0m\u001b[0;34m\u001b[0m\u001b[0;34m\u001b[0m\u001b[0m\n\u001b[1;32m     12\u001b[0m \u001b[0;32mimport\u001b[0m \u001b[0mpdb\u001b[0m\u001b[0;34m\u001b[0m\u001b[0;34m\u001b[0m\u001b[0m\n",
      "\u001b[0;31mModuleNotFoundError\u001b[0m: No module named 'pysynphot'"
     ]
    }
   ],
   "source": [
    "from spisea import synthetic, evolution, atmospheres, reddening, ifmr\n",
    "from spisea.imf import imf, multiplicity\n",
    "import os, sys, math\n",
    "import numpy as np\n",
    "from gcwork import orbits\n",
    "from astropy.table import Table, Column, MaskedColumn\n",
    "import matplotlib.pyplot as plt\n",
    "from astropy.constants import G\n",
    "from astropy import units as u\n",
    "from copy import deepcopy\n",
    "from random import choice\n",
    "\n",
    "#for now orbits.py is is https://github.com/nsabrams/Microlensing_Multiple_Systems\n",
    "#clone that repo and change change this path to where the repo is located\n",
    "sys.path.insert(1, '/u/abrams/code/multiplicity/Microlensing_Multiple_Systems')\n",
    "import orbits as binary_orbits"
   ]
  },
  {
   "cell_type": "code",
   "execution_count": 6,
   "metadata": {},
   "outputs": [
    {
     "ename": "NameError",
     "evalue": "name 'synthetic' is not defined",
     "output_type": "error",
     "traceback": [
      "\u001b[0;31m---------------------------------------------------------------------------\u001b[0m",
      "\u001b[0;31mNameError\u001b[0m                                 Traceback (most recent call last)",
      "\u001b[0;32m<ipython-input-6-ee2a13bd23be>\u001b[0m in \u001b[0;36m<module>\u001b[0;34m\u001b[0m\n\u001b[1;32m      1\u001b[0m \u001b[0;32mimport\u001b[0m \u001b[0minspect\u001b[0m\u001b[0;34m\u001b[0m\u001b[0;34m\u001b[0m\u001b[0m\n\u001b[0;32m----> 2\u001b[0;31m \u001b[0mprint\u001b[0m\u001b[0;34m(\u001b[0m\u001b[0minspect\u001b[0m\u001b[0;34m.\u001b[0m\u001b[0mgetfile\u001b[0m\u001b[0;34m(\u001b[0m\u001b[0msynthetic\u001b[0m\u001b[0;34m)\u001b[0m\u001b[0;34m)\u001b[0m\u001b[0;34m\u001b[0m\u001b[0;34m\u001b[0m\u001b[0m\n\u001b[0m",
      "\u001b[0;31mNameError\u001b[0m: name 'synthetic' is not defined"
     ]
    }
   ],
   "source": [
    "import inspect\n",
    "print(inspect.getfile(synthetic))"
   ]
  },
  {
   "cell_type": "markdown",
   "metadata": {},
   "source": [
    "First we must generate the isochrone which takes a few minutes if it has not been done before. This is the same as without resolved binaries"
   ]
  },
  {
   "cell_type": "code",
   "execution_count": null,
   "metadata": {},
   "outputs": [],
   "source": [
    "# Fetch isochrone\n",
    "logAge = 6.70 # Age in log(years)\n",
    "AKs = 1.0 # Ks filter extinction in mags\n",
    "dist = 4000 # distance in parsecs\n",
    "metallicity = 0 # metallicity in [M/H]\n",
    "atm_func = atmospheres.get_merged_atmosphere\n",
    "evo_merged = evolution.MISTv1()\n",
    "redlaw = reddening.RedLawCardelli(3.1) # Rv = 3.1\n",
    "filt_list = ['nirc2,J', 'nirc2,Kp']\n",
    "\n",
    "iso_dir = 'iso_merged_r1/'\n",
    "\n",
    "if not os.path.exists(iso_dir):\n",
    "        os.mkdir(iso_dir)\n",
    "\n",
    "iso_merged = synthetic.IsochronePhot(logAge, AKs, dist, metallicity=metallicity,\n",
    "                                 evo_model=evo_merged, atm_func=atm_func,\n",
    "                                 filters=filt_list, red_law=redlaw,\n",
    "                                 iso_dir=iso_dir, mass_sampling=3)"
   ]
  },
  {
   "cell_type": "markdown",
   "metadata": {},
   "source": [
    "Next we make the cluster specifiying the MultiplicityResolvedDK multiplicity object and the ResolvedCluster_ResolvedMult resolved cluster object"
   ]
  },
  {
   "cell_type": "code",
   "execution_count": null,
   "metadata": {},
   "outputs": [],
   "source": [
    "# Now we can make the cluster. \n",
    "clust_mtot = 10**3.\n",
    "clust_multiplicity = multiplicity.MultiplicityResolvedDK()\n",
    "\n",
    "# Multiplicity is defined in the IMF object\n",
    "clust_imf_Mult = imf.Kroupa_2001(multiplicity=clust_multiplicity)"
   ]
  },
  {
   "cell_type": "code",
   "execution_count": null,
   "metadata": {},
   "outputs": [],
   "source": [
    "# Make clusters\n",
    "clust_Mult = synthetic.ResolvedCluster_ResolvedMult(iso_merged, clust_imf_Mult, clust_mtot)\n",
    "\n",
    "clust_Mult_ss = clust_Mult.star_systems"
   ]
  },
  {
   "cell_type": "markdown",
   "metadata": {},
   "source": [
    "Now we can add the random positions of the primary stars and the calculated positions of the companions"
   ]
  },
  {
   "cell_type": "code",
   "execution_count": null,
   "metadata": {},
   "outputs": [],
   "source": [
    "clust_Mult_ss_pos = binary_orbits.add_positions(clust_Mult_ss)\n",
    "clust_Mult.companions_pos = binary_orbits.add_mult_positions(clust_Mult.companions, clust_Mult_ss_pos, logAge)"
   ]
  },
  {
   "cell_type": "markdown",
   "metadata": {},
   "source": [
    "Next we can display the projected cluster where blue are the primary objects, orange are the secondary objects, and grey lines connect secondary objects with their primary one"
   ]
  },
  {
   "cell_type": "code",
   "execution_count": null,
   "metadata": {},
   "outputs": [],
   "source": [
    "binary_orbits.plot_projected_cluster(clust_Mult_ss_pos, clust_Mult.companions_pos)"
   ]
  },
  {
   "cell_type": "markdown",
   "metadata": {},
   "source": [
    "Finally we can plot a random orbit with the primary object is at (0,0) of a companion where the final position is marked with a star. A specific system can be ploted by specifying system = index_number in the function"
   ]
  },
  {
   "cell_type": "code",
   "execution_count": null,
   "metadata": {},
   "outputs": [],
   "source": [
    "binary_orbits.plot_companion_orbit(clust_Mult_ss_pos, clust_Mult.companions_pos, logAge)"
   ]
  },
  {
   "cell_type": "code",
   "execution_count": null,
   "metadata": {},
   "outputs": [],
   "source": []
  }
 ],
 "metadata": {
  "kernelspec": {
   "display_name": "Python 3",
   "language": "python",
   "name": "python3"
  },
  "language_info": {
   "codemirror_mode": {
    "name": "ipython",
    "version": 3
   },
   "file_extension": ".py",
   "mimetype": "text/x-python",
   "name": "python",
   "nbconvert_exporter": "python",
   "pygments_lexer": "ipython3",
   "version": "3.7.7"
  }
 },
 "nbformat": 4,
 "nbformat_minor": 2
}
